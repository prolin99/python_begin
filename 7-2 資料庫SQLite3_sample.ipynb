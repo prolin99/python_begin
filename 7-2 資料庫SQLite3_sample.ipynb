{
  "nbformat": 4,
  "nbformat_minor": 0,
  "metadata": {
    "colab": {
      "name": "SQLite3_sample.ipynb",
      "provenance": [],
      "authorship_tag": "ABX9TyNieEfc/pqemyAdWQQQr6An",
      "include_colab_link": true
    },
    "kernelspec": {
      "name": "python3",
      "display_name": "Python 3"
    }
  },
  "cells": [
    {
      "cell_type": "markdown",
      "metadata": {
        "id": "view-in-github",
        "colab_type": "text"
      },
      "source": [
        "<a href=\"https://colab.research.google.com/github/prolin99/python_begin/blob/main/7-1%20%E8%B3%87%E6%96%99%E5%BA%ABSQLite3_sample.ipynb\" target=\"_parent\"><img src=\"https://colab.research.google.com/assets/colab-badge.svg\" alt=\"Open In Colab\"/></a>"
      ]
    },
    {
      "cell_type": "markdown",
      "metadata": {
        "id": "VFnVEliN-N8s"
      },
      "source": [
        "# SQLite\r\n",
        "支援 SQL 語法，使用單一檔案儲存資料，很適合簡單的資料存放。\r\n",
        "\r\n",
        "參考文件[資料庫](https://colab.research.google.com/drive/1UNDDO94U49UvF6SforIXpKM_peid7UnC#scrollTo=HXd7HGX0KVvv)\r\n",
        "\r\n",
        "\r\n",
        "```\r\n",
        "# 建立資料表\r\n",
        "CREATE TABLE `資料表` (\r\n",
        "    `欄位1`    型別,\r\n",
        "    `欄位2`    型別,\r\n",
        "    `.....\r\n",
        ")\r\n",
        "\r\n",
        "SQLite 型別\r\n",
        "\r\n",
        "INTEGER：整數\r\n",
        "REAL：浮點數\r\n",
        "TEXT：文字\r\n",
        "BLOB：原始資料\r\n",
        "\r\n",
        "# 新增\r\n",
        "INSERT INTO `資料表` (`欄位1`, `欄位2`, ...)\r\n",
        "VALUES (值1, 值2, )\r\n",
        "\r\n",
        "# 讀取\r\n",
        "SELECT `欄位1`, `欄位2`, ...\r\n",
        "FROM `資料表`\r\n",
        "WHERE 條件1 and/or 條件2 ....\r\n",
        "ORDER BY 排序方式1, 排序方式2\r\n",
        "LIMIT 筆數限制\r\n",
        "\r\n",
        "\r\n",
        "# 更新\r\n",
        "UPDATE `資料表`\r\n",
        "SET `欄位1`=值1, `欄位2`=值2, ...\r\n",
        "WHERE 條件1 and/or 條件2 ....\r\n",
        "\r\n",
        "\r\n",
        "# Delete 刪除資料\r\n",
        "DELETE \r\n",
        "FROM `資料表`\r\n",
        "WHERE 條件1 and/or 條件2 ....\r\n",
        "\r\n",
        "\r\n",
        "\r\n",
        "\r\n",
        "```\r\n",
        "\r\n",
        "\r\n",
        "\r\n"
      ]
    },
    {
      "cell_type": "code",
      "metadata": {
        "id": "vsGotVLa-Gfz"
      },
      "source": [
        "import sqlite3\r\n",
        "conn = sqlite3.connect('stocks.db') # 如果資料庫不存在，會自動幫你建立\r\n",
        "sql_create_table = \"\"\"\r\n",
        "CREATE TABLE `stock_date` (\r\n",
        "\t`stock_id`\tINTEGER,\r\n",
        "\t`date`\tTEXT,\r\n",
        "\t`open`\tREAL,\r\n",
        "\t`high`\tREAL,\r\n",
        "\t`low`\tREAL,\r\n",
        "\t`close`\tREAL,\r\n",
        "\t`volume`\tINTEGER\r\n",
        ")\r\n",
        "\"\"\"\r\n",
        "cursor = conn.execute(sql_create_table)\r\n",
        "conn.close()"
      ],
      "execution_count": null,
      "outputs": []
    },
    {
      "cell_type": "code",
      "metadata": {
        "id": "BdkmO1uSAzt7"
      },
      "source": [
        "import sqlite3\r\n",
        "conn = sqlite3.connect('stocks.db')\r\n",
        "sql_ins = \"\"\"\r\n",
        "    INSERT INTO `stock_date` (`stock_id`, `date`, `open`, `high`, `low`, `close`, `volume`)  \r\n",
        "    VALUES ( 2330 ,'2020-03-03', 318.5, 320, 316, 317.5, 55169 )\r\n",
        "\"\"\"\r\n",
        "cursor = conn.execute(sql_ins)\r\n",
        "cursor = conn.commit()\r\n",
        "sql_ins2 = \"\"\"\r\n",
        "    INSERT INTO `stock_date` (`stock_id`, `date`, `open`, `high`, `low`, `close`, `volume`)  \r\n",
        "    VALUES ( 2330 ,'2020-03-03', 918.5, 320, 316, 317.5, 55169 )\r\n",
        "\"\"\"\r\n",
        "cursor = conn.execute(sql_ins2)\r\n",
        "cursor = conn.commit()\r\n",
        "conn.close()"
      ],
      "execution_count": null,
      "outputs": []
    },
    {
      "cell_type": "code",
      "metadata": {
        "colab": {
          "base_uri": "https://localhost:8080/"
        },
        "id": "212ScWthA_6f",
        "outputId": "e61c8c86-f70c-4a1a-be38-4315fa98818e"
      },
      "source": [
        "import sqlite3\r\n",
        "conn = sqlite3.connect('stocks.db')\r\n",
        "sql = \"\"\"\r\n",
        "    SELECT `stock_id`,`date`,`open`,`close`,`high`,`low`,`volume`, `volume`*1000\r\n",
        "    FROM `stock_date`\r\n",
        "    WHERE `date` = '2020-03-03' or `volume` >= 40000\r\n",
        "    ORDER BY `stock_id` DESC, `date`\r\n",
        "\"\"\"\r\n",
        "cursor = conn.execute(sql)\r\n",
        "for row in cursor.fetchall():\r\n",
        "    print(row)\r\n",
        "conn.close()"
      ],
      "execution_count": null,
      "outputs": [
        {
          "output_type": "stream",
          "text": [
            "(2330, '2020-03-03', 318.5, 317.5, 320.0, 316.0, 55169, 55169000)\n",
            "(2330, '2020-03-03', 918.5, 317.5, 320.0, 316.0, 55169, 55169000)\n"
          ],
          "name": "stdout"
        }
      ]
    }
  ]
}
