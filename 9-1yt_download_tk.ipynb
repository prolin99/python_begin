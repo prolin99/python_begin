{
  "nbformat": 4,
  "nbformat_minor": 0,
  "metadata": {
    "colab": {
      "name": "yt_download_tk.ipynb",
      "provenance": [],
      "collapsed_sections": [],
      "authorship_tag": "ABX9TyMRRp20PhCumeLmN6letbYb",
      "include_colab_link": true
    },
    "kernelspec": {
      "name": "python3",
      "display_name": "Python 3"
    }
  },
  "cells": [
    {
      "cell_type": "markdown",
      "metadata": {
        "id": "view-in-github",
        "colab_type": "text"
      },
      "source": [
        "<a href=\"https://colab.research.google.com/github/prolin99/python_begin/blob/main/9-1yt_download_tk.ipynb\" target=\"_parent\"><img src=\"https://colab.research.google.com/assets/colab-badge.svg\" alt=\"Open In Colab\"/></a>"
      ]
    },
    {
      "cell_type": "markdown",
      "metadata": {
        "id": "OvhCC0HuH_N9"
      },
      "source": [
        "# 視窗版 下載 youtube 影片\n",
        "* 使用 tkinter 、 pytube 模組\n",
        "* 需在本機中執行\n"
      ]
    },
    {
      "cell_type": "code",
      "metadata": {
        "id": "WDGYIVNQH9Sp"
      },
      "source": [
        "import tkinter as tk\n",
        "#下載 mp4 模組\n",
        "from pytube import YouTube\n",
        "import os\n",
        "\n",
        "\n",
        "window = tk.Tk()\n",
        "# 設定視窗標題、大小和背景顏色\n",
        "window.title('youtube Download App')\n",
        "window.geometry('480x200')\n",
        "#window.configure(background='white')\n",
        "\n",
        "def yt_download(url , media_type):\n",
        "    if media_type == \"1\":\n",
        "        video = YouTube(url).streams.first()\n",
        "\n",
        "    elif media_type == \"2\":\n",
        "        video = YouTube(url).streams.filter(only_audio = True).first()\n",
        "\n",
        "    else:\n",
        "        print(\"Invalid selection.\")\n",
        "    # 取得的 mp4 可在左方檔案找到\n",
        "    fn = video.download() \n",
        "\n",
        "    # 改名\n",
        "    if media_type == \"2\":\n",
        "        mp3_fn = fn.replace(\".mp4\" , \".mp3\")\n",
        "        os.rename( fn , mp3_fn)\n",
        "        fn = mp3_fn\n",
        "    return fn \n",
        "\n",
        "def download_it():\n",
        "    url = url_entry.get()\n",
        "    media_type = m_entry.get()\n",
        "    result_label.configure(text='下載中....')\n",
        "    fn = yt_download(url , media_type)\n",
        "    result_label.configure(text='下載完成：'+ fn )\n",
        "\n",
        "\n",
        "header_label = tk.Label(window, text='下載 youtube 影片')\n",
        "header_label.pack()\n",
        "\n",
        "# 以下為 height_frame 群組\n",
        "height_frame = tk.Frame(window)\n",
        "# 向上對齊父元件\n",
        "height_frame.pack(side=tk.TOP)\n",
        "url_label = tk.Label(height_frame, text='youtube網址：')\n",
        "url_label.pack(side=tk.LEFT)\n",
        "url_entry = tk.Entry(height_frame)\n",
        "url_entry.pack(side=tk.LEFT)\n",
        "\n",
        "# 以下為 weight_frame 群組\n",
        "weight_frame = tk.Frame(window)\n",
        "weight_frame.pack(side=tk.TOP)\n",
        "m_label = tk.Label(weight_frame, text='1.mp4 2.mp3：')\n",
        "m_label.pack(side=tk.LEFT)\n",
        "m_entry = tk.Entry(weight_frame)\n",
        "m_entry.pack(side=tk.LEFT)\n",
        "\n",
        "# 結果文字\n",
        "result_label = tk.Label(window)\n",
        "result_label.pack()\n",
        "\n",
        "# 下載按鍵\n",
        "Download_btn = tk.Button(window, text='馬上下載', command = download_it,)\n",
        "Download_btn.pack()\n",
        "\n",
        "\n",
        "# 運行主程式\n",
        "window.mainloop()\n",
        "\n"
      ],
      "execution_count": null,
      "outputs": []
    },
    {
      "cell_type": "markdown",
      "metadata": {
        "id": "Al4tshiWIwNW"
      },
      "source": [
        "## 注意：\n",
        "上面的程式只一個簡易可用程式，如果輸入值不正確，可能會出現錯誤，這部份請再加強。\n",
        "\n",
        "## 參考內容：\n",
        "* [視窗圖形介面的Youtube影片下載程式](https://zh-tw.coderbridge.com/series/c471d97bb201460ab137c5e4955987df)\n",
        "* [如何使用 Python Tkinter 製作 GUI 應用程式入門教學](https://blog.techbridge.cc/2019/09/21/how-to-use-python-tkinter-to-make-gui-app-tutorial/)\n"
      ]
    }
  ]
}