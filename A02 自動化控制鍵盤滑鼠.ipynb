{
  "nbformat": 4,
  "nbformat_minor": 0,
  "metadata": {
    "colab": {
      "name": "pyautugui.ipynb",
      "provenance": [],
      "collapsed_sections": [],
      "authorship_tag": "ABX9TyNzHOj0NZHejWBxmmPq3xzn",
      "include_colab_link": true
    },
    "kernelspec": {
      "name": "python3",
      "display_name": "Python 3"
    }
  },
  "cells": [
    {
      "cell_type": "markdown",
      "metadata": {
        "id": "view-in-github",
        "colab_type": "text"
      },
      "source": [
        "<a href=\"https://colab.research.google.com/github/prolin99/python_begin/blob/main/A02%20%E8%87%AA%E5%8B%95%E5%8C%96%E6%8E%A7%E5%88%B6%E9%8D%B5%E7%9B%A4%E6%BB%91%E9%BC%A0.ipynb\" target=\"_parent\"><img src=\"https://colab.research.google.com/assets/colab-badge.svg\" alt=\"Open In Colab\"/></a>"
      ]
    },
    {
      "cell_type": "markdown",
      "metadata": {
        "id": "aTy3EJUIzz-J"
      },
      "source": [
        "# pyautogui 自動化控制鍵盤、滑鼠\n",
        "\n",
        "pip install pyautogui\n",
        "\n",
        "程式需在本地端操作"
      ]
    },
    {
      "cell_type": "code",
      "metadata": {
        "id": "qMVXB52yzzCJ"
      },
      "source": [
        "import pyautogui \n",
        "#每個 pyautogui 函數會間隔一秒\n",
        "pyautogui.PAUSE =1\n",
        "#程式錯誤時自動停止\n",
        "pyautogui.FAILSAFE = True\n",
        "\n",
        "#取得螢幕解析度\n",
        "width, height = pyautogui.size()\n",
        "print('width:{} ,height:{}'.format(width, height ))\n",
        "\n",
        "#滑鼠移動矩形\n",
        "for i in range(3):\n",
        "    pyautogui.moveTo(100,100 , duration=0.25)\n",
        "    pyautogui.moveTo(500,100 , duration=0.25)\n",
        "    pyautogui.moveTo(500,500 , duration=0.25)\n",
        "    pyautogui.moveTo(100,500 , duration=0.25)\n",
        "\n",
        "#滑鼠右鍵\n",
        "pyautogui.click(200,500, button='right')\n",
        "\n",
        "print(pyautogui.position())"
      ],
      "execution_count": null,
      "outputs": []
    },
    {
      "cell_type": "markdown",
      "metadata": {
        "id": "_tpdZg1o8JuL"
      },
      "source": [
        "## 表單填寫自動化示範\n",
        "使用 tab 在網頁中定位，但可能因輸入法等因素造成錯誤"
      ]
    },
    {
      "cell_type": "code",
      "metadata": {
        "id": "OhMKfjEd3giX"
      },
      "source": [
        "import webbrowser\n",
        "import time \n",
        "import pyautogui\n",
        "import pyperclip\n",
        "\n",
        "#使用 tab 在網頁中定位，但可能因輸入法等因素造成錯誤\n",
        "\n",
        "\n",
        "webbrowser.open('https://docs.google.com/forms/d/e/1FAIpQLSd6k-VO-qvG138G7spFvSxOjrk6rBBhGo-5p6NaiouQkBJypw/viewform?usp=sf_link')\n",
        "\n",
        "\n",
        "time.sleep(2)\n",
        "\n",
        "#點到網頁\n",
        "pyautogui.click(200,200)\n",
        "\n",
        "#第一個輸入點  姓名\n",
        "pyautogui.press('\\t')\n",
        "\n",
        "pyautogui.typewrite('Alice' + '\\t')\n",
        "time.sleep(0.5)\n",
        "\n",
        "# 第二個輸入點選擇 -->選擇2\n",
        "pyautogui.press(['down','\\t','\\t'])\n",
        "time.sleep(0.5)\n",
        "# 選擇第一個時 \n",
        "#pyautogui.press([ 'space','\\t' ,'\\t'])\n",
        "#time.sleep(0.5)\n",
        "\n",
        "# 第三個輸入點 下拉 -->選擇第一個\n",
        "pyautogui.press('down')\n",
        "time.sleep(0.5)\n",
        "pyautogui.press( 'space' ) \n",
        "time.sleep(0.5)\n",
        "pyautogui.press('\\t') \n",
        "time.sleep(0.5)\n",
        "\n",
        "#說明文字 中文需要使用複製貼上功能\n",
        "pyperclip.copy('中文字訊息')\n",
        "\n",
        "pyautogui.hotkey('ctrl', 'v')\n",
        "pyautogui.press('\\t') \n",
        "time.sleep(0.5)\n",
        "\n",
        "# 英文字可直接上字\n",
        "#pyautogui.typewrite('no detail'  + '\\t')\n",
        "\n",
        "#填寫完成，確定鍵\n",
        "pyautogui.press('enter')"
      ],
      "execution_count": null,
      "outputs": []
    }
  ]
}