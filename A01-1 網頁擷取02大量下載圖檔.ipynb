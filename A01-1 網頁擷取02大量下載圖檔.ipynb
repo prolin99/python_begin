{
  "nbformat": 4,
  "nbformat_minor": 0,
  "metadata": {
    "colab": {
      "name": "網頁擷取02大量下載圖檔.ipynb",
      "provenance": [],
      "authorship_tag": "ABX9TyNKJ4RNzv1Q54otS9YzvPfa",
      "include_colab_link": true
    },
    "kernelspec": {
      "name": "python3",
      "display_name": "Python 3"
    },
    "language_info": {
      "name": "python"
    }
  },
  "cells": [
    {
      "cell_type": "markdown",
      "metadata": {
        "id": "view-in-github",
        "colab_type": "text"
      },
      "source": [
        "<a href=\"https://colab.research.google.com/github/prolin99/python_begin/blob/main/A01-1%20%E7%B6%B2%E9%A0%81%E6%93%B7%E5%8F%9602%E5%A4%A7%E9%87%8F%E4%B8%8B%E8%BC%89%E5%9C%96%E6%AA%94.ipynb\" target=\"_parent\"><img src=\"https://colab.research.google.com/assets/colab-badge.svg\" alt=\"Open In Colab\"/></a>"
      ]
    },
    {
      "cell_type": "markdown",
      "metadata": {
        "id": "IB5NV2yStr6U"
      },
      "source": [
        "#下載圖檔\n",
        "* [xkcd](https://xkcd.com/) 下載這網站的全部圖檔範例程式\n",
        "\n",
        "\n",
        "\n"
      ]
    },
    {
      "cell_type": "code",
      "metadata": {
        "colab": {
          "base_uri": "https://localhost:8080/",
          "height": 379
        },
        "id": "7XZTogIOtp36",
        "outputId": "961e983a-c97e-44ce-e03a-e8aa078b419b"
      },
      "source": [
        "import requests, os, bs4 , time\n",
        "\n",
        "url = 'https://xkcd.com'\n",
        "\n",
        "# 建立下載檔案存放目錄處\n",
        "os.makedirs('xkcd', exist_ok = True)\n",
        "try:\n",
        "    while not url.endswith('#'):\n",
        "        print('Downloading page {}'.format(url))\n",
        "        res = requests.get(url)\n",
        "        #如果網路取得有問題，會產生異常\n",
        "        res.raise_for_status()\n",
        "\n",
        "\n",
        "        soup = bs4.BeautifulSoup(res.text , \"html.parser\")\n",
        "\n",
        "        # <a rel=\"prev\" href=\"/863/\" accesskey=\"p\">&lt; Prev</a>\n",
        "        # 取得前一張圖位置\n",
        "        prevLink = soup.select('a[rel=\"prev\"]')[0]\n",
        "        url = 'https://xkcd.com' + prevLink.get('href')\n",
        "\n",
        "\n",
        "        #<img src=\"//imgs.xkcd.com/comics/flying_cars.png\" title=\"It's hard to fit in the backseat of my flying car with my android Realdoll when we're both wearing jetpacks.\" alt=\"Flying Cars\" style=\"image-orientation:none\">\n",
        "        # 下載圖檔\n",
        "        comic_lst = soup.select('#comic img')\n",
        "        for image in comic_lst:\n",
        "            comicUrl = 'https:' +  image.get('src')\n",
        "            #comicUrl = 'https:' +  image['src']    #也可 image['src']\n",
        "\n",
        "            print(comicUrl)\n",
        "            #圖檔 stream=True 可以避免立即將大的 response 內容讀入記憶體內\n",
        "            r = requests.get(comicUrl , stream=True)\n",
        "            r.raise_for_status()\n",
        "\n",
        "            imageFile = os.path.join('xkcd', comicUrl.split(\"/\")[-1] )\n",
        "\n",
        "            with open(imageFile, 'wb') as f:\n",
        "                # 大檔案使用 iter_content \n",
        "                for chunk in r.iter_content(100000):\n",
        "                    f.write(chunk)\n",
        "\n",
        "\n",
        "        time.sleep(2)\n",
        "\n",
        "except Exception as exc:\n",
        "    print('There was a problem: {}'.format(exc))\n",
        "\n",
        "\n",
        "\n",
        "print('Done')\n",
        "\n"
      ],
      "execution_count": 1,
      "outputs": [
        {
          "output_type": "stream",
          "text": [
            "Downloading page https://xkcd.com/2433/\n",
            "https://imgs.xkcd.com/comics/mars_rovers.png\n",
            "Downloading page https://xkcd.com/2432/\n",
            "https://imgs.xkcd.com/comics/manage_your_preferences.png\n",
            "Downloading page https://xkcd.com/2431/\n",
            "https://imgs.xkcd.com/comics/leap_year_2021.png\n",
            "Downloading page https://xkcd.com/2430/\n",
            "https://imgs.xkcd.com/comics/post_pandemic_hat.png\n"
          ],
          "name": "stdout"
        },
        {
          "output_type": "error",
          "ename": "KeyboardInterrupt",
          "evalue": "ignored",
          "traceback": [
            "\u001b[0;31m---------------------------------------------------------------------------\u001b[0m",
            "\u001b[0;31mKeyboardInterrupt\u001b[0m                         Traceback (most recent call last)",
            "\u001b[0;32m<ipython-input-1-846001815ed5>\u001b[0m in \u001b[0;36m<module>\u001b[0;34m()\u001b[0m\n\u001b[1;32m     41\u001b[0m \u001b[0;34m\u001b[0m\u001b[0m\n\u001b[1;32m     42\u001b[0m \u001b[0;34m\u001b[0m\u001b[0m\n\u001b[0;32m---> 43\u001b[0;31m         \u001b[0mtime\u001b[0m\u001b[0;34m.\u001b[0m\u001b[0msleep\u001b[0m\u001b[0;34m(\u001b[0m\u001b[0;36m2\u001b[0m\u001b[0;34m)\u001b[0m\u001b[0;34m\u001b[0m\u001b[0;34m\u001b[0m\u001b[0m\n\u001b[0m\u001b[1;32m     44\u001b[0m \u001b[0;34m\u001b[0m\u001b[0m\n\u001b[1;32m     45\u001b[0m \u001b[0;32mexcept\u001b[0m \u001b[0mException\u001b[0m \u001b[0;32mas\u001b[0m \u001b[0mexc\u001b[0m\u001b[0;34m:\u001b[0m\u001b[0;34m\u001b[0m\u001b[0;34m\u001b[0m\u001b[0m\n",
            "\u001b[0;31mKeyboardInterrupt\u001b[0m: "
          ]
        }
      ]
    },
    {
      "cell_type": "code",
      "metadata": {
        "colab": {
          "base_uri": "https://localhost:8080/"
        },
        "id": "_140TLBjuPnh",
        "outputId": "18340e26-c1d1-42b8-8a7c-38a41437c73b"
      },
      "source": [
        "!pwd\n"
      ],
      "execution_count": 10,
      "outputs": [
        {
          "output_type": "stream",
          "text": [
            "/content\n"
          ],
          "name": "stdout"
        }
      ]
    },
    {
      "cell_type": "code",
      "metadata": {
        "colab": {
          "base_uri": "https://localhost:8080/"
        },
        "id": "X34IXxi1uvdK",
        "outputId": "6816a60f-d949-407e-83fd-1929a5d27a96"
      },
      "source": [
        "!ls"
      ],
      "execution_count": 11,
      "outputs": [
        {
          "output_type": "stream",
          "text": [
            "sample_data  xkcd\n"
          ],
          "name": "stdout"
        }
      ]
    },
    {
      "cell_type": "code",
      "metadata": {
        "colab": {
          "base_uri": "https://localhost:8080/"
        },
        "id": "KNRQ-d47uluq",
        "outputId": "2ecde966-df07-4c66-800e-651a9411cfe5"
      },
      "source": [
        "!ls xkcd"
      ],
      "execution_count": 14,
      "outputs": [
        {
          "output_type": "stream",
          "text": [
            "circles.png\t\t     mars_rovers.png\t     solar_system_cartogram.png\n",
            "geothmetic_meandian.png      post_pandemic_hat.png   vaccine_guidance.png\n",
            "leap_year_2021.png\t     post_vaccine_party.png\n",
            "manage_your_preferences.png  siri.png\n"
          ],
          "name": "stdout"
        }
      ]
    }
  ]
}