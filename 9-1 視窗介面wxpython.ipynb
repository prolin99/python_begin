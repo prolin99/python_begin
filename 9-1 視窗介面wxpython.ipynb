{
  "nbformat": 4,
  "nbformat_minor": 0,
  "metadata": {
    "colab": {
      "name": "視窗介面wxpython.ipynb",
      "provenance": [],
      "authorship_tag": "ABX9TyNXNkJQgibeMK0+earjXouR",
      "include_colab_link": true
    },
    "kernelspec": {
      "name": "python3",
      "display_name": "Python 3"
    }
  },
  "cells": [
    {
      "cell_type": "markdown",
      "metadata": {
        "id": "view-in-github",
        "colab_type": "text"
      },
      "source": [
        "<a href=\"https://colab.research.google.com/github/prolin99/python_begin/blob/main/9-1%20%E8%A6%96%E7%AA%97%E4%BB%8B%E9%9D%A2wxpython.ipynb\" target=\"_parent\"><img src=\"https://colab.research.google.com/assets/colab-badge.svg\" alt=\"Open In Colab\"/></a>"
      ]
    },
    {
      "cell_type": "markdown",
      "metadata": {
        "id": "PMGVgesRZVN6"
      },
      "source": [
        "# 視窗介面 wxPython\n",
        "* pip install wxpython\n",
        "* https://wxpython.org/\n",
        "* [wxFormBuilder 可視化製作工具](https://github.com/wxFormBuilder/wxFormBuilder)\n",
        "\n",
        "> wxPython 可以使用視覺化的工具，直接製作畫面，並同時產生相對映的 python 程式。但建議不要直接對該程式直接修改，因為你可能再次修改畫面的安排，那原先的修改會出現問題。\n",
        "\n",
        "> 比較好的方式，\n",
        "\n",
        "* 把自動產生的 noname.py 改名 wxGUI.py\n",
        "* 再寫個繼承程式如下： 再改寫按下按鈕等函式。"
      ]
    },
    {
      "cell_type": "code",
      "metadata": {
        "id": "gtvuHyzYZUTl"
      },
      "source": [
        "import wx\n",
        "import wxGUI\n",
        " \n",
        "\n",
        "class GuiFrame(wxGUI.MyFrame1):\n",
        "    def __init__(self,parent):\n",
        "        wxGUI.MyFrame1.__init__(self, parent)\n",
        "    \n",
        "    def fun_sel(self,event):\n",
        "        self.name= self.m_name.GetValue()\n",
        "        self.pwd = self.m_pwd.GetValue()\n",
        "        print(self.name, self.pwd)\n",
        " \n",
        "        self.Destroy()\n",
        "\n",
        "if __name__ =='__main__':\n",
        "    app = wx.App()\n",
        "    frm = GuiFrame(None)\n",
        "    frm.Show()\n",
        "    app.MainLoop()"
      ],
      "execution_count": null,
      "outputs": []
    }
  ]
}