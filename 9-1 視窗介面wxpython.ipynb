{
  "nbformat": 4,
  "nbformat_minor": 0,
  "metadata": {
    "colab": {
      "name": "視窗介面wxpython.ipynb",
      "provenance": [],
      "collapsed_sections": [],
      "authorship_tag": "ABX9TyPtJ1UAT/hibQIOi+aWtXA7",
      "include_colab_link": true
    },
    "kernelspec": {
      "name": "python3",
      "display_name": "Python 3"
    }
  },
  "cells": [
    {
      "cell_type": "markdown",
      "metadata": {
        "id": "view-in-github",
        "colab_type": "text"
      },
      "source": [
        "<a href=\"https://colab.research.google.com/github/prolin99/python_begin/blob/main/9-1%20%E8%A6%96%E7%AA%97%E4%BB%8B%E9%9D%A2wxpython.ipynb\" target=\"_parent\"><img src=\"https://colab.research.google.com/assets/colab-badge.svg\" alt=\"Open In Colab\"/></a>"
      ]
    },
    {
      "cell_type": "markdown",
      "metadata": {
        "id": "PMGVgesRZVN6"
      },
      "source": [
        "# 視窗介面 wxPython\n",
        "* pip install wxpython\n",
        "* https://wxpython.org/\n",
        "* [wxFormBuilder 可視化製作工具](https://github.com/wxFormBuilder/wxFormBuilder)\n",
        "\n",
        "> wxPython 可以使用視覺化的工具，直接製作畫面，並同時產生相對映的 python 程式。但建議不要直接對該程式直接修改，因為你可能再次修改畫面的安排，那原先的修改會出現問題。\n",
        "\n",
        "> 比較好的方式，\n",
        "\n",
        "* 把自動產生的 noname.py 改名 wxGUI.py\n",
        "* 再寫個繼承程式如下： 再改寫按下按鈕等函式。\n",
        "\n",
        "\n",
        "\n",
        "> 程式範例參考：[wxPython tutorial](https://zetcode.com/wxpython/) "
      ]
    },
    {
      "cell_type": "code",
      "metadata": {
        "id": "gtvuHyzYZUTl"
      },
      "source": [
        "import wx\n",
        "import wxGUI\n",
        " \n",
        "\n",
        "class GuiFrame(wxGUI.MyFrame1):\n",
        "    def __init__(self,parent):\n",
        "        wxGUI.MyFrame1.__init__(self, parent)\n",
        "    \n",
        "    def fun_sel(self,event):\n",
        "        self.name= self.m_name.GetValue()\n",
        "        self.pwd = self.m_pwd.GetValue()\n",
        "        print(self.name, self.pwd)\n",
        " \n",
        "        self.Destroy()\n",
        "\n",
        "if __name__ =='__main__':\n",
        "    app = wx.App()\n",
        "    frm = GuiFrame(None)\n",
        "    frm.Show()\n",
        "    app.MainLoop()"
      ],
      "execution_count": null,
      "outputs": []
    },
    {
      "cell_type": "markdown",
      "metadata": {
        "id": "lqXadwWEycA2"
      },
      "source": [
        "## 簡易文字編輯程式示範\n",
        "使用 wxFormBuilder，Frame 中加入以下內容\n",
        "* 選單 File   ，分別名稱、快捷鍵、啟動函數\n",
        "** &Open  Ctrl+O   (f_open)\n",
        "** Save  Ctrl+S    (f_save)\n",
        "** saveAs          (f_saveAs)\n",
        "** Close           (f_close)\n",
        "*Layout BoxSizer\n",
        "** textCtrl1    (style)wxTE_MULTILINE (sizeritem)proportion 1 (flag)wxEXPAND  (多行 自動伸展1）\n",
        "\n",
        "再把產生的 noname.py 改名 wxGUI.py"
      ]
    },
    {
      "cell_type": "code",
      "metadata": {
        "id": "ecVVkENJ0rqD"
      },
      "source": [
        "import wx\n",
        "import wxGUI\n",
        "\n",
        "\n",
        "class GuiFrame(wxGUI.MyFrame1):\n",
        "    def __init__(self,parent):\n",
        "        wxGUI.MyFrame1.__init__(self, parent)\n",
        "        self.filename=''\n",
        "\n",
        "    def f_close(self,event):\n",
        "        self.Destroy()\n",
        "\n",
        "\n",
        "    def f_open(self,event):\n",
        "        dlg = wx.FileDialog(self, \"Choose a file\", self.filename, \"\", \"Python files (*.py)|*.py\", wx.FD_OPEN)\n",
        "        if dlg.ShowModal() == wx.ID_OK:\n",
        "            #self.filename = dlg.GetFilename()\n",
        "            #self.filename = dlg.GetDirectory()\n",
        "            self.filename =dlg.GetPath()\n",
        "            with open(self.filename, 'r') as f:\n",
        "                contents = f.read()\n",
        "                self.m_textCtrl1.SetValue(contents)\n",
        "\n",
        "            dlg.Destroy()\n",
        "            frm.SetTitle( 'text editor--' + self.filename)\n",
        "\n",
        "    def f_save(self,event):\n",
        "        if self.filename:\n",
        "            with open(self.filename, 'w') as f :\n",
        "                contests = self.m_textCtrl1.GetValue()\n",
        "                f.write(contests)\n",
        "        else:\n",
        "            self.f_seveAs(self)\n",
        "\n",
        "    def f_seveAs(self, event):\n",
        "        #print('save as...')\n",
        "        dlg = wx.FileDialog(self, \"Input setting file path\", \"\", \"\", \"Python files(*.py)|*.*\", wx.FD_SAVE)\n",
        "\n",
        "        if dlg.ShowModal() == wx.ID_OK:\n",
        "            self.filename = dlg.GetPath()\n",
        "            with open(self.filename, \"w\") as f:\n",
        "                contests = self.m_textCtrl1.GetValue()\n",
        "                f.write(contests)\n",
        "                frm.SetTitle( 'text editor--' + self.filename)\n",
        "            dlg.Destroy()\n",
        "\n",
        "\n",
        "if __name__ =='__main__':\n",
        "    app = wx.App()\n",
        "    frm = GuiFrame(None)\n",
        "    frm.Show()\n",
        "    app.MainLoop()"
      ],
      "execution_count": null,
      "outputs": []
    }
  ]
}