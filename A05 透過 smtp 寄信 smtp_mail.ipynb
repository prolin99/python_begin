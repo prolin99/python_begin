{
  "nbformat": 4,
  "nbformat_minor": 0,
  "metadata": {
    "colab": {
      "name": "smtp mail.ipynb",
      "provenance": [],
      "collapsed_sections": [],
      "authorship_tag": "ABX9TyNXMmOkWpC24WiG6lF3qLX+",
      "include_colab_link": true
    },
    "kernelspec": {
      "name": "python3",
      "display_name": "Python 3"
    },
    "language_info": {
      "name": "python"
    }
  },
  "cells": [
    {
      "cell_type": "markdown",
      "metadata": {
        "id": "view-in-github",
        "colab_type": "text"
      },
      "source": [
        "<a href=\"https://colab.research.google.com/github/prolin99/python_begin/blob/main/A05%20%E9%80%8F%E9%81%8E%20smtp%20%E5%AF%84%E4%BF%A1%20smtp_mail.ipynb\" target=\"_parent\"><img src=\"https://colab.research.google.com/assets/colab-badge.svg\" alt=\"Open In Colab\"/></a>"
      ]
    },
    {
      "cell_type": "markdown",
      "source": [
        "# smtp 寄信\n",
        "以 mail.tn.edu.tw 為例\n",
        "\n",
        "port 25 未加密  465 加密\n",
        "\n",
        "**如果要使用 gmail 寄信，得開設雙重認證，以下的內容無法直接使用**"
      ],
      "metadata": {
        "id": "3hXT57Gs2Ur5"
      }
    },
    {
      "cell_type": "code",
      "execution_count": null,
      "metadata": {
        "id": "5Fnvg9j02K-e"
      },
      "outputs": [],
      "source": [
        "import smtplib\n",
        "from email.mime.text import MIMEText\n",
        "from email.header import Header\n",
        "from email.utils import formataddr\n",
        "\n",
        "\n",
        "\n",
        "mail_host=\"mail.tn.edu.tw\" #設定伺服器\n",
        "mail_user=\"prolin@tn.edu.tw\" #使用者名稱\n",
        "mail_pass=\"password  here\" #\n",
        "\n",
        "sender = 'prolin@tn.edu.tw'\n",
        "receivers = 'prolin99@gmail.com' # 接收郵件\n",
        "\n",
        "#內容\n",
        "message = MIMEText('Python 郵件傳送測試..002.', 'plain', 'utf-8')\n",
        "\n",
        "\n",
        "#message['From'] = sender # 傳送者\n",
        "message['From'] = formataddr(('sender name ', sender)) # 傳送者 姓名及 mail\n",
        "message['To'] = receivers # 接收者\n",
        "#主題\n",
        "subject = 'Python SMTP 郵件測試 002'\n",
        "message['Subject'] = Header(subject, 'utf-8')\n",
        "\n",
        "\n",
        "try :\n",
        "    #smtpObj.connect(mail_host, '465') # 25 為 SMTP 埠號 465\n",
        "    smtpObj = smtplib.SMTP_SSL(mail_host, 465)\n",
        "    smtpObj.ehlo()\n",
        "\n",
        "    smtpObj.login(mail_user,mail_pass)\n",
        "\n",
        "\n",
        "    smtpObj.sendmail(sender, receivers, message.as_string())\n",
        "    smtpObj.quit()\n",
        "    print('sendmail ok.')\n",
        "except :\n",
        "    print('senmail error.')"
      ]
    },
    {
      "cell_type": "markdown",
      "source": [
        "#以 HTML 格式寄信"
      ],
      "metadata": {
        "id": "HGV_1fdy28p9"
      }
    },
    {
      "cell_type": "code",
      "source": [
        "import smtplib\n",
        "from email.mime.text import MIMEText\n",
        "from email.header import Header\n",
        "from email.utils import formataddr\n",
        "\n",
        "\n",
        "\n",
        "mail_host=\"mail.tn.edu.tw\" #設定伺服器\n",
        "mail_user=\"prolin@tn.edu.tw\" #使用者名稱\n",
        "mail_pass=\"password  here\" #\n",
        "\n",
        "sender = 'prolin@tn.edu.tw'\n",
        "receivers = 'prolin99@gmail.com' # 接收郵件\n",
        "\n",
        "#內容\n",
        "message = MIMEText('''Python 郵件傳送測試html \n",
        "<table border=\"1\">\n",
        "<tr><td bgcolor=\"#CECFAD\">格子1-1</td><td>格子1-2</td></tr>\n",
        "<tr><td bgcolor=\"#CECFAD\">格子2-1</td><td>格子2-2</td></tr>\n",
        "</table>\n",
        "''', 'html', 'utf-8')\n",
        "\n",
        "\n",
        "#message['From'] = sender # 傳送者\n",
        "message['From'] = formataddr(('sender name ', sender)) # 傳送者 姓名及 mail\n",
        "message['To'] = receivers # 接收者\n",
        "#主題\n",
        "subject = 'Python SMTP 郵件測試 '\n",
        "message['Subject'] = Header(subject, 'utf-8')\n",
        "\n",
        "\n",
        "try :\n",
        "    #smtpObj.connect(mail_host, '465') # 25 為 SMTP 埠號 465\n",
        "    smtpObj = smtplib.SMTP_SSL(mail_host, 465)\n",
        "    smtpObj.ehlo()\n",
        "\n",
        "    smtpObj.login(mail_user,mail_pass)\n",
        "\n",
        "\n",
        "    smtpObj.sendmail(sender, receivers, message.as_string())\n",
        "    smtpObj.quit()\n",
        "    print('sendmail ok.')\n",
        "except :\n",
        "    print('senmail error.')"
      ],
      "metadata": {
        "id": "7z7zKp1o3CrO"
      },
      "execution_count": null,
      "outputs": []
    },
    {
      "cell_type": "markdown",
      "source": [
        "#加上附件檔案"
      ],
      "metadata": {
        "id": "qW-IhF2C5jka"
      }
    },
    {
      "cell_type": "code",
      "source": [
        "import smtplib\n",
        "from email.mime.text import MIMEText\n",
        "from email.header import Header\n",
        "from email.utils import formataddr\n",
        "from email.mime.multipart import MIMEMultipart\n",
        "\n",
        "\n",
        "\n",
        "mail_host=\"mail.tn.edu.tw\" #設定伺服器\n",
        "mail_user=\"prolin@tn.edu.tw\" #使用者名稱\n",
        "mail_pass=\"password  here\" #\n",
        "\n",
        "sender = 'prolin@tn.edu.tw'\n",
        "receivers = 'prolin99@gmail.com' # 接收郵件\n",
        "\n",
        "#建立一個帶附件的例項\n",
        "message = MIMEMultipart()\n",
        "\n",
        "message['From'] = formataddr(('sender name ', sender)) # 傳送者 姓名及 mail\n",
        "message['To'] = receivers # 接收者\n",
        "subject = 'Python SMTP 郵件測試 加附檔'\n",
        "message['Subject'] = Header(subject, 'utf-8')\n",
        "\n",
        "#郵件正文內容\n",
        "message.attach(MIMEText('這是入門教學Python 郵件傳送測試……', 'plain', 'utf-8'))\n",
        "# 附件1，檔案位置要確認要\n",
        "att1 = MIMEText(open('/home/user/git/python-p/sheet/kid.png', 'rb').read(), 'base64', 'utf-8')\n",
        "att1[\"Content-Type\"] = 'application/octet-stream'\n",
        "# 這裡的filename可以任意寫，寫什麼名字，郵件中顯示什麼名字\n",
        "att1[\"Content-Disposition\"] = 'attachment; filename=\"kid.png\"'\n",
        "message.attach(att1)\n",
        "\n",
        "# 附件2，傳送當前目錄下的 itread01.txt 檔案\n",
        "#att2 = MIMEText(open('itread01.txt', 'rb').read(), 'base64', 'utf-8')\n",
        "#att2[\"Content-Type\"] = 'application/octet-stream'\n",
        "#att2[\"Content-Disposition\"] = 'attachment; filename=\"itread01.txt\"'\n",
        "#message.attach(att2)\n",
        "\n",
        "\n",
        "\n",
        "try :\n",
        "    #smtpObj.connect(mail_host, '465') # 25 為 SMTP 埠號 465\n",
        "    smtpObj = smtplib.SMTP_SSL(mail_host, 465)\n",
        "    smtpObj.ehlo()\n",
        "\n",
        "    smtpObj.login(mail_user,mail_pass)\n",
        "\n",
        "\n",
        "    smtpObj.sendmail(sender, receivers, message.as_string())\n",
        "    smtpObj.quit()\n",
        "    print('sendmail ok.')\n",
        "except :\n",
        "    print('senmail error.')"
      ],
      "metadata": {
        "id": "fZtsvXgp5kVB"
      },
      "execution_count": null,
      "outputs": []
    }
  ]
}