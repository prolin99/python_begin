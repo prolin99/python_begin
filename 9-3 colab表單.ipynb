{
  "nbformat": 4,
  "nbformat_minor": 0,
  "metadata": {
    "colab": {
      "name": "colab表單.ipynb",
      "provenance": [],
      "collapsed_sections": [],
      "authorship_tag": "ABX9TyNhs92xmuBQ9yxpHVAY6H8y",
      "include_colab_link": true
    },
    "kernelspec": {
      "name": "python3",
      "display_name": "Python 3"
    },
    "language_info": {
      "name": "python"
    }
  },
  "cells": [
    {
      "cell_type": "markdown",
      "metadata": {
        "id": "view-in-github",
        "colab_type": "text"
      },
      "source": [
        "<a href=\"https://colab.research.google.com/github/prolin99/python_begin/blob/main/9-3%20colab%E8%A1%A8%E5%96%AE.ipynb\" target=\"_parent\"><img src=\"https://colab.research.google.com/assets/colab-badge.svg\" alt=\"Open In Colab\"/></a>"
      ]
    },
    {
      "cell_type": "markdown",
      "metadata": {
        "id": "5dzlGXzXQXTQ"
      },
      "source": [
        "# 在 cloab 也可以有輸入視窗（表單）\n",
        "可以設定為輸入修改自動儲存，以下的程式就可以讀取輸入值了。"
      ]
    },
    {
      "cell_type": "code",
      "metadata": {
        "id": "v9o2__NlNMmy"
      },
      "source": [
        "#@title 視窗測試 { run: \"auto\" }\n",
        "name = \"\\u6797\" #@param {type:\"string\"}\n",
        "age =  40#@param {type:\"integer\"}\n",
        "habit = \"\\u65C5\\u884C\" #@param [\"美食\", \"旅行\"]\n",
        "\n"
      ],
      "execution_count": 18,
      "outputs": []
    },
    {
      "cell_type": "markdown",
      "metadata": {
        "id": "H-VHvX_CP9ag"
      },
      "source": [
        ""
      ]
    },
    {
      "cell_type": "code",
      "metadata": {
        "colab": {
          "base_uri": "https://localhost:8080/"
        },
        "id": "pZnneGZQOsKh",
        "outputId": "4c5f3645-3483-4561-8deb-5324343a5895"
      },
      "source": [
        "print('你的姓名 {} 年紀：{}，喜歡{}'.format(name, age, habit))"
      ],
      "execution_count": 17,
      "outputs": [
        {
          "output_type": "stream",
          "name": "stdout",
          "text": [
            "你的姓名 林 年紀：40，喜歡旅行\n"
          ]
        }
      ]
    }
  ]
}