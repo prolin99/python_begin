{
  "nbformat": 4,
  "nbformat_minor": 0,
  "metadata": {
    "colab": {
      "name": "網頁擷取01.ipynb",
      "provenance": [],
      "collapsed_sections": [],
      "authorship_tag": "ABX9TyMIJO5Us6bal66kHR1hK9tJ",
      "include_colab_link": true
    },
    "kernelspec": {
      "name": "python3",
      "display_name": "Python 3"
    }
  },
  "cells": [
    {
      "cell_type": "markdown",
      "metadata": {
        "id": "view-in-github",
        "colab_type": "text"
      },
      "source": [
        "<a href=\"https://colab.research.google.com/github/prolin99/python_begin/blob/main/A01%20%E7%B6%B2%E9%A0%81%E6%93%B7%E5%8F%9601.ipynb\" target=\"_parent\"><img src=\"https://colab.research.google.com/assets/colab-badge.svg\" alt=\"Open In Colab\"/></a>"
      ]
    },
    {
      "cell_type": "markdown",
      "metadata": {
        "id": "Q2X0i4JTwfjr"
      },
      "source": [
        "#網頁擷取資料\n",
        "pip installrequests \n",
        "\n",
        "pip install beautifulsoup4\n",
        "\n",
        "開啟網頁：\n",
        "\n",
        "webbrowser.open('https://google.com')"
      ]
    },
    {
      "cell_type": "code",
      "metadata": {
        "colab": {
          "base_uri": "https://localhost:8080/"
        },
        "id": "onZ7f5ubf7Tb",
        "outputId": "1934a78f-d313-4cff-fc44-052bd110f6d5"
      },
      "source": [
        "import requests\n",
        "res = requests.get('http://www.gutenberg.org/cache/epub/1112/pg1112.txt')\n",
        "try:\n",
        "  #檢查是否有問題，如有問題 except\n",
        "  res.raise_for_status()\n",
        "\n",
        "  #出現部份內容\n",
        "  print(res.text[:200])\n",
        "except Exception as exc:\n",
        "  print('There was a problem: {}'.format(exc))"
      ],
      "execution_count": 7,
      "outputs": [
        {
          "output_type": "stream",
          "text": [
            "﻿The Project Gutenberg EBook of Romeo and Juliet, by William Shakespeare\r\n",
            "\r\n",
            "\r\n",
            "*******************************************************************\r\n",
            "THIS EBOOK WAS ONE OF PROJECT GUTENBERG'S EARLY FILES\n"
          ],
          "name": "stdout"
        }
      ]
    },
    {
      "cell_type": "markdown",
      "metadata": {
        "id": "P32xCcRkiD3R"
      },
      "source": [
        "# 使用 BeautifulBoup 解析 HTML\n",
        "傳遞給select()方法的選擇器\n",
        "\n",
        "soup.select('div') 所有名為< div>的元素\n",
        "\n",
        "soup.select('#author') 帶有id屬性為author的元素\n",
        "\n",
        "soup.select('.notice') 所有使用CSS class屬性名為notice的元素\n",
        "\n",
        "soup.select('div span') 所有在< div>元素之內的< span>元素\n",
        "\n",
        "soup.select('div > span') 所有直接在< div>元素之內的< span>元素，中間沒有其他元素\n",
        "\n",
        "soup.select('input[name]') 所有名為< input>，並有一個name屬性，其值無所謂的元素\n",
        "\n",
        "soup.select('input[type=\"button\"]') 所有名為< input>，並有一個type屬性，其值為button的元素"
      ]
    },
    {
      "cell_type": "code",
      "metadata": {
        "colab": {
          "base_uri": "https://localhost:8080/"
        },
        "id": "IBKjWSJfnnxf",
        "outputId": "16fa48fe-21f5-461c-a94d-7ae2e3a999b9"
      },
      "source": [
        "import  bs4\n",
        "\n",
        "html_samp= '''\n",
        "<!-- This is the example.html example file. -->\n",
        "\n",
        "<html><head><title>The Website Title</title></head>\n",
        "<body>\n",
        "<p>Download my <strong>Python</strong> book from <a href=\"http://\n",
        "inventwithpython.com\">my website</a>.</p>\n",
        "<p class=\"slogan\">Learn Python the easy way!</p>\n",
        "<p>By <span id=\"author\">Al Sweigart</span></p>\n",
        "</body></html>\n",
        "'''\n",
        "web_bs = bs4.BeautifulSoup(html_samp)\n",
        "\n",
        "print('-----------------------')\n",
        "elems= web_bs.select('title')\n",
        "print(elems)\n",
        "print(elems[0].getText())\n",
        "\n",
        "print('-----------------------')\n",
        "elems = web_bs.select('#author')\n",
        "print(elems)\n",
        "print(elems[0].getText())\n",
        "\n",
        "print('-----------------------')\n",
        "elems = web_bs.select('p')\n",
        "print(elems)\n",
        "for i in range(len(elems)):\n",
        "  print(elems[i].getText())\n",
        "\n",
        "\n",
        "print('-----------------------')\n",
        "elems = web_bs.select('p.slogan')\n",
        "print(elems)\n",
        "print(elems[0].getText())\n"
      ],
      "execution_count": 43,
      "outputs": [
        {
          "output_type": "stream",
          "text": [
            "-----------------------\n",
            "[<title>The Website Title</title>]\n",
            "The Website Title\n",
            "-----------------------\n",
            "[<span id=\"author\">Al Sweigart</span>]\n",
            "Al Sweigart\n",
            "-----------------------\n",
            "[<p>Download my <strong>Python</strong> book from <a href=\"http://\n",
            "inventwithpython.com\">my website</a>.</p>, <p class=\"slogan\">Learn Python the easy way!</p>, <p>By <span id=\"author\">Al Sweigart</span></p>]\n",
            "Download my Python book from my website.\n",
            "Learn Python the easy way!\n",
            "By Al Sweigart\n",
            "-----------------------\n",
            "[<p class=\"slogan\">Learn Python the easy way!</p>]\n",
            "Learn Python the easy way!\n"
          ],
          "name": "stdout"
        }
      ]
    },
    {
      "cell_type": "markdown",
      "metadata": {
        "id": "LWA--dhhqXtt"
      },
      "source": [
        "### 取得書名範例  https://nostarch.com/\n",
        "以下是其中一本書資料的原始碼\n",
        "\n",
        "&lt;article id=\"node-562\" class=\"node node-product node-promoted node-teaser clearfix\">\n",
        "\n",
        "&lt;header>\n",
        "\n",
        "&lt;h2>&lt;a href=\"/practical-deep-learning-python\">Practical Deep Learning&lt;/a>&lt;/h2>\n",
        "\n",
        "&lt;/header>\n",
        "\n",
        "&lt;div class=\"field field-name-field-image-cache field-type-image field-label-hidden\">&lt;div class=\"field-items\">\n",
        "\n",
        "&lt;div class=\"field-item even\">\n",
        "\n",
        "&lt;a href=\"/practical-deep-learning-python\">\n",
        "\n",
        "&lt;img class=\"img-responsive\" src=\"https://nostarch.com/sites/default/files/styles/uc_product/public/deepLearning_frontcover.png?itok=Ey0G839E\" width=\"170\" height=\"225\" alt=\"\" />\n",
        "\n",
        "&lt;/a>&lt;/div>&lt;/div>&lt;/div>\n",
        "\n",
        "&lt;div class=\"field field-name-body field-type-text-with-summary field-label-hidden\">\n",
        "\n",
        "&lt;div class=\"field-items\">\n",
        "\n",
        "&lt;div class=\"field-item even\">\n",
        "\n",
        "&lt;p>&lt;a href=\"/practical-deep-learning-python\">Practical Deep Learning&lt;/a> teaches total beginners how to build the datasets and models needed to train neural networks for your own DL projects.&lt;/p>\n",
        "&lt;/div>&lt;/div>&lt;/div>\n",
        "\n",
        "\n",
        "&lt;footer>\n",
        "\n",
        "&lt;/footer>\n",
        "\n",
        "&lt;/article>"
      ]
    },
    {
      "cell_type": "code",
      "metadata": {
        "colab": {
          "base_uri": "https://localhost:8080/"
        },
        "id": "mv79GGwTiDQ1",
        "outputId": "531d2320-6430-4538-c374-dfc4652a4088"
      },
      "source": [
        "import requests , bs4\n",
        "res = requests.get('http://nostarch.com')\n",
        "try:\n",
        "  res.raise_for_status()\n",
        "  web_bs = bs4.BeautifulSoup(res.text)\n",
        "\n",
        "  #可由 header 下層 h2 取得各書名\n",
        "  elems = web_bs.select('header > h2 ' )\n",
        "  print(elems )\n",
        "  print(elems[0].getText())\n",
        " \n",
        "  #書名連結及簡介部份\n",
        "  print('----------------------')\n",
        "  elems = web_bs.select('article > div > div > div > p ' )\n",
        "  print(elems[0] )\n",
        "  print(elems[0].getText())\n",
        "\n",
        "\n",
        "except Exception as exc:\n",
        "  print('There was a problem: {}'.format(exc))\n"
      ],
      "execution_count": 65,
      "outputs": [
        {
          "output_type": "stream",
          "text": [
            "[<h2><a href=\"/practical-deep-learning-python\">Practical Deep Learning</a></h2>, <h2><a href=\"/machine-learning-kids\">Machine Learning for Kids</a></h2>, <h2><a href=\"/Dive-Into-Algorithms\">Dive Into Algorithms</a></h2>, <h2><a href=\"/scratch3playground\">Scratch 3 Programming Playground</a></h2>, <h2><a href=\"/racket-programming-fun-way\">Racket Programming the Fun Way</a></h2>, <h2><a href=\"/gtfo3\">PoC||GTFO, Volume 3</a></h2>, <h2><a href=\"/algorithmic-thinking\">Algorithmic Thinking: A Problem-Based Introduction</a></h2>, <h2><a href=\"/how-computers-really-work\">How Computers Really Work</a></h2>, <h2><a href=\"/CodingWorkbook\">The Coding Workbook</a></h2>, <h2><a href=\"/beyond-basic-stuff-python\">Beyond the Basic Stuff with Python</a></h2>, <h2><a href=\"/how-internet-really-works\">How the Internet Really Works</a></h2>, <h2><a href=\"/crypto-dictionary\">Crypto Dictionary</a></h2>, <h2><a href=\"/networkprogrammingwithgo\">Network Programming with Go</a></h2>, <h2><a href=\"/kill-it-fire\">Kill It with Fire</a></h2>, <h2><a href=\"/practical-iot-hacking\">Practical IoT Hacking</a></h2>, <h2><a href=\"/computer-graphics-scratch\">Computer Graphics from Scratch</a></h2>, <h2><a href=\"/cyberjutsu\">Cyberjutsu</a></h2>, <h2><a href=\"/howlinuxworks3\">How Linux Works, 3rd Edition</a></h2>, <h2><a href=\"/black-hat-python2E\">Black Hat Python, 2nd Edition</a></h2>, <h2><a href=\"/Learn-Python-Visually\">Learn Python Visually</a></h2>, <h2><a href=\"/hello-web-design\">Hello Web Design</a></h2>, <h2><a href=\"/arduino-workshop-2nd-edition\">Arduino Workshop, 2nd Edition</a></h2>]\n",
            "Practical Deep Learning\n",
            "----------------------\n",
            "<p><a href=\"/practical-deep-learning-python\">Practical Deep Learning</a> teaches total beginners how to build the datasets and models needed to train neural networks for your own DL projects.</p>\n",
            "Practical Deep Learning teaches total beginners how to build the datasets and models needed to train neural networks for your own DL projects.\n"
          ],
          "name": "stdout"
        }
      ]
    }
  ]
}