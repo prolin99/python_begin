{
  "nbformat": 4,
  "nbformat_minor": 0,
  "metadata": {
    "colab": {
      "name": "excel_pandas.ipynb",
      "provenance": [],
      "collapsed_sections": [],
      "authorship_tag": "ABX9TyMRoLNq3u18opL++2gj0Jxt",
      "include_colab_link": true
    },
    "kernelspec": {
      "name": "python3",
      "display_name": "Python 3"
    }
  },
  "cells": [
    {
      "cell_type": "markdown",
      "metadata": {
        "id": "view-in-github",
        "colab_type": "text"
      },
      "source": [
        "<a href=\"https://colab.research.google.com/github/prolin99/python_begin/blob/main/5-4%20excel_pandas.ipynb\" target=\"_parent\"><img src=\"https://colab.research.google.com/assets/colab-badge.svg\" alt=\"Open In Colab\"/></a>"
      ]
    },
    {
      "cell_type": "markdown",
      "metadata": {
        "id": "fWNte8o4eXBI"
      },
      "source": [
        "# 使用 pandas 讀寫 excel \n",
        "[pandas.DataFrame.to_excel](https://pandas.pydata.org/pandas-docs/stable/reference/api/pandas.DataFrame.to_excel.html)"
      ]
    },
    {
      "cell_type": "code",
      "metadata": {
        "colab": {
          "base_uri": "https://localhost:8080/"
        },
        "id": "xlmy6kLibLZv",
        "outputId": "a4163592-6d81-4e19-b759-9a791dbfca1f"
      },
      "source": [
        "#寫人 excel \n",
        "import pandas as pd\n",
        "\n",
        "excel_data = []\n",
        "for i in range(10):\n",
        "  excel_data.append(['a{0}'.format(i), 'b{0}'.format(i), 'c{0}'.format(i)])\n",
        "\n",
        "print(excel_data)  \n",
        "\n",
        "\n",
        "#df = pd.DataFrame(excel_data)\n",
        "#可以加上欄位或列名 index=['row 1', 'row 2']  columns=[\"A欄\",\"B欄\",\"C欄\"]\n",
        "df = pd.DataFrame(excel_data, columns=[\"A欄\",\"B欄\",\"C欄\"])\n",
        "#df.to_excel('sample.xlsx' )\n",
        "df.to_excel('sample.xlsx' , index = False )\n"
      ],
      "execution_count": null,
      "outputs": [
        {
          "output_type": "stream",
          "text": [
            "[['a0', 'b0', 'c0'], ['a1', 'b1', 'c1'], ['a2', 'b2', 'c2'], ['a3', 'b3', 'c3'], ['a4', 'b4', 'c4'], ['a5', 'b5', 'c5'], ['a6', 'b6', 'c6'], ['a7', 'b7', 'c7'], ['a8', 'b8', 'c8'], ['a9', 'b9', 'c9']]\n"
          ],
          "name": "stdout"
        }
      ]
    },
    {
      "cell_type": "code",
      "metadata": {
        "colab": {
          "base_uri": "https://localhost:8080/",
          "height": 343
        },
        "id": "c-9whlJSfEDl",
        "outputId": "89d173bc-5d64-45d2-fc1e-d2100a06a468"
      },
      "source": [
        "# 讀取 excel \n",
        "import pandas as pd\n",
        "df = pd.read_excel('sample.xlsx')\n",
        "df"
      ],
      "execution_count": null,
      "outputs": [
        {
          "output_type": "execute_result",
          "data": {
            "text/html": [
              "<div>\n",
              "<style scoped>\n",
              "    .dataframe tbody tr th:only-of-type {\n",
              "        vertical-align: middle;\n",
              "    }\n",
              "\n",
              "    .dataframe tbody tr th {\n",
              "        vertical-align: top;\n",
              "    }\n",
              "\n",
              "    .dataframe thead th {\n",
              "        text-align: right;\n",
              "    }\n",
              "</style>\n",
              "<table border=\"1\" class=\"dataframe\">\n",
              "  <thead>\n",
              "    <tr style=\"text-align: right;\">\n",
              "      <th></th>\n",
              "      <th>A欄</th>\n",
              "      <th>B欄</th>\n",
              "      <th>C欄</th>\n",
              "    </tr>\n",
              "  </thead>\n",
              "  <tbody>\n",
              "    <tr>\n",
              "      <th>0</th>\n",
              "      <td>a0</td>\n",
              "      <td>b0</td>\n",
              "      <td>c0</td>\n",
              "    </tr>\n",
              "    <tr>\n",
              "      <th>1</th>\n",
              "      <td>a1</td>\n",
              "      <td>b1</td>\n",
              "      <td>c1</td>\n",
              "    </tr>\n",
              "    <tr>\n",
              "      <th>2</th>\n",
              "      <td>a2</td>\n",
              "      <td>b2</td>\n",
              "      <td>c2</td>\n",
              "    </tr>\n",
              "    <tr>\n",
              "      <th>3</th>\n",
              "      <td>a3</td>\n",
              "      <td>b3</td>\n",
              "      <td>c3</td>\n",
              "    </tr>\n",
              "    <tr>\n",
              "      <th>4</th>\n",
              "      <td>a4</td>\n",
              "      <td>b4</td>\n",
              "      <td>c4</td>\n",
              "    </tr>\n",
              "    <tr>\n",
              "      <th>5</th>\n",
              "      <td>a5</td>\n",
              "      <td>b5</td>\n",
              "      <td>c5</td>\n",
              "    </tr>\n",
              "    <tr>\n",
              "      <th>6</th>\n",
              "      <td>a6</td>\n",
              "      <td>b6</td>\n",
              "      <td>c6</td>\n",
              "    </tr>\n",
              "    <tr>\n",
              "      <th>7</th>\n",
              "      <td>a7</td>\n",
              "      <td>b7</td>\n",
              "      <td>c7</td>\n",
              "    </tr>\n",
              "    <tr>\n",
              "      <th>8</th>\n",
              "      <td>a8</td>\n",
              "      <td>b8</td>\n",
              "      <td>c8</td>\n",
              "    </tr>\n",
              "    <tr>\n",
              "      <th>9</th>\n",
              "      <td>a9</td>\n",
              "      <td>b9</td>\n",
              "      <td>c9</td>\n",
              "    </tr>\n",
              "  </tbody>\n",
              "</table>\n",
              "</div>"
            ],
            "text/plain": [
              "   A欄  B欄  C欄\n",
              "0  a0  b0  c0\n",
              "1  a1  b1  c1\n",
              "2  a2  b2  c2\n",
              "3  a3  b3  c3\n",
              "4  a4  b4  c4\n",
              "5  a5  b5  c5\n",
              "6  a6  b6  c6\n",
              "7  a7  b7  c7\n",
              "8  a8  b8  c8\n",
              "9  a9  b9  c9"
            ]
          },
          "metadata": {
            "tags": []
          },
          "execution_count": 14
        }
      ]
    }
  ]
}