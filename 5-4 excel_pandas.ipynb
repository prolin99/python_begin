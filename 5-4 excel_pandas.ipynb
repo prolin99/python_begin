{
  "nbformat": 4,
  "nbformat_minor": 0,
  "metadata": {
    "colab": {
      "name": "excel_pandas.ipynb",
      "provenance": [],
      "collapsed_sections": [],
      "authorship_tag": "ABX9TyP8YzmBl91GNfB26x0lPMkD",
      "include_colab_link": true
    },
    "kernelspec": {
      "name": "python3",
      "display_name": "Python 3"
    }
  },
  "cells": [
    {
      "cell_type": "markdown",
      "metadata": {
        "id": "view-in-github",
        "colab_type": "text"
      },
      "source": [
        "<a href=\"https://colab.research.google.com/github/prolin99/python_begin/blob/main/5-4%20excel_pandas.ipynb\" target=\"_parent\"><img src=\"https://colab.research.google.com/assets/colab-badge.svg\" alt=\"Open In Colab\"/></a>"
      ]
    },
    {
      "cell_type": "markdown",
      "metadata": {
        "id": "fWNte8o4eXBI"
      },
      "source": [
        "# 使用 pandas 讀寫 excel \n",
        "[pandas.DataFrame.to_excel](https://pandas.pydata.org/pandas-docs/stable/reference/api/pandas.DataFrame.to_excel.html)\n",
        "\n",
        "* 如果出現不支援 xlsx 出現錯誤，這是因為 xlrd 2.0版後只支援 .xls ，可以改用 openpyxl 套件\n",
        "\n",
        "\n",
        "```\n",
        "# pip install openpyxl\n",
        "\n",
        "df = pd.read_excel('sample.xlsx' ,engine='openpyxl')\n",
        "```\n",
        "\n",
        "* 另外注意，讀取出來的值格式可能要再做檢查，例如整數或小數。\n"
      ]
    },
    {
      "cell_type": "code",
      "metadata": {
        "colab": {
          "base_uri": "https://localhost:8080/"
        },
        "id": "xlmy6kLibLZv",
        "outputId": "1ee5aaa7-a82b-41a6-8405-ce74220ce49b"
      },
      "source": [
        "#寫人 excel \n",
        "import pandas as pd\n",
        "\n",
        "excel_data = []\n",
        "for i in range(10):\n",
        "  excel_data.append(['a{0}'.format(i), 'b{0}'.format(i), 'c{0}'.format(i)])\n",
        "\n",
        "print(excel_data)  \n",
        "\n",
        "\n",
        "#df = pd.DataFrame(excel_data)\n",
        "#可以加上欄位或列名 index=['row 1', 'row 2']  columns=[\"A欄\",\"B欄\",\"C欄\"]\n",
        "df = pd.DataFrame(excel_data, columns=[\"A欄\",\"B欄\",\"C欄\"])\n",
        "#df.to_excel('sample.xlsx' )\n",
        "df.to_excel('sample.xlsx' , index = False )\n"
      ],
      "execution_count": null,
      "outputs": [
        {
          "output_type": "stream",
          "text": [
            "[['a0', 'b0', 'c0'], ['a1', 'b1', 'c1'], ['a2', 'b2', 'c2'], ['a3', 'b3', 'c3'], ['a4', 'b4', 'c4'], ['a5', 'b5', 'c5'], ['a6', 'b6', 'c6'], ['a7', 'b7', 'c7'], ['a8', 'b8', 'c8'], ['a9', 'b9', 'c9']]\n"
          ],
          "name": "stdout"
        }
      ]
    },
    {
      "cell_type": "code",
      "metadata": {
        "colab": {
          "base_uri": "https://localhost:8080/"
        },
        "id": "c-9whlJSfEDl",
        "outputId": "f2c8ea94-924f-4903-84bb-ad6feaee3dcd"
      },
      "source": [
        "# 讀取 excel \n",
        "import pandas as pd\n",
        "df = pd.read_excel('sample.xlsx')\n",
        "# df = pd.read_excel('sample.xlsx' ,engine='openpyxl')\n",
        "print(df)\n",
        "\n",
        "print('-----')\n",
        "\n",
        "#使用串列方式取值\n",
        "data_list = df.to_numpy()\n",
        "for va,vb,vc in data_list:\n",
        "  print(va,vb,vc)\n",
        "\n",
        " "
      ],
      "execution_count": null,
      "outputs": [
        {
          "output_type": "stream",
          "text": [
            "   A欄  B欄  C欄\n",
            "0  a0  b0  c0\n",
            "1  a1  b1  c1\n",
            "2  a2  b2  c2\n",
            "3  a3  b3  c3\n",
            "4  a4  b4  c4\n",
            "5  a5  b5  c5\n",
            "6  a6  b6  c6\n",
            "7  a7  b7  c7\n",
            "8  a8  b8  c8\n",
            "9  a9  b9  c9\n",
            "-----\n",
            "a0 b0 c0\n",
            "a1 b1 c1\n",
            "a2 b2 c2\n",
            "a3 b3 c3\n",
            "a4 b4 c4\n",
            "a5 b5 c5\n",
            "a6 b6 c6\n",
            "a7 b7 c7\n",
            "a8 b8 c8\n",
            "a9 b9 c9\n"
          ],
          "name": "stdout"
        }
      ]
    }
  ]
}