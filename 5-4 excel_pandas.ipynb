{
  "nbformat": 4,
  "nbformat_minor": 0,
  "metadata": {
    "colab": {
      "name": "excel_pandas.ipynb",
      "provenance": [],
      "collapsed_sections": [],
      "authorship_tag": "ABX9TyOqGfuzFdHzBj28Ulg9o0vc",
      "include_colab_link": true
    },
    "kernelspec": {
      "name": "python3",
      "display_name": "Python 3"
    }
  },
  "cells": [
    {
      "cell_type": "markdown",
      "metadata": {
        "id": "view-in-github",
        "colab_type": "text"
      },
      "source": [
        "<a href=\"https://colab.research.google.com/github/prolin99/python_begin/blob/main/5-4%20excel_pandas.ipynb\" target=\"_parent\"><img src=\"https://colab.research.google.com/assets/colab-badge.svg\" alt=\"Open In Colab\"/></a>"
      ]
    },
    {
      "cell_type": "markdown",
      "metadata": {
        "id": "fWNte8o4eXBI"
      },
      "source": [
        "# 使用 pandas 讀寫 excel \n",
        "[pandas.DataFrame.to_excel](https://pandas.pydata.org/pandas-docs/stable/reference/api/pandas.DataFrame.to_excel.html)\n",
        "\n",
        "* 如果出現不支援 xlsx 出現錯誤，這是因為 xlrd 2.0版後只支援 .xls ，可以改用 openpyxl 套件\n",
        "\n",
        "\n",
        "```\n",
        "# pip install openpyxl\n",
        "\n",
        "df = pd.read_excel('sample.xlsx' ,engine='openpyxl')\n",
        "```\n",
        "\n",
        "* 另外注意，讀取出來的值格式可能要再做檢查，例如整數或小數。\n"
      ]
    },
    {
      "cell_type": "code",
      "metadata": {
        "colab": {
          "base_uri": "https://localhost:8080/"
        },
        "id": "xlmy6kLibLZv",
        "outputId": "0f6dc446-c856-48e1-d3d6-7d3a9fbfdb0b"
      },
      "source": [
        "#寫人 excel \n",
        "import pandas as pd\n",
        "\n",
        "excel_data = []\n",
        "for i in range(10):\n",
        "  excel_data.append(['a{0}'.format(i), 'b{0}'.format(i), 'c{0}'.format(i)])\n",
        "\n",
        "print(excel_data)  \n",
        "\n",
        "\n",
        "#df = pd.DataFrame(excel_data)\n",
        "#可以加上欄位或列名 index=['row 1', 'row 2']  columns=[\"A欄\",\"B欄\",\"C欄\"]\n",
        "df = pd.DataFrame(excel_data, columns=[\"A欄\",\"B欄\",\"C欄\"])\n",
        "#df.to_excel('sample.xlsx' )\n",
        "df.to_excel('sample.xlsx' , index = False )\n"
      ],
      "execution_count": null,
      "outputs": [
        {
          "output_type": "stream",
          "text": [
            "[['a0', 'b0', 'c0'], ['a1', 'b1', 'c1'], ['a2', 'b2', 'c2'], ['a3', 'b3', 'c3'], ['a4', 'b4', 'c4'], ['a5', 'b5', 'c5'], ['a6', 'b6', 'c6'], ['a7', 'b7', 'c7'], ['a8', 'b8', 'c8'], ['a9', 'b9', 'c9']]\n"
          ],
          "name": "stdout"
        }
      ]
    },
    {
      "cell_type": "code",
      "metadata": {
        "id": "c-9whlJSfEDl"
      },
      "source": [
        "# 讀取 excel \n",
        "import pandas as pd\n",
        "df = pd.read_excel('sample.xlsx')\n",
        "# df = pd.read_excel('sample.xlsx' ,engine='openpyxl')\n",
        "print(df)\n",
        "\n",
        "print('-----')\n",
        "# 最大列數\n",
        "for row in range(df.index.stop):\n",
        "   print('{},{},{}'.format(df.values[row][0],df.values[row][1],df.values[row][2]) )\n",
        "\n",
        "print('-----')\n",
        "#使用串列方式取值\n",
        "data_list = df.to_numpy()\n",
        "for va,vb,vc in data_list:\n",
        "  print(va,vb,vc)\n",
        "\n",
        " \n",
        " "
      ],
      "execution_count": null,
      "outputs": []
    },
    {
      "cell_type": "markdown",
      "metadata": {
        "id": "AIcHTjPB1s8e"
      },
      "source": [
        "#學生成績處理常用功能\n",
        "請在本機中測試以下程式碼：\n",
        "\n",
        "下載以下鍵結檔 excel 檔案，檔名為 stud_test.xlsx\n",
        "https://docs.google.com/spreadsheets/d/14UtocYfdKTBk0WLNnNh2InaXieX9ZWEQYEfscv5e03o/edit?usp=sharing"
      ]
    },
    {
      "cell_type": "code",
      "metadata": {
        "colab": {
          "base_uri": "https://localhost:8080/"
        },
        "id": "VXEH8SaoEdw-",
        "outputId": "75f7e4e8-f554-46ff-8fd6-d8f8cc525236"
      },
      "source": [
        "#這一段只是在讀取 goole 雲端檔案的寫法 ，執行這一段需要授權\n",
        "from google.colab import drive\n",
        "drive.mount('/content/drive')"
      ],
      "execution_count": 1,
      "outputs": [
        {
          "output_type": "stream",
          "name": "stdout",
          "text": [
            "Mounted at /content/drive\n"
          ]
        }
      ]
    },
    {
      "cell_type": "markdown",
      "metadata": {
        "id": "fmFLuMKe0j6K"
      },
      "source": [
        "## 讀檔"
      ]
    },
    {
      "cell_type": "code",
      "metadata": {
        "colab": {
          "base_uri": "https://localhost:8080/"
        },
        "id": "ZNkmIroX1tb4",
        "outputId": "327ab8b3-d005-468b-87ab-1a4c7f4a4cbe"
      },
      "source": [
        "import pandas as pd \n",
        "#把 excel 練習檔案放在 雲端 pylib 目錄上了\n",
        "df = pd.read_excel(\"/content/drive/My Drive/pylib/stud_test1.xlsx\" , engine='openpyxl')\n",
        "#df = pd.read_excel(\"stud_test1.xlsx\" , engine='openpyxl')\n",
        "\n",
        "#列出前五筆\n",
        "print(df.head(5))\n",
        "\n",
        "#列出 count筆數、比均、最大最小等\n",
        "print(df.describe())\n",
        "\n",
        "#單科總和 sum() 平均 mean  最小min() 最大 max() 筆數 count()\n",
        "print(df['國語'].mean())\n",
        "\n"
      ],
      "execution_count": 2,
      "outputs": [
        {
          "output_type": "stream",
          "name": "stdout",
          "text": [
            "     姓名      性別       組別  國語  數學  社會\n",
            "0  s110  female  group B  72  72  74\n",
            "1  s111  female  group C  69  90  88\n",
            "2  s112  female  group B  90  95  93\n",
            "3  s113    male  group A  47  57  44\n",
            "4  s114    male  group C  76  78  75\n",
            "              國語         數學         社會\n",
            "count  34.000000  34.000000  34.000000\n",
            "mean   62.000000  66.970588  65.117647\n",
            "std    15.988632  15.329681  16.069479\n",
            "min    18.000000  32.000000  28.000000\n",
            "25%    51.000000  54.750000  53.500000\n",
            "50%    65.500000  70.000000  68.500000\n",
            "75%    70.750000  74.750000  75.000000\n",
            "max    90.000000  95.000000  93.000000\n",
            "62.0\n"
          ]
        }
      ]
    },
    {
      "cell_type": "code",
      "metadata": {
        "colab": {
          "base_uri": "https://localhost:8080/"
        },
        "id": "p4PzBiHbuvuw",
        "outputId": "bec23c77-d4f7-4f43-8f8d-6909fa32b3d2"
      },
      "source": [
        "#取得第三筆 （由0開始），轉成 list\n",
        "print(df.iloc[2].tolist())\n",
        "\n",
        "#找指定欄位\n",
        "print(df.loc[ df['姓名']=='s114' ])"
      ],
      "execution_count": null,
      "outputs": [
        {
          "output_type": "stream",
          "name": "stdout",
          "text": [
            "['s112', 'female', 'group B', 90, 95, 93, 3]\n",
            "     姓名    性別       組別  國語  數學  社會  rand\n",
            "4  s114  male  group C  76  78  75     9\n"
          ]
        }
      ]
    },
    {
      "cell_type": "markdown",
      "metadata": {
        "id": "vIsg0wCb1Op8"
      },
      "source": [
        "##只讀取部份容"
      ]
    },
    {
      "cell_type": "code",
      "metadata": {
        "colab": {
          "base_uri": "https://localhost:8080/"
        },
        "id": "6E4lI-qbyDZ0",
        "outputId": "06452d5c-62b2-4544-c854-e33ea621e986"
      },
      "source": [
        "# 只讀取部份欄位內容\n",
        "\n",
        "df2 = pd.read_excel(\"/content/drive/My Drive/pylib/stud_test1.xlsx\" , engine='openpyxl',  usecols='D:F' )\n",
        "print(df2.head(5))\n",
        "\n",
        "#也可利用串列指定部份列\n",
        "print(df2[2:5])"
      ],
      "execution_count": 3,
      "outputs": [
        {
          "output_type": "stream",
          "name": "stdout",
          "text": [
            "   國語  數學  社會\n",
            "0  72  72  74\n",
            "1  69  90  88\n",
            "2  90  95  93\n",
            "3  47  57  44\n",
            "4  76  78  75\n",
            "   國語  數學  社會\n",
            "2  90  95  93\n",
            "3  47  57  44\n",
            "4  76  78  75\n"
          ]
        }
      ]
    },
    {
      "cell_type": "code",
      "metadata": {
        "colab": {
          "base_uri": "https://localhost:8080/"
        },
        "id": "QruDID7GS7NJ",
        "outputId": "28369f17-60fe-469a-a1a9-48e863b7ce1e"
      },
      "source": [
        "# 列數限制 skiprows=2 略去列號   nrows=5 列數\n",
        "#指定開始的列數，但上方的欄位名會找上一行的資料做欄名，可以加 names 指定欄名\n",
        "df3 = pd.read_excel(\"/content/drive/My Drive/pylib/stud_test1.xlsx\" , engine='openpyxl',  skiprows=4, names=['a','b','c','D','E','F'])\n",
        "print(df3.head(5))"
      ],
      "execution_count": 10,
      "outputs": [
        {
          "output_type": "stream",
          "name": "stdout",
          "text": [
            "      a       b        c   D   E   F\n",
            "0  s114    male  group C  76  78  75\n",
            "1  s115  female  group B  71  83  78\n",
            "2  s116  female  group B  88  95  92\n",
            "3  s117    male  group B  40  43  39\n",
            "4  s118    male  group D  64  64  67\n"
          ]
        }
      ]
    },
    {
      "cell_type": "markdown",
      "metadata": {
        "id": "p-N8xMf33w6d"
      },
      "source": [
        "##欄位順序重排"
      ]
    },
    {
      "cell_type": "code",
      "metadata": {
        "colab": {
          "base_uri": "https://localhost:8080/",
          "height": 213
        },
        "id": "oYL_kHz12HqO",
        "outputId": "d733ec22-8428-4945-98c4-ef9a2e0e8d34"
      },
      "source": [
        "df3=df[['姓名', '國語','組別']]\n",
        "df3.head(5)"
      ],
      "execution_count": null,
      "outputs": [
        {
          "output_type": "execute_result",
          "data": {
            "text/html": [
              "<div>\n",
              "<style scoped>\n",
              "    .dataframe tbody tr th:only-of-type {\n",
              "        vertical-align: middle;\n",
              "    }\n",
              "\n",
              "    .dataframe tbody tr th {\n",
              "        vertical-align: top;\n",
              "    }\n",
              "\n",
              "    .dataframe thead th {\n",
              "        text-align: right;\n",
              "    }\n",
              "</style>\n",
              "<table border=\"1\" class=\"dataframe\">\n",
              "  <thead>\n",
              "    <tr style=\"text-align: right;\">\n",
              "      <th></th>\n",
              "      <th>姓名</th>\n",
              "      <th>國語</th>\n",
              "      <th>組別</th>\n",
              "    </tr>\n",
              "  </thead>\n",
              "  <tbody>\n",
              "    <tr>\n",
              "      <th>0</th>\n",
              "      <td>s110</td>\n",
              "      <td>72</td>\n",
              "      <td>group B</td>\n",
              "    </tr>\n",
              "    <tr>\n",
              "      <th>1</th>\n",
              "      <td>s111</td>\n",
              "      <td>69</td>\n",
              "      <td>group C</td>\n",
              "    </tr>\n",
              "    <tr>\n",
              "      <th>2</th>\n",
              "      <td>s112</td>\n",
              "      <td>90</td>\n",
              "      <td>group B</td>\n",
              "    </tr>\n",
              "    <tr>\n",
              "      <th>3</th>\n",
              "      <td>s113</td>\n",
              "      <td>47</td>\n",
              "      <td>group A</td>\n",
              "    </tr>\n",
              "    <tr>\n",
              "      <th>4</th>\n",
              "      <td>s114</td>\n",
              "      <td>76</td>\n",
              "      <td>group C</td>\n",
              "    </tr>\n",
              "  </tbody>\n",
              "</table>\n",
              "</div>"
            ],
            "text/plain": [
              "     姓名  國語       組別\n",
              "0  s110  72  group B\n",
              "1  s111  69  group C\n",
              "2  s112  90  group B\n",
              "3  s113  47  group A\n",
              "4  s114  76  group C"
            ]
          },
          "metadata": {},
          "execution_count": 87
        }
      ]
    },
    {
      "cell_type": "markdown",
      "metadata": {
        "id": "JgkBs8765XJT"
      },
      "source": [
        "# 清除欄、列"
      ]
    },
    {
      "cell_type": "code",
      "metadata": {
        "id": "Ch4pY1bC35a4"
      },
      "source": [
        "#df3.drop('組別', inplace=True, axis=1)\n",
        "del df3['組別']\n",
        "#df3.pop('組別')\n",
        "\n",
        "print(df3.head(5))\n",
        "\n",
        "#刪除一列\n",
        "df3.drop(0 ,inplace=True )\n",
        "print(df3.head(5))"
      ],
      "execution_count": null,
      "outputs": []
    },
    {
      "cell_type": "markdown",
      "metadata": {
        "id": "9yrSNBBrFmvi"
      },
      "source": [
        "##加入欄位：總分、平均"
      ]
    },
    {
      "cell_type": "code",
      "metadata": {
        "colab": {
          "base_uri": "https://localhost:8080/"
        },
        "id": "-HhkepNEFZgf",
        "outputId": "e2b1ae6a-5df7-4608-9787-88f4e766b0bb"
      },
      "source": [
        "\n",
        "#第一種方法\n",
        "#使用 水平軸算平均(但要注意有些數字欄位是不是成績，例如座號等數字)\n",
        "df['mean']= df.mean(axis=1 )\n",
        "\n",
        "#第二種方法\n",
        "#加入個人總分、平均\n",
        "#df['總分'] = df['國語']+df['數學']+df['社會']\n",
        "#df['平均'] = df['總分']/3\n",
        "\n",
        "print(df.head(5))\n",
        "\n"
      ],
      "execution_count": null,
      "outputs": [
        {
          "output_type": "stream",
          "name": "stdout",
          "text": [
            "     姓名      性別       組別  國語  數學  社會       mean\n",
            "0  s110  female  group B  72  72  74  72.666667\n",
            "1  s111  female  group C  69  90  88  82.333333\n",
            "2  s112  female  group B  90  95  93  92.666667\n",
            "3  s113    male  group A  47  57  44  49.333333\n",
            "4  s114    male  group C  76  78  75  76.333333\n"
          ]
        }
      ]
    },
    {
      "cell_type": "markdown",
      "metadata": {
        "id": "sGOV7itvuAHz"
      },
      "source": [
        "##排序"
      ]
    },
    {
      "cell_type": "code",
      "metadata": {
        "id": "SYqT3t7EuAgq"
      },
      "source": [
        "#排序　\n",
        "df_sort = df.sort_values(by=['mean'] , ascending=False)\n",
        "df_sort.head(5) "
      ],
      "execution_count": null,
      "outputs": []
    },
    {
      "cell_type": "markdown",
      "metadata": {
        "id": "IfpDF9esuHIF"
      },
      "source": [
        "## 亂數排序（抽籤）"
      ]
    },
    {
      "cell_type": "code",
      "metadata": {
        "colab": {
          "base_uri": "https://localhost:8080/"
        },
        "id": "i3QVgbs1xC7r",
        "outputId": "eeda5942-7b90-4a8d-a48c-4a27c30e4d73"
      },
      "source": [
        "#加入一個亂數欄位，常用於抽籤\n",
        "\n",
        "import numpy as np \n",
        "\n",
        "#df 筆數\n",
        "print(df.shape[0])\n",
        "\n",
        "\n",
        "#使用 np 產生 list 長度  df.shape[0]\n",
        "df['rand'] = np.random.randint(1, 100, df.shape[0])\n",
        "print(df.head(5))\n",
        "\n",
        "#以亂數值排序\n",
        "df_sort = df.sort_values(by=['rand'] )\n",
        "\n",
        "#增加順位值 1 到 全部\n",
        "df_sort['sort_id'] = np.arange(start=1, stop=df.shape[0]+1 )\n",
        "print(df_sort.head(5) )"
      ],
      "execution_count": null,
      "outputs": [
        {
          "output_type": "stream",
          "name": "stdout",
          "text": [
            "34\n",
            "     姓名      性別       組別  國語  數學  社會  rand\n",
            "0  s110  female  group B  72  72  74     9\n",
            "1  s111  female  group C  69  90  88    48\n",
            "2  s112  female  group B  90  95  93     3\n",
            "3  s113    male  group A  47  57  44    43\n",
            "4  s114    male  group C  76  78  75     9\n",
            "      姓名      性別       組別  國語  數學  社會  rand  sort_id\n",
            "2   s112  female  group B  90  95  93     3        1\n",
            "9   s119  female  group B  38  60  50     5        2\n",
            "22  s132    male  group D  44  54  53     7        3\n",
            "0   s110  female  group B  72  72  74     9        4\n",
            "4   s114    male  group C  76  78  75     9        5\n"
          ]
        }
      ]
    },
    {
      "cell_type": "markdown",
      "metadata": {
        "id": "SlW1AAc2Fvj0"
      },
      "source": [
        "##取得部份資料"
      ]
    },
    {
      "cell_type": "code",
      "metadata": {
        "id": "aJUBqUHOv6MD"
      },
      "source": [
        "# 取筆數\n",
        "print(df[2:5])\n",
        "\n",
        "print(df['姓名'][2:5].values)\n"
      ],
      "execution_count": null,
      "outputs": []
    },
    {
      "cell_type": "code",
      "metadata": {
        "id": "3VfT_LzMFcJM",
        "colab": {
          "base_uri": "https://localhost:8080/"
        },
        "outputId": "31e6dd56-ebdc-4b94-83fa-060392c5cce5"
      },
      "source": [
        "#取得部份資料 女性\n",
        "df_female= df[df['性別']=='female']\n",
        "print(df_female)\n",
        "\n",
        "#女生 並為 group B\n",
        "df_female_GroupB = df[(df['性別']=='female') & (df['組別'] == 'group B')]\n",
        "print(df_female_GroupB)\n",
        "\n",
        "\n",
        "#組別欄位中有 B 字元\n",
        "df_GroupB = df[df['組別'].str.contains('B')]\n",
        "print(df_GroupB)"
      ],
      "execution_count": null,
      "outputs": [
        {
          "output_type": "stream",
          "name": "stdout",
          "text": [
            "      姓名      性別       組別  國語  數學  社會  rand\n",
            "0   s110  female  group B  72  72  74     9\n",
            "1   s111  female  group C  69  90  88    48\n",
            "2   s112  female  group B  90  95  93     3\n",
            "5   s115  female  group B  71  83  78    71\n",
            "6   s116  female  group B  88  95  92    68\n",
            "9   s119  female  group B  38  60  50     5\n",
            "12  s122  female  group B  65  81  73    77\n",
            "14  s124  female  group A  50  53  58    15\n",
            "15  s125  female  group C  69  75  78    44\n",
            "17  s127  female  group B  18  32  28    53\n",
            "19  s129  female  group C  54  58  61    64\n",
            "21  s131  female  group B  65  75  70    29\n",
            "23  s133  female  group C  69  73  73    62\n",
            "27  s137  female  group C  67  69  75    62\n",
            "29  s139  female  group D  62  70  75    17\n",
            "30  s140  female  group D  69  74  74    93\n",
            "31  s141  female  group B  63  65  61    99\n",
            "32  s142  female  group E  56  72  65    27\n",
            "      姓名      性別       組別  國語  數學  社會  rand\n",
            "0   s110  female  group B  72  72  74     9\n",
            "2   s112  female  group B  90  95  93     3\n",
            "5   s115  female  group B  71  83  78    71\n",
            "6   s116  female  group B  88  95  92    68\n",
            "9   s119  female  group B  38  60  50     5\n",
            "12  s122  female  group B  65  81  73    77\n",
            "17  s127  female  group B  18  32  28    53\n",
            "21  s131  female  group B  65  75  70    29\n",
            "31  s141  female  group B  63  65  61    99\n",
            "      姓名      性別       組別  國語  數學  社會  rand\n",
            "0   s110  female  group B  72  72  74     9\n",
            "2   s112  female  group B  90  95  93     3\n",
            "5   s115  female  group B  71  83  78    71\n",
            "6   s116  female  group B  88  95  92    68\n",
            "7   s117    male  group B  40  43  39    59\n",
            "9   s119  female  group B  38  60  50     5\n",
            "12  s122  female  group B  65  81  73    77\n",
            "17  s127  female  group B  18  32  28    53\n",
            "21  s131  female  group B  65  75  70    29\n",
            "26  s136    male  group B  69  54  55    72\n",
            "31  s141  female  group B  63  65  61    99\n"
          ]
        }
      ]
    },
    {
      "cell_type": "markdown",
      "metadata": {
        "id": "EIVvBDh2qkQJ"
      },
      "source": [
        "## 分組統計"
      ]
    },
    {
      "cell_type": "code",
      "metadata": {
        "colab": {
          "base_uri": "https://localhost:8080/",
          "height": 446
        },
        "id": "RnR1PxpRrK1_",
        "outputId": "bd4a0492-37b2-4786-907c-82a15564dbfc"
      },
      "source": [
        "#分組\n",
        "fd_group = df.groupby('組別')\n",
        "\n",
        "print(fd_group.groups)\n",
        "\n",
        "#取出 group B 組\n",
        "fd_group.get_group('group B')"
      ],
      "execution_count": null,
      "outputs": [
        {
          "output_type": "stream",
          "name": "stdout",
          "text": [
            "{'group A': [3, 13, 14, 25], 'group B': [0, 2, 5, 6, 7, 9, 12, 17, 21, 26, 31], 'group C': [1, 4, 10, 15, 16, 18, 19, 23, 27, 28], 'group D': [8, 11, 20, 22, 24, 29, 30, 33], 'group E': [32]}\n"
          ]
        },
        {
          "output_type": "execute_result",
          "data": {
            "text/html": [
              "<div>\n",
              "<style scoped>\n",
              "    .dataframe tbody tr th:only-of-type {\n",
              "        vertical-align: middle;\n",
              "    }\n",
              "\n",
              "    .dataframe tbody tr th {\n",
              "        vertical-align: top;\n",
              "    }\n",
              "\n",
              "    .dataframe thead th {\n",
              "        text-align: right;\n",
              "    }\n",
              "</style>\n",
              "<table border=\"1\" class=\"dataframe\">\n",
              "  <thead>\n",
              "    <tr style=\"text-align: right;\">\n",
              "      <th></th>\n",
              "      <th>姓名</th>\n",
              "      <th>性別</th>\n",
              "      <th>組別</th>\n",
              "      <th>國語</th>\n",
              "      <th>數學</th>\n",
              "      <th>社會</th>\n",
              "      <th>rand</th>\n",
              "    </tr>\n",
              "  </thead>\n",
              "  <tbody>\n",
              "    <tr>\n",
              "      <th>0</th>\n",
              "      <td>s110</td>\n",
              "      <td>female</td>\n",
              "      <td>group B</td>\n",
              "      <td>72</td>\n",
              "      <td>72</td>\n",
              "      <td>74</td>\n",
              "      <td>9</td>\n",
              "    </tr>\n",
              "    <tr>\n",
              "      <th>2</th>\n",
              "      <td>s112</td>\n",
              "      <td>female</td>\n",
              "      <td>group B</td>\n",
              "      <td>90</td>\n",
              "      <td>95</td>\n",
              "      <td>93</td>\n",
              "      <td>3</td>\n",
              "    </tr>\n",
              "    <tr>\n",
              "      <th>5</th>\n",
              "      <td>s115</td>\n",
              "      <td>female</td>\n",
              "      <td>group B</td>\n",
              "      <td>71</td>\n",
              "      <td>83</td>\n",
              "      <td>78</td>\n",
              "      <td>71</td>\n",
              "    </tr>\n",
              "    <tr>\n",
              "      <th>6</th>\n",
              "      <td>s116</td>\n",
              "      <td>female</td>\n",
              "      <td>group B</td>\n",
              "      <td>88</td>\n",
              "      <td>95</td>\n",
              "      <td>92</td>\n",
              "      <td>68</td>\n",
              "    </tr>\n",
              "    <tr>\n",
              "      <th>7</th>\n",
              "      <td>s117</td>\n",
              "      <td>male</td>\n",
              "      <td>group B</td>\n",
              "      <td>40</td>\n",
              "      <td>43</td>\n",
              "      <td>39</td>\n",
              "      <td>59</td>\n",
              "    </tr>\n",
              "    <tr>\n",
              "      <th>9</th>\n",
              "      <td>s119</td>\n",
              "      <td>female</td>\n",
              "      <td>group B</td>\n",
              "      <td>38</td>\n",
              "      <td>60</td>\n",
              "      <td>50</td>\n",
              "      <td>5</td>\n",
              "    </tr>\n",
              "    <tr>\n",
              "      <th>12</th>\n",
              "      <td>s122</td>\n",
              "      <td>female</td>\n",
              "      <td>group B</td>\n",
              "      <td>65</td>\n",
              "      <td>81</td>\n",
              "      <td>73</td>\n",
              "      <td>77</td>\n",
              "    </tr>\n",
              "    <tr>\n",
              "      <th>17</th>\n",
              "      <td>s127</td>\n",
              "      <td>female</td>\n",
              "      <td>group B</td>\n",
              "      <td>18</td>\n",
              "      <td>32</td>\n",
              "      <td>28</td>\n",
              "      <td>53</td>\n",
              "    </tr>\n",
              "    <tr>\n",
              "      <th>21</th>\n",
              "      <td>s131</td>\n",
              "      <td>female</td>\n",
              "      <td>group B</td>\n",
              "      <td>65</td>\n",
              "      <td>75</td>\n",
              "      <td>70</td>\n",
              "      <td>29</td>\n",
              "    </tr>\n",
              "    <tr>\n",
              "      <th>26</th>\n",
              "      <td>s136</td>\n",
              "      <td>male</td>\n",
              "      <td>group B</td>\n",
              "      <td>69</td>\n",
              "      <td>54</td>\n",
              "      <td>55</td>\n",
              "      <td>72</td>\n",
              "    </tr>\n",
              "    <tr>\n",
              "      <th>31</th>\n",
              "      <td>s141</td>\n",
              "      <td>female</td>\n",
              "      <td>group B</td>\n",
              "      <td>63</td>\n",
              "      <td>65</td>\n",
              "      <td>61</td>\n",
              "      <td>99</td>\n",
              "    </tr>\n",
              "  </tbody>\n",
              "</table>\n",
              "</div>"
            ],
            "text/plain": [
              "      姓名      性別       組別  國語  數學  社會  rand\n",
              "0   s110  female  group B  72  72  74     9\n",
              "2   s112  female  group B  90  95  93     3\n",
              "5   s115  female  group B  71  83  78    71\n",
              "6   s116  female  group B  88  95  92    68\n",
              "7   s117    male  group B  40  43  39    59\n",
              "9   s119  female  group B  38  60  50     5\n",
              "12  s122  female  group B  65  81  73    77\n",
              "17  s127  female  group B  18  32  28    53\n",
              "21  s131  female  group B  65  75  70    29\n",
              "26  s136    male  group B  69  54  55    72\n",
              "31  s141  female  group B  63  65  61    99"
            ]
          },
          "metadata": {},
          "execution_count": 45
        }
      ]
    },
    {
      "cell_type": "code",
      "metadata": {
        "colab": {
          "base_uri": "https://localhost:8080/",
          "height": 245
        },
        "id": "6-R14EZep752",
        "outputId": "6c3ed9d6-9f52-4961-be90-31e91db676ee"
      },
      "source": [
        "# groupby 計算\n",
        "#小計\n",
        "df.groupby('組別').sum()\n",
        "#平均\n",
        "df.groupby('組別').mean()\n"
      ],
      "execution_count": null,
      "outputs": [
        {
          "output_type": "execute_result",
          "data": {
            "text/html": [
              "<div>\n",
              "<style scoped>\n",
              "    .dataframe tbody tr th:only-of-type {\n",
              "        vertical-align: middle;\n",
              "    }\n",
              "\n",
              "    .dataframe tbody tr th {\n",
              "        vertical-align: top;\n",
              "    }\n",
              "\n",
              "    .dataframe thead th {\n",
              "        text-align: right;\n",
              "    }\n",
              "</style>\n",
              "<table border=\"1\" class=\"dataframe\">\n",
              "  <thead>\n",
              "    <tr style=\"text-align: right;\">\n",
              "      <th></th>\n",
              "      <th>國語</th>\n",
              "      <th>數學</th>\n",
              "      <th>社會</th>\n",
              "      <th>rand</th>\n",
              "    </tr>\n",
              "    <tr>\n",
              "      <th>組別</th>\n",
              "      <th></th>\n",
              "      <th></th>\n",
              "      <th></th>\n",
              "      <th></th>\n",
              "    </tr>\n",
              "  </thead>\n",
              "  <tbody>\n",
              "    <tr>\n",
              "      <th>group A</th>\n",
              "      <td>62.000000</td>\n",
              "      <td>64.000000</td>\n",
              "      <td>61.000000</td>\n",
              "      <td>34.250000</td>\n",
              "    </tr>\n",
              "    <tr>\n",
              "      <th>group B</th>\n",
              "      <td>61.727273</td>\n",
              "      <td>68.636364</td>\n",
              "      <td>64.818182</td>\n",
              "      <td>49.545455</td>\n",
              "    </tr>\n",
              "    <tr>\n",
              "      <th>group C</th>\n",
              "      <td>66.600000</td>\n",
              "      <td>69.800000</td>\n",
              "      <td>69.900000</td>\n",
              "      <td>52.100000</td>\n",
              "    </tr>\n",
              "    <tr>\n",
              "      <th>group D</th>\n",
              "      <td>57.375000</td>\n",
              "      <td>62.000000</td>\n",
              "      <td>61.625000</td>\n",
              "      <td>42.500000</td>\n",
              "    </tr>\n",
              "    <tr>\n",
              "      <th>group E</th>\n",
              "      <td>56.000000</td>\n",
              "      <td>72.000000</td>\n",
              "      <td>65.000000</td>\n",
              "      <td>27.000000</td>\n",
              "    </tr>\n",
              "  </tbody>\n",
              "</table>\n",
              "</div>"
            ],
            "text/plain": [
              "                國語         數學         社會       rand\n",
              "組別                                                 \n",
              "group A  62.000000  64.000000  61.000000  34.250000\n",
              "group B  61.727273  68.636364  64.818182  49.545455\n",
              "group C  66.600000  69.800000  69.900000  52.100000\n",
              "group D  57.375000  62.000000  61.625000  42.500000\n",
              "group E  56.000000  72.000000  65.000000  27.000000"
            ]
          },
          "metadata": {},
          "execution_count": 46
        }
      ]
    },
    {
      "cell_type": "markdown",
      "metadata": {
        "id": "Mxe-lNRfB0e-"
      },
      "source": [
        "# 轉向"
      ]
    },
    {
      "cell_type": "code",
      "metadata": {
        "colab": {
          "base_uri": "https://localhost:8080/"
        },
        "id": "l5DLJWuWB0xh",
        "outputId": "09e832b5-d629-4d29-c2b7-1119833b9563"
      },
      "source": [
        "import pandas as pd\n",
        "dic = {\n",
        "    \"col_1\": [1, 2, 3], \n",
        "    \"col_2\": [10, 20, 30],\n",
        "    \"col_3\": list('xyz'),\n",
        "    \"col_4\": ['a', 'b', 'c'],\n",
        "    \"col_5\": pd.Series(range(3))\n",
        "}\n",
        "df = pd.DataFrame(dic)\n",
        "print(df)\n",
        "\n",
        "print(df.T)"
      ],
      "execution_count": null,
      "outputs": [
        {
          "output_type": "stream",
          "name": "stdout",
          "text": [
            "   col_1  col_2 col_3 col_4  col_5\n",
            "0      1     10     x     a      0\n",
            "1      2     20     y     b      1\n",
            "2      3     30     z     c      2\n",
            "        0   1   2\n",
            "col_1   1   2   3\n",
            "col_2  10  20  30\n",
            "col_3   x   y   z\n",
            "col_4   a   b   c\n",
            "col_5   0   1   2\n"
          ]
        }
      ]
    },
    {
      "cell_type": "markdown",
      "metadata": {
        "id": "a0yvJ6kSH1Iw"
      },
      "source": [
        "##逐一取得成多列"
      ]
    },
    {
      "cell_type": "code",
      "metadata": {
        "id": "H3HgdzvBDXlj"
      },
      "source": [
        "#逐一成每列一個值\n",
        "list_data = df.values.tolist()\n",
        "print(list_data)\n",
        "new_list=[]\n",
        "for rows in list_data:\n",
        "    #print(rows )\n",
        "    for cell in rows:\n",
        "        new_list.append(cell)\n",
        "print(new_list)        \n",
        "\n",
        "df2 = pd.DataFrame(new_list)\n",
        "df2 \n",
        " \n"
      ],
      "execution_count": null,
      "outputs": []
    }
  ]
}