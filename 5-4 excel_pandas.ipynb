{
  "nbformat": 4,
  "nbformat_minor": 0,
  "metadata": {
    "colab": {
      "name": "excel_pandas.ipynb",
      "provenance": [],
      "collapsed_sections": [],
      "authorship_tag": "ABX9TyMFmqT41xYVeKvc/LWGCqQu",
      "include_colab_link": true
    },
    "kernelspec": {
      "name": "python3",
      "display_name": "Python 3"
    }
  },
  "cells": [
    {
      "cell_type": "markdown",
      "metadata": {
        "id": "view-in-github",
        "colab_type": "text"
      },
      "source": [
        "<a href=\"https://colab.research.google.com/github/prolin99/python_begin/blob/main/5-4%20excel_pandas.ipynb\" target=\"_parent\"><img src=\"https://colab.research.google.com/assets/colab-badge.svg\" alt=\"Open In Colab\"/></a>"
      ]
    },
    {
      "cell_type": "markdown",
      "metadata": {
        "id": "fWNte8o4eXBI"
      },
      "source": [
        "# 使用 pandas 讀寫 excel \n",
        "[pandas.DataFrame.to_excel](https://pandas.pydata.org/pandas-docs/stable/reference/api/pandas.DataFrame.to_excel.html)\n",
        "\n",
        "* 如果出現不支援 xlsx 出現錯誤，這是因為 xlrd 2.0版後只支援 .xls ，可以改用 openpyxl 套件\n",
        "\n",
        "\n",
        "```\n",
        "# pip install openpyxl\n",
        "\n",
        "df = pd.read_excel('sample.xlsx' ,engine='openpyxl')\n",
        "```\n",
        "\n",
        "* 另外注意，讀取出來的值格式可能要再做檢查，例如整數或小數。\n"
      ]
    },
    {
      "cell_type": "code",
      "metadata": {
        "colab": {
          "base_uri": "https://localhost:8080/"
        },
        "id": "xlmy6kLibLZv",
        "outputId": "0f6dc446-c856-48e1-d3d6-7d3a9fbfdb0b"
      },
      "source": [
        "#寫人 excel \n",
        "import pandas as pd\n",
        "\n",
        "excel_data = []\n",
        "for i in range(10):\n",
        "  excel_data.append(['a{0}'.format(i), 'b{0}'.format(i), 'c{0}'.format(i)])\n",
        "\n",
        "print(excel_data)  \n",
        "\n",
        "\n",
        "#df = pd.DataFrame(excel_data)\n",
        "#可以加上欄位或列名 index=['row 1', 'row 2']  columns=[\"A欄\",\"B欄\",\"C欄\"]\n",
        "df = pd.DataFrame(excel_data, columns=[\"A欄\",\"B欄\",\"C欄\"])\n",
        "#df.to_excel('sample.xlsx' )\n",
        "df.to_excel('sample.xlsx' , index = False )\n"
      ],
      "execution_count": null,
      "outputs": [
        {
          "output_type": "stream",
          "text": [
            "[['a0', 'b0', 'c0'], ['a1', 'b1', 'c1'], ['a2', 'b2', 'c2'], ['a3', 'b3', 'c3'], ['a4', 'b4', 'c4'], ['a5', 'b5', 'c5'], ['a6', 'b6', 'c6'], ['a7', 'b7', 'c7'], ['a8', 'b8', 'c8'], ['a9', 'b9', 'c9']]\n"
          ],
          "name": "stdout"
        }
      ]
    },
    {
      "cell_type": "code",
      "metadata": {
        "id": "c-9whlJSfEDl"
      },
      "source": [
        "# 讀取 excel \n",
        "import pandas as pd\n",
        "df = pd.read_excel('sample.xlsx')\n",
        "# df = pd.read_excel('sample.xlsx' ,engine='openpyxl')\n",
        "print(df)\n",
        "\n",
        "print('-----')\n",
        "# 最大列數\n",
        "for row in range(df.index.stop):\n",
        "   print('{},{},{}'.format(df.values[row][0],df.values[row][1],df.values[row][2]) )\n",
        "\n",
        "print('-----')\n",
        "#使用串列方式取值\n",
        "data_list = df.to_numpy()\n",
        "for va,vb,vc in data_list:\n",
        "  print(va,vb,vc)\n",
        "\n",
        " \n",
        " "
      ],
      "execution_count": null,
      "outputs": []
    },
    {
      "cell_type": "markdown",
      "metadata": {
        "id": "AIcHTjPB1s8e"
      },
      "source": [
        "#學生成績處理常用功能\n",
        "請在本機中測試以下程式碼：\n",
        "\n",
        "下載以下鍵結檔 excel 檔案，檔名為 stud_test.xlsx\n",
        "https://docs.google.com/spreadsheets/d/14UtocYfdKTBk0WLNnNh2InaXieX9ZWEQYEfscv5e03o/edit?usp=sharing"
      ]
    },
    {
      "cell_type": "code",
      "metadata": {
        "colab": {
          "base_uri": "https://localhost:8080/"
        },
        "id": "VXEH8SaoEdw-",
        "outputId": "d6d75989-0d8a-492e-d201-58dfb4d2edc7"
      },
      "source": [
        "#這一段只是在讀取 goole 雲端檔案的寫法 ，執行這一段需要授權\n",
        "from google.colab import drive\n",
        "drive.mount('/content/drive')"
      ],
      "execution_count": null,
      "outputs": [
        {
          "output_type": "stream",
          "name": "stdout",
          "text": [
            "Mounted at /content/drive\n"
          ]
        }
      ]
    },
    {
      "cell_type": "markdown",
      "metadata": {
        "id": "fmFLuMKe0j6K"
      },
      "source": [
        "## 讀檔"
      ]
    },
    {
      "cell_type": "code",
      "metadata": {
        "colab": {
          "base_uri": "https://localhost:8080/"
        },
        "id": "ZNkmIroX1tb4",
        "outputId": "b2d36ea2-1061-4aa7-fb0a-bf36513837da"
      },
      "source": [
        "import pandas as pd \n",
        "#把 excel 練習檔案放在 雲端 pylib 目錄上了\n",
        "df = pd.read_excel(\"/content/drive/My Drive/pylib/stud_test1.xlsx\" , engine='openpyxl')\n",
        "#df = pd.read_excel(\"stud_test1.xlsx\" , engine='openpyxl')\n",
        "\n",
        "#列出前五筆\n",
        "print(df.head(5))\n",
        "\n",
        "#列出 count筆數、比均、最大最小等\n",
        "print(df.describe())\n",
        "\n",
        "#單科總和 sum() 平均 mean  最小min() 最大 max() 筆數 count()\n",
        "print(df['國語'].mean())\n",
        "\n"
      ],
      "execution_count": 8,
      "outputs": [
        {
          "output_type": "stream",
          "name": "stdout",
          "text": [
            "     姓名      性別       組別  國語  數學  社會\n",
            "0  s110  female  group B  72  72  74\n",
            "1  s111  female  group C  69  90  88\n",
            "2  s112  female  group B  90  95  93\n",
            "3  s113    male  group A  47  57  44\n",
            "4  s114    male  group C  76  78  75\n",
            "              國語         數學         社會\n",
            "count  34.000000  34.000000  34.000000\n",
            "mean   62.000000  66.970588  65.117647\n",
            "std    15.988632  15.329681  16.069479\n",
            "min    18.000000  32.000000  28.000000\n",
            "25%    51.000000  54.750000  53.500000\n",
            "50%    65.500000  70.000000  68.500000\n",
            "75%    70.750000  74.750000  75.000000\n",
            "max    90.000000  95.000000  93.000000\n",
            "62.0\n"
          ]
        }
      ]
    },
    {
      "cell_type": "markdown",
      "metadata": {
        "id": "9yrSNBBrFmvi"
      },
      "source": [
        "##加入欄位：總分、平均"
      ]
    },
    {
      "cell_type": "code",
      "metadata": {
        "colab": {
          "base_uri": "https://localhost:8080/"
        },
        "id": "-HhkepNEFZgf",
        "outputId": "e2b1ae6a-5df7-4608-9787-88f4e766b0bb"
      },
      "source": [
        "\n",
        "#第一種方法\n",
        "#使用 水平軸算平均(但要注意有些數字欄位是不是成績，例如座號等數字)\n",
        "df['mean']= df.mean(axis=1 )\n",
        "\n",
        "#第二種方法\n",
        "#加入個人總分、平均\n",
        "#df['總分'] = df['國語']+df['數學']+df['社會']\n",
        "#df['平均'] = df['總分']/3\n",
        "\n",
        "print(df.head(5))\n",
        "\n"
      ],
      "execution_count": 7,
      "outputs": [
        {
          "output_type": "stream",
          "name": "stdout",
          "text": [
            "     姓名      性別       組別  國語  數學  社會       mean\n",
            "0  s110  female  group B  72  72  74  72.666667\n",
            "1  s111  female  group C  69  90  88  82.333333\n",
            "2  s112  female  group B  90  95  93  92.666667\n",
            "3  s113    male  group A  47  57  44  49.333333\n",
            "4  s114    male  group C  76  78  75  76.333333\n"
          ]
        }
      ]
    },
    {
      "cell_type": "markdown",
      "metadata": {
        "id": "sGOV7itvuAHz"
      },
      "source": [
        "##排序"
      ]
    },
    {
      "cell_type": "code",
      "metadata": {
        "colab": {
          "base_uri": "https://localhost:8080/",
          "height": 213
        },
        "id": "SYqT3t7EuAgq",
        "outputId": "52b9ac44-78ec-4ef4-972a-3b19b648611b"
      },
      "source": [
        "#排序　\n",
        "df_sort = df.sort_values(by=['mean'] , ascending=False)\n",
        "df_sort.head(5) "
      ],
      "execution_count": 6,
      "outputs": [
        {
          "output_type": "execute_result",
          "data": {
            "text/html": [
              "<div>\n",
              "<style scoped>\n",
              "    .dataframe tbody tr th:only-of-type {\n",
              "        vertical-align: middle;\n",
              "    }\n",
              "\n",
              "    .dataframe tbody tr th {\n",
              "        vertical-align: top;\n",
              "    }\n",
              "\n",
              "    .dataframe thead th {\n",
              "        text-align: right;\n",
              "    }\n",
              "</style>\n",
              "<table border=\"1\" class=\"dataframe\">\n",
              "  <thead>\n",
              "    <tr style=\"text-align: right;\">\n",
              "      <th></th>\n",
              "      <th>姓名</th>\n",
              "      <th>性別</th>\n",
              "      <th>組別</th>\n",
              "      <th>國語</th>\n",
              "      <th>數學</th>\n",
              "      <th>社會</th>\n",
              "      <th>mean</th>\n",
              "    </tr>\n",
              "  </thead>\n",
              "  <tbody>\n",
              "    <tr>\n",
              "      <th>2</th>\n",
              "      <td>s112</td>\n",
              "      <td>female</td>\n",
              "      <td>group B</td>\n",
              "      <td>90</td>\n",
              "      <td>95</td>\n",
              "      <td>93</td>\n",
              "      <td>92.666667</td>\n",
              "    </tr>\n",
              "    <tr>\n",
              "      <th>6</th>\n",
              "      <td>s116</td>\n",
              "      <td>female</td>\n",
              "      <td>group B</td>\n",
              "      <td>88</td>\n",
              "      <td>95</td>\n",
              "      <td>92</td>\n",
              "      <td>91.666667</td>\n",
              "    </tr>\n",
              "    <tr>\n",
              "      <th>16</th>\n",
              "      <td>s126</td>\n",
              "      <td>male</td>\n",
              "      <td>group C</td>\n",
              "      <td>88</td>\n",
              "      <td>89</td>\n",
              "      <td>86</td>\n",
              "      <td>87.666667</td>\n",
              "    </tr>\n",
              "    <tr>\n",
              "      <th>1</th>\n",
              "      <td>s111</td>\n",
              "      <td>female</td>\n",
              "      <td>group C</td>\n",
              "      <td>69</td>\n",
              "      <td>90</td>\n",
              "      <td>88</td>\n",
              "      <td>82.333333</td>\n",
              "    </tr>\n",
              "    <tr>\n",
              "      <th>5</th>\n",
              "      <td>s115</td>\n",
              "      <td>female</td>\n",
              "      <td>group B</td>\n",
              "      <td>71</td>\n",
              "      <td>83</td>\n",
              "      <td>78</td>\n",
              "      <td>77.333333</td>\n",
              "    </tr>\n",
              "  </tbody>\n",
              "</table>\n",
              "</div>"
            ],
            "text/plain": [
              "      姓名      性別       組別  國語  數學  社會       mean\n",
              "2   s112  female  group B  90  95  93  92.666667\n",
              "6   s116  female  group B  88  95  92  91.666667\n",
              "16  s126    male  group C  88  89  86  87.666667\n",
              "1   s111  female  group C  69  90  88  82.333333\n",
              "5   s115  female  group B  71  83  78  77.333333"
            ]
          },
          "metadata": {},
          "execution_count": 6
        }
      ]
    },
    {
      "cell_type": "code",
      "metadata": {
        "colab": {
          "base_uri": "https://localhost:8080/"
        },
        "id": "i3QVgbs1xC7r",
        "outputId": "8bfed0bf-f88b-4265-c0ea-f7d921b81f23"
      },
      "source": [
        "#加入一個亂數欄位，常用於抽籤\n",
        "\n",
        "import numpy as np \n",
        "\n",
        "#df 筆數\n",
        "print(df.shape[0])\n",
        "\n",
        "\n",
        "#使用 np 產生 list 長度  df.shape[0]\n",
        "df['rand'] = np.random.randint(1, 100, df.shape[0])\n",
        "print(df.head(5))\n",
        "\n",
        "df_sort = df.sort_values(by=['rand'] )\n",
        "print(df_sort.head(5))"
      ],
      "execution_count": 24,
      "outputs": [
        {
          "output_type": "stream",
          "name": "stdout",
          "text": [
            "34\n",
            "     姓名      性別       組別  國語  數學  社會  rand\n",
            "0  s110  female  group B  72  72  74    89\n",
            "1  s111  female  group C  69  90  88     3\n",
            "2  s112  female  group B  90  95  93     3\n",
            "3  s113    male  group A  47  57  44    88\n",
            "4  s114    male  group C  76  78  75    68\n",
            "      姓名      性別       組別  國語  數學  社會  rand\n",
            "8   s118    male  group D  64  64  67     1\n",
            "15  s125  female  group C  69  75  78     2\n",
            "1   s111  female  group C  69  90  88     3\n",
            "2   s112  female  group B  90  95  93     3\n",
            "5   s115  female  group B  71  83  78     4\n"
          ]
        }
      ]
    },
    {
      "cell_type": "markdown",
      "metadata": {
        "id": "SlW1AAc2Fvj0"
      },
      "source": [
        "##取得部份資料"
      ]
    },
    {
      "cell_type": "code",
      "metadata": {
        "colab": {
          "base_uri": "https://localhost:8080/"
        },
        "id": "aJUBqUHOv6MD",
        "outputId": "838cc1cb-3b5f-4245-b60f-4ae93d6d018f"
      },
      "source": [
        "# 取筆數\n",
        "print(df[2:5])\n",
        "\n",
        "print(df['姓名'][2:5].values)\n"
      ],
      "execution_count": 14,
      "outputs": [
        {
          "output_type": "stream",
          "name": "stdout",
          "text": [
            "     姓名      性別       組別  國語  數學  社會\n",
            "2  s112  female  group B  90  95  93\n",
            "3  s113    male  group A  47  57  44\n",
            "4  s114    male  group C  76  78  75\n",
            "['s112' 's113' 's114']\n"
          ]
        }
      ]
    },
    {
      "cell_type": "code",
      "metadata": {
        "id": "3VfT_LzMFcJM"
      },
      "source": [
        "#取得部份資料 女性\n",
        "df_female= df[df['性別']=='female']\n",
        "print(df_female)\n",
        "\n",
        "#女生 並為 group B\n",
        "df_female_GroupB = df[(df['性別']=='female') & (df['組別'] == 'group B')]\n",
        "print(df_female_GroupB)\n",
        "\n",
        "\n",
        "#組別欄位中有 B 字元\n",
        "df_GroupB = df[df['組別'].str.contains('B')]\n",
        "print(df_GroupB)"
      ],
      "execution_count": null,
      "outputs": []
    }
  ]
}