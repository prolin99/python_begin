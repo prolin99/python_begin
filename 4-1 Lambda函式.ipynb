{
  "nbformat": 4,
  "nbformat_minor": 0,
  "metadata": {
    "colab": {
      "name": "Lambda函式.ipynb",
      "provenance": [],
      "collapsed_sections": [],
      "authorship_tag": "ABX9TyPQUyBzzk0vDcZN+ZI3wJsZ",
      "include_colab_link": true
    },
    "kernelspec": {
      "name": "python3",
      "display_name": "Python 3"
    }
  },
  "cells": [
    {
      "cell_type": "markdown",
      "metadata": {
        "id": "view-in-github",
        "colab_type": "text"
      },
      "source": [
        "<a href=\"https://colab.research.google.com/github/prolin99/python_begin/blob/main/4-1%20Lambda%E5%87%BD%E5%BC%8F.ipynb\" target=\"_parent\"><img src=\"https://colab.research.google.com/assets/colab-badge.svg\" alt=\"Open In Colab\"/></a>"
      ]
    },
    {
      "cell_type": "markdown",
      "metadata": {
        "id": "bb28GLiPMwMZ"
      },
      "source": [
        "# lambda 視為一行的函鷜\n",
        "* lambda 參數1, 參數2, …: 運算式A if 關係運算式 else 運算式B\n",
        "> if 為真 運算A ，否則 運算B\n",
        "\n",
        "* 建議使用函數取代，可讀性比較高。\n",
        "\n",
        "* 善用 lamba 有時效率會比較高。\n",
        "\n",
        "[參考內容](https://sites.google.com/site/ezpythoncolorcourse/lambdafunction)"
      ]
    },
    {
      "cell_type": "code",
      "metadata": {
        "id": "t6W5FsvaMZsh"
      },
      "source": [
        "# max 大小比較\n",
        "f = lambda num1, num2: num1 if num1 > num2 else num2\n",
        "f(5,9)"
      ],
      "execution_count": null,
      "outputs": []
    },
    {
      "cell_type": "markdown",
      "metadata": {
        "id": "TIiyxIyiPxoF"
      },
      "source": [
        "# lambda 參數1, 參數2, …: 運算式A\n",
        "* 沒有判斷式就全部傳回 運算式A"
      ]
    },
    {
      "cell_type": "code",
      "metadata": {
        "id": "f515M8jVPjVz"
      },
      "source": [
        "# 如果沒有 if ... ，那就都\n",
        "equiv_anon = lambda x : x * 2 \n",
        "equiv_anon(5)\n"
      ],
      "execution_count": null,
      "outputs": []
    },
    {
      "cell_type": "code",
      "metadata": {
        "id": "e2YPkcSARCwT"
      },
      "source": [
        "strings = ['foo', 'card', 'bar', 'aaaaa', 'abab']\n",
        "#預設以字元順序排序\n",
        "strings.sort()\n",
        "strings\n"
      ],
      "execution_count": null,
      "outputs": []
    },
    {
      "cell_type": "code",
      "metadata": {
        "id": "eVwBH9m6RH9V"
      },
      "source": [
        "#以使用 字串長度 排序\n",
        "#x 參數，代表每一個串列值\n",
        "strings.sort(key=lambda x: len(x))\n",
        "strings"
      ],
      "execution_count": null,
      "outputs": []
    },
    {
      "cell_type": "code",
      "metadata": {
        "id": "pDrhzQyAR_xd"
      },
      "source": [
        "#以使用到字元數 排序\n",
        "strings.sort(key=lambda x: len(set(list(x))) )\n",
        "strings"
      ],
      "execution_count": null,
      "outputs": []
    },
    {
      "cell_type": "code",
      "metadata": {
        "id": "1TRqgTkOSU5I"
      },
      "source": [
        "# 多維串列預設以第一欄排序，如果要指定欄位排序\n",
        "student_tuples = [\n",
        "    ('john', 'A', 15),\n",
        "    ('jane', 'O', 12),\n",
        "    ('dave', 'B', 10),\n",
        "]\n",
        "sorted(student_tuples, key=lambda student: student[2])   # key 傳回值是第三欄年級 sort by age\n",
        " "
      ],
      "execution_count": null,
      "outputs": []
    }
  ]
}