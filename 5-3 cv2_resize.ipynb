{
  "nbformat": 4,
  "nbformat_minor": 0,
  "metadata": {
    "colab": {
      "name": "cv2_resize.ipynb",
      "provenance": [],
      "collapsed_sections": [],
      "authorship_tag": "ABX9TyMSbiP1LmN5VaSSXRzuehMo",
      "include_colab_link": true
    },
    "kernelspec": {
      "name": "python3",
      "display_name": "Python 3"
    }
  },
  "cells": [
    {
      "cell_type": "markdown",
      "metadata": {
        "id": "view-in-github",
        "colab_type": "text"
      },
      "source": [
        "<a href=\"https://colab.research.google.com/github/prolin99/python_begin/blob/main/5-3%20cv2_resize.ipynb\" target=\"_parent\"><img src=\"https://colab.research.google.com/assets/colab-badge.svg\" alt=\"Open In Colab\"/></a>"
      ]
    },
    {
      "cell_type": "markdown",
      "metadata": {
        "id": "dO6PKvYfkyum"
      },
      "source": [
        "# 縮圖\n",
        "* pip install opencv-python  (colab 已安裝)\n",
        "\n",
        "* 在 google cola 中先把圖檔上傳（左方檔案小圖示）\n",
        "\n",
        "* [[Python+OpenCV] 圖片縮放 resize](https://shengyu7697.github.io/blog/2019/11/10/Python-OpenCV-resize/)"
      ]
    },
    {
      "cell_type": "code",
      "metadata": {
        "id": "trTTwrXch3La"
      },
      "source": [
        "import cv2\n",
        "\n",
        "src = cv2.imread('A09.jpg')\n",
        "scale_percent = 50\n",
        "\n",
        "#calculate the 50 percent of original dimensions\n",
        "width = int(src.shape[1] * scale_percent / 100)\n",
        "height = int(src.shape[0] * scale_percent / 100)\n",
        "\n",
        "\n",
        "image = cv2.resize(image, (width, height), interpolation=cv2.INTER_AREA)\n",
        "# colab 無法展示圖\n",
        "#cv2.imshow('Result', image)\n",
        "#cv2.waitKey(0)\n",
        "\n",
        "\n",
        "\n",
        "#存縮圖\n",
        "cv2.imwrite('re.jpg', image)"
      ],
      "execution_count": null,
      "outputs": []
    },
    {
      "cell_type": "markdown",
      "metadata": {
        "id": "jCCWbCiflHHs"
      },
      "source": [
        "* 如果想要在本機目錄中找整個目錄中的圖檔全製作縮圖，怎麼做？"
      ]
    }
  ]
}