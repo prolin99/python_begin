{
  "nbformat": 4,
  "nbformat_minor": 0,
  "metadata": {
    "colab": {
      "name": "download_yt_mp4.ipynb",
      "provenance": [],
      "collapsed_sections": [],
      "authorship_tag": "ABX9TyNDpPVo3kFUWgt624dwDZgX",
      "include_colab_link": true
    },
    "kernelspec": {
      "name": "python3",
      "display_name": "Python 3"
    }
  },
  "cells": [
    {
      "cell_type": "markdown",
      "metadata": {
        "id": "view-in-github",
        "colab_type": "text"
      },
      "source": [
        "<a href=\"https://colab.research.google.com/github/prolin99/python_begin/blob/main/5-2download_yt_mp4.ipynb\" target=\"_parent\"><img src=\"https://colab.research.google.com/assets/colab-badge.svg\" alt=\"Open In Colab\"/></a>"
      ]
    },
    {
      "cell_type": "markdown",
      "metadata": {
        "id": "kgLqU7jD8yVY"
      },
      "source": [
        "# 下載 youtube 影片\n",
        "需安裝模組\n",
        "* pip install pytube\n",
        "\n",
        "```\n",
        "# 主要程式\n",
        "from pytube import YouTube\n",
        "\n",
        "url = \"youtube影片網址\"\n",
        "YouTube(url).streams.first().download() \n",
        "\n",
        "```"
      ]
    },
    {
      "cell_type": "code",
      "metadata": {
        "id": "hKuYjSPk2hLu"
      },
      "source": [
        "# 雲端環境，需安裝 pytube 模組套件\n",
        "\n",
        "!pip install pytube"
      ],
      "execution_count": null,
      "outputs": []
    },
    {
      "cell_type": "code",
      "metadata": {
        "id": "88cw4OZa2YZg"
      },
      "source": [
        "#下載 mp4 模組\n",
        "from pytube import YouTube\n",
        "\n",
        "url= input(\"請貼上 youtube 影片的位址：\")\n",
        "\n",
        "# 取得的 mp4 可在左方檔案找到\n",
        "fn = YouTube(url).streams.first().download() \n",
        "\n",
        " \n",
        "# ------------------------------------------\n",
        "# 從 google 雲端下載的模組\n",
        "from google.colab import files\n",
        "files.download(fn) \n"
      ],
      "execution_count": null,
      "outputs": []
    },
    {
      "cell_type": "markdown",
      "metadata": {
        "id": "Ve7SR_EE9Xe0"
      },
      "source": [
        "## 第二版，可以選擇mp3 mp4\n"
      ]
    },
    {
      "cell_type": "code",
      "metadata": {
        "id": "vNLJTd1l59BU"
      },
      "source": [
        "#下載 mp4 模組\n",
        "from pytube import YouTube\n",
        "import os\n",
        "\n",
        "url= input(\"請貼上 youtube 影片的位址：\")\n",
        "media_type = input(\"選擇：1.mp4 2.mp3 : \")\n",
        "\n",
        "if media_type == \"1\":\n",
        "    video = YouTube(url).streams.first()\n",
        "\n",
        "elif media_type == \"2\":\n",
        "    video = YouTube(url).streams.filter(only_audio = True).first()\n",
        "\n",
        "else:\n",
        "    print(\"Invalid selection.\")\n",
        "# 取得的 mp4 可在左方檔案找到\n",
        "fn = video.download() \n",
        "\n",
        "# 改名\n",
        "if media_type == \"2\":\n",
        "    mp3_fn = fn.replace(\".mp4\" , \".mp3\")\n",
        "    os.rename( fn , mp3_fn)\n",
        "    fn = mp3_fn\n",
        " \n",
        "# ------------------------------------------\n",
        "# 從 google 雲端下載的模組\n",
        "from google.colab import files\n",
        "files.download(fn) "
      ],
      "execution_count": null,
      "outputs": []
    }
  ]
}