{
  "nbformat": 4,
  "nbformat_minor": 0,
  "metadata": {
    "colab": {
      "name": "條件.ipynb",
      "provenance": [],
      "collapsed_sections": [],
      "authorship_tag": "ABX9TyPttbtgO01XuFit3ac1JgHS",
      "include_colab_link": true
    },
    "kernelspec": {
      "name": "python3",
      "display_name": "Python 3"
    }
  },
  "cells": [
    {
      "cell_type": "markdown",
      "metadata": {
        "id": "view-in-github",
        "colab_type": "text"
      },
      "source": [
        "<a href=\"https://colab.research.google.com/github/prolin99/python_begin/blob/main/3-1%E6%A2%9D%E4%BB%B6.ipynb\" target=\"_parent\"><img src=\"https://colab.research.google.com/assets/colab-badge.svg\" alt=\"Open In Colab\"/></a>"
      ]
    },
    {
      "cell_type": "markdown",
      "metadata": {
        "id": "hsKuiEri3iFY"
      },
      "source": [
        "# 條件判斷\r\n",
        "## if  else \r\n",
        "\r\n",
        "\\>\r\n",
        "\r\n",
        "\\<\r\n",
        "\r\n",
        "== 比較相同\r\n",
        "\r\n",
        "!= 不相等\r\n",
        "\r\n",
        "not \r\n",
        "\r\n",
        "in\r\n",
        "\r\n",
        "is\r\n",
        "\r\n",
        "and  \r\n",
        "\r\n",
        "or \r\n",
        "\r\n",
        "True\r\n",
        "\r\n",
        "False"
      ]
    },
    {
      "cell_type": "code",
      "metadata": {
        "id": "O2QcoNCW3Vyg"
      },
      "source": [
        "#|n| 絕對值\r\n",
        "\r\n",
        "n = -70\r\n",
        "if n <0 :\r\n",
        "  n = -n \r\n",
        "else: \r\n",
        "  n = n     \r\n",
        "print(n)\r\n",
        "\r\n",
        "#一行式的寫法，比較好嗎？\r\n",
        "n = -70\r\n",
        "n=-n if n < 0 else n\r\n",
        "print(n)\r\n",
        "\r\n",
        "#msg = dividend/divisor if divisor != 0 else '除以零不合理'\r\n"
      ],
      "execution_count": null,
      "outputs": []
    },
    {
      "cell_type": "markdown",
      "metadata": {
        "id": "gCPM91yH4iW3"
      },
      "source": [
        "## if ...elsif"
      ]
    },
    {
      "cell_type": "code",
      "metadata": {
        "id": "1urkWsoy4imt"
      },
      "source": [
        "a = 32\r\n",
        "b = 33\r\n",
        "\r\n",
        "if b > a:\r\n",
        "  print(\"b is greater than a\")\r\n",
        "elif a == b:\r\n",
        "  print(\"a and b are equal\")"
      ],
      "execution_count": null,
      "outputs": []
    },
    {
      "cell_type": "markdown",
      "metadata": {
        "id": "IuJXsPgq5KdL"
      },
      "source": [
        "## if ...elsif ...else\r\n",
        "\r\n",
        "python 沒有 switch/case  語法"
      ]
    },
    {
      "cell_type": "code",
      "metadata": {
        "id": "yEI3KJj_5Kq1"
      },
      "source": [
        "a = 200\r\n",
        "b = 33\r\n",
        "\r\n",
        "if b > a:\r\n",
        "  print(\"b is greater than a\")\r\n",
        "elif a == b:\r\n",
        "  print(\"a and b are equal\")\r\n",
        "else:\r\n",
        "  print(\"a is greater than b\")"
      ],
      "execution_count": null,
      "outputs": []
    },
    {
      "cell_type": "markdown",
      "metadata": {
        "id": "vK9msAiE5SM7"
      },
      "source": [
        "## 判斷條件 AND OR"
      ]
    },
    {
      "cell_type": "code",
      "metadata": {
        "id": "Z-VBb_o25S0j"
      },
      "source": [
        "year= eval(input(\"請輸入年\"))\r\n",
        "\r\n",
        "if ((year%400==0) or (year%4==0 and year%100!=0)):\r\n",
        "  print(\"{0} 是閏年\".format(year))\r\n",
        "else:\r\n",
        "  print(\"{0} 不是閏年\".format(year))"
      ],
      "execution_count": null,
      "outputs": []
    }
  ]
}