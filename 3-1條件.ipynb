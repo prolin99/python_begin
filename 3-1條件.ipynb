{
  "nbformat": 4,
  "nbformat_minor": 0,
  "metadata": {
    "colab": {
      "name": "條件.ipynb",
      "provenance": [],
      "collapsed_sections": [],
      "authorship_tag": "ABX9TyOnbmU4kHHB9rOYhtnT5ZTh",
      "include_colab_link": true
    },
    "kernelspec": {
      "name": "python3",
      "display_name": "Python 3"
    }
  },
  "cells": [
    {
      "cell_type": "markdown",
      "metadata": {
        "id": "view-in-github",
        "colab_type": "text"
      },
      "source": [
        "<a href=\"https://colab.research.google.com/github/prolin99/python_begin/blob/main/3-1%E6%A2%9D%E4%BB%B6.ipynb\" target=\"_parent\"><img src=\"https://colab.research.google.com/assets/colab-badge.svg\" alt=\"Open In Colab\"/></a>"
      ]
    },
    {
      "cell_type": "markdown",
      "metadata": {
        "id": "hsKuiEri3iFY"
      },
      "source": [
        "# if  else \r\n",
        "\r\n",
        "\\>\r\n",
        "\r\n",
        "\\<\r\n",
        "\r\n",
        "== 比較相同\r\n",
        "\r\n",
        "!= 不相等\r\n",
        "\r\n",
        "not \r\n",
        "\r\n",
        "in\r\n",
        "\r\n",
        "is\r\n",
        "\r\n",
        "and  or "
      ]
    },
    {
      "cell_type": "code",
      "metadata": {
        "colab": {
          "base_uri": "https://localhost:8080/"
        },
        "id": "O2QcoNCW3Vyg",
        "outputId": "dc8b3b25-7e5e-4450-ff74-98e270fa8cd8"
      },
      "source": [
        "#|n| 絕對值\r\n",
        "\r\n",
        "n = -70\r\n",
        "if n <0 :\r\n",
        "  n = -n \r\n",
        "else: \r\n",
        "  n = n     \r\n",
        "print(n)\r\n",
        "\r\n",
        "#一行式的寫法，比較好嗎？\r\n",
        "n = -70\r\n",
        "n=-n if n < 0 else n\r\n",
        "print(n)\r\n",
        "\r\n",
        "#msg = dividend/divisor if divisor != 0 else '除以零不合理'\r\n"
      ],
      "execution_count": null,
      "outputs": [
        {
          "output_type": "stream",
          "text": [
            "70\n",
            "70\n"
          ],
          "name": "stdout"
        }
      ]
    },
    {
      "cell_type": "markdown",
      "metadata": {
        "id": "gCPM91yH4iW3"
      },
      "source": [
        "# if ...elsif"
      ]
    },
    {
      "cell_type": "code",
      "metadata": {
        "colab": {
          "base_uri": "https://localhost:8080/"
        },
        "id": "1urkWsoy4imt",
        "outputId": "ebd0087b-a53d-4ec4-b4aa-1b7cb79e1884"
      },
      "source": [
        "a = 32\r\n",
        "b = 33\r\n",
        "\r\n",
        "if b > a:\r\n",
        "  print(\"b is greater than a\")\r\n",
        "elif a == b:\r\n",
        "  print(\"a and b are equal\")"
      ],
      "execution_count": null,
      "outputs": [
        {
          "output_type": "stream",
          "text": [
            "b is greater than a\n"
          ],
          "name": "stdout"
        }
      ]
    },
    {
      "cell_type": "markdown",
      "metadata": {
        "id": "IuJXsPgq5KdL"
      },
      "source": [
        "#if ...elsif ...else\r\n",
        "\r\n",
        "python 沒有 switch/case  語法"
      ]
    },
    {
      "cell_type": "code",
      "metadata": {
        "colab": {
          "base_uri": "https://localhost:8080/"
        },
        "id": "yEI3KJj_5Kq1",
        "outputId": "fd492345-9eca-4015-8d88-38eb5702dc82"
      },
      "source": [
        "a = 200\r\n",
        "b = 33\r\n",
        "\r\n",
        "if b > a:\r\n",
        "  print(\"b is greater than a\")\r\n",
        "elif a == b:\r\n",
        "  print(\"a and b are equal\")\r\n",
        "else:\r\n",
        "  print(\"a is greater than b\")"
      ],
      "execution_count": null,
      "outputs": [
        {
          "output_type": "stream",
          "text": [
            "a is greater than b\n"
          ],
          "name": "stdout"
        }
      ]
    },
    {
      "cell_type": "markdown",
      "metadata": {
        "id": "vK9msAiE5SM7"
      },
      "source": [
        "# 判斷條件 AND OR"
      ]
    },
    {
      "cell_type": "code",
      "metadata": {
        "id": "Z-VBb_o25S0j"
      },
      "source": [
        "year= eval(input(\"請輸入年\"))\r\n",
        "\r\n",
        "if ((year%400==0) or (year%4==0 and year%100!=0)):\r\n",
        "  print(\"{0} 是閏年\".format(year))\r\n",
        "else:\r\n",
        "  print(\"{0} 不是閏年\".format(year))"
      ],
      "execution_count": null,
      "outputs": []
    }
  ]
}