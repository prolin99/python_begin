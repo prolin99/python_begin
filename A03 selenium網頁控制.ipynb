{
  "nbformat": 4,
  "nbformat_minor": 0,
  "metadata": {
    "colab": {
      "name": "selenium網頁控制.ipynb",
      "provenance": [],
      "authorship_tag": "ABX9TyNkx79NoYY7w35JI9x2VelO",
      "include_colab_link": true
    },
    "kernelspec": {
      "name": "python3",
      "display_name": "Python 3"
    },
    "language_info": {
      "name": "python"
    }
  },
  "cells": [
    {
      "cell_type": "markdown",
      "metadata": {
        "id": "view-in-github",
        "colab_type": "text"
      },
      "source": [
        "<a href=\"https://colab.research.google.com/github/prolin99/python_begin/blob/main/A03%20selenium%E7%B6%B2%E9%A0%81%E6%8E%A7%E5%88%B6.ipynb\" target=\"_parent\"><img src=\"https://colab.research.google.com/assets/colab-badge.svg\" alt=\"Open In Colab\"/></a>"
      ]
    },
    {
      "cell_type": "markdown",
      "metadata": {
        "id": "ua1hK9Ka7WWw"
      },
      "source": [
        "# selenium\n",
        "\n",
        "需要先下載配合的 geckodriver 檔案，並存放在目錄中(/usr/bin/)。\n",
        "\n",
        "[chrome 版本](http://chromedriver.storage.googleapis.com/index.html)要配合電腦安裝的 chrome 版本\n",
        " \n",
        "[Firefox 版本](https://github.com/mozilla/geckodriver/releases)\n",
        "\n"
      ]
    },
    {
      "cell_type": "code",
      "metadata": {
        "id": "q1kgXRfD7RbG"
      },
      "source": [
        "from selenium import webdriver\n",
        "from selenium.webdriver.common.keys import Keys\n",
        "import time\n",
        "\n",
        "\n",
        "# chrome 版本的 chromedrive 指定的位置  \n",
        "browser = webdriver.Chrome( executable_path='/usr/bin/chromedriver')\n",
        "# 如果己放在預定 PATH 中，可以省略\n",
        "# browser = webdriver.Chrome()\n",
        "\n",
        "browser.get('http://google.com')\n",
        "\n",
        "time.sleep(0.5)\n",
        "# 找到輸入處，輸入文字\n",
        "elem_query = browser.find_element_by_name('q')\n",
        "elem_query.send_keys('新營美食')\n",
        "\n",
        "# 按下 enter 鍵\n",
        "time.sleep(0.5)\n",
        "elem_query.send_keys(Keys.ENTER)\n",
        "\n",
        "\n",
        "# 結束\n",
        "time.sleep(5)\n",
        "browser.close()\n",
        "browser.quit()"
      ],
      "execution_count": null,
      "outputs": []
    }
  ]
}