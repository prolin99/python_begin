{
  "nbformat": 4,
  "nbformat_minor": 0,
  "metadata": {
    "colab": {
      "name": "tuple.ipynb",
      "provenance": [],
      "collapsed_sections": [],
      "authorship_tag": "ABX9TyNRcwrQCseYjWosRTdDq2Dd",
      "include_colab_link": true
    },
    "kernelspec": {
      "name": "python3",
      "display_name": "Python 3"
    }
  },
  "cells": [
    {
      "cell_type": "markdown",
      "metadata": {
        "id": "view-in-github",
        "colab_type": "text"
      },
      "source": [
        "<a href=\"https://colab.research.google.com/github/prolin99/python_begin/blob/main/2-4tuple.ipynb\" target=\"_parent\"><img src=\"https://colab.research.google.com/assets/colab-badge.svg\" alt=\"Open In Colab\"/></a>"
      ]
    },
    {
      "cell_type": "markdown",
      "metadata": {
        "id": "n5yPjOHpgfVb"
      },
      "source": [
        "# tuple(儲存容器)\r\n",
        "\r\n",
        "和陣列（List)相類似，可排列，但不能更改內容，所以比較小功快速。"
      ]
    },
    {
      "cell_type": "code",
      "metadata": {
        "colab": {
          "base_uri": "https://localhost:8080/"
        },
        "id": "SbdWoMfNgc9i",
        "outputId": "26b305a4-fa8b-4dae-9800-a3a947d86a44"
      },
      "source": [
        "\r\n",
        "\r\n",
        "t=1,2,3  \r\n",
        "t=(1,2,3)     #兩種寫法\r\n",
        "print(t)\r\n",
        "print(t[2])   #結果3\r\n",
        "\r\n",
        "\r\n",
        "\r\n"
      ],
      "execution_count": null,
      "outputs": [
        {
          "output_type": "stream",
          "text": [
            "(1, 2, 3)\n",
            "3\n"
          ],
          "name": "stdout"
        }
      ]
    },
    {
      "cell_type": "code",
      "metadata": {
        "id": "a-W3YL4dxxGs"
      },
      "source": [
        "# 可以修改值嗎？\r\n",
        "t[0] = 9 \r\n",
        "\r\n",
        "\r\n",
        "# 如果有改值的需求呢？\r\n",
        "t2 = list(t)\r\n",
        "t2[0] = 9 \r\n",
        "print(tuple(t2))\r\n",
        "\r\n"
      ],
      "execution_count": null,
      "outputs": []
    },
    {
      "cell_type": "markdown",
      "metadata": {
        "id": "aILcxyKHyMFa"
      },
      "source": [
        "注意：指定的寫法"
      ]
    },
    {
      "cell_type": "code",
      "metadata": {
        "id": "dVG2VQK5gqCT"
      },
      "source": [
        "\r\n",
        "\r\n",
        "t3=('x')\r\n",
        "t4=('x',)\r\n",
        "print('t3 type',type(t3))\r\n",
        "print('t4 type',type(t4))\r\n",
        "\r\n",
        "\r\n"
      ],
      "execution_count": null,
      "outputs": []
    },
    {
      "cell_type": "code",
      "metadata": {
        "id": "ZKzSG7w-zzq_"
      },
      "source": [
        "t1=(1,2,3,4,5,6)\r\n",
        "\r\n",
        "print( t1[:3] )\r\n",
        "\r\n",
        "#有沒有錯誤\r\n",
        "index = t1.index('3')\r\n",
        "print('The index of 3:', index)"
      ],
      "execution_count": null,
      "outputs": []
    },
    {
      "cell_type": "markdown",
      "metadata": {
        "id": "vGCpMQjQxP30"
      },
      "source": [
        "加法："
      ]
    },
    {
      "cell_type": "code",
      "metadata": {
        "id": "khHi_n_JxCso"
      },
      "source": [
        "t1=(1,2,3)\r\n",
        "t1 = t1 + (4,)\r\n",
        "print(t1)\r\n",
        "\r\n",
        "#以下這句可以嗎？\r\n",
        "#t1 = t1+ (5)\r\n",
        "\r\n",
        "\r\n",
        "tuple1 = (\"a\", \"b\" , \"c\")\r\n",
        "tuple2 = (1, 2, 3)\r\n",
        "\r\n",
        "tuple3 = tuple1 + tuple2\r\n",
        "print(tuple3)\r\n"
      ],
      "execution_count": null,
      "outputs": []
    },
    {
      "cell_type": "code",
      "metadata": {
        "id": "hoP5HuI2xdet"
      },
      "source": [
        "#這和加法不一樣\r\n",
        "t=(1,2,3) \r\n",
        "t2=(t,4,5)\r\n",
        "print(t2)      #((1,2,3),4,5)\r\n",
        "print(t2[0])   #(1,2,3)\r\n"
      ],
      "execution_count": null,
      "outputs": []
    },
    {
      "cell_type": "markdown",
      "metadata": {
        "id": "xu_zdYMfufkr"
      },
      "source": [
        "# tuple內建函數：\r\n",
        "　　count()\t\r\n",
        "\r\n",
        "　　index()\r\n",
        " \r\n",
        "\r\n",
        "1. len(tuple)計算元組元素個數。\r\n",
        "3. max(tuple)返回元組中元素最大值。\r\n",
        "4. min(tuple)返回元組中元素最小值。\r\n",
        "5. tuple(seq)將列表轉換為元組。"
      ]
    },
    {
      "cell_type": "code",
      "metadata": {
        "colab": {
          "base_uri": "https://localhost:8080/"
        },
        "id": "zen5Stewu0aR",
        "outputId": "b224eac2-92e0-4136-89b5-cb93c4af7279"
      },
      "source": [
        "tu1 = (123, 'Teacher', 'School', 'Teacher', 123, 'Teacher', 'School', 'Teacher', 'School')\r\n",
        "tu2 = (777, 'iPhone', 'Apple', 'iPhone', 101, 'Teacher', 'School', 'Apple', 'Google')\r\n",
        "\r\n",
        "print (\"123 元素的個數 : \", tu1.count(123))\r\n",
        "print (\"Teacher 元素的個數 : \", tu1.count('Teacher'))\r\n",
        "print(len(tu1))\r\n"
      ],
      "execution_count": null,
      "outputs": [
        {
          "output_type": "stream",
          "text": [
            "123 元素的個數 :  2\n",
            "Teacher 元素的個數 :  4\n",
            "9\n"
          ],
          "name": "stdout"
        }
      ]
    }
  ]
}