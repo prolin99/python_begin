{
  "nbformat": 4,
  "nbformat_minor": 0,
  "metadata": {
    "colab": {
      "name": "函數.ipynb",
      "provenance": [],
      "collapsed_sections": [],
      "authorship_tag": "ABX9TyPZNNd70ysXhM/hUUbY7HFQ",
      "include_colab_link": true
    },
    "kernelspec": {
      "name": "python3",
      "display_name": "Python 3"
    }
  },
  "cells": [
    {
      "cell_type": "markdown",
      "metadata": {
        "id": "view-in-github",
        "colab_type": "text"
      },
      "source": [
        "<a href=\"https://colab.research.google.com/github/prolin99/python_begin/blob/main/4%20%E5%87%BD%E6%95%B8.ipynb\" target=\"_parent\"><img src=\"https://colab.research.google.com/assets/colab-badge.svg\" alt=\"Open In Colab\"/></a>"
      ]
    },
    {
      "cell_type": "markdown",
      "metadata": {
        "id": "NDZWYKtjAr3o"
      },
      "source": [
        "# 函數\r\n",
        "程式中常有相同的部份，就把它們寫成函數，重複呼叫。\r\n",
        "\r\n",
        "def func_name([]):\r\n",
        "\r\n",
        "* 注意傳入參數的數量要一致。\r\n",
        "* 可以傳回 0 個或多個傳回值\r\n",
        "* 可以取代內建的函數，而且不會提出警告"
      ]
    },
    {
      "cell_type": "code",
      "metadata": {
        "id": "SrINcpylSV9V"
      },
      "source": [
        "def greet_user():\n",
        "  print(\"Hello\")\n",
        "\n",
        "greet_user()\n",
        "  "
      ],
      "execution_count": null,
      "outputs": []
    },
    {
      "cell_type": "code",
      "metadata": {
        "id": "gbbUtTLWSjVy"
      },
      "source": [
        "def greet_user(username):\n",
        "  print(\"Hello, \" + username.title() + \"!\")\n",
        "\n",
        "greet_user('john')  \n",
        "greet_user('mary')\n",
        "\n"
      ],
      "execution_count": null,
      "outputs": []
    },
    {
      "cell_type": "markdown",
      "metadata": {
        "id": "oeEvxiLJTTWB"
      },
      "source": [
        "## 參數有效範圍\n"
      ]
    },
    {
      "cell_type": "code",
      "metadata": {
        "id": "vzdAMLviTz0h"
      },
      "source": [
        "def get_id(id):\n",
        "  id = id + 1 \n",
        "  return id \n",
        "\n",
        "id = 5 \n",
        "get_id(id)  \n",
        "\n",
        "#那這時的 id 值是多少？\n",
        "id\n",
        "\n",
        "#如果要更動 id 值？"
      ],
      "execution_count": null,
      "outputs": []
    },
    {
      "cell_type": "markdown",
      "metadata": {
        "id": "jo-5gpglRIM0"
      },
      "source": [
        "## 傳回值\n",
        "* 可以傳回 0 或多個值\n",
        "* 沒寫接收傳回值的變數，不會出現錯誤警告"
      ]
    },
    {
      "cell_type": "code",
      "metadata": {
        "id": "L18ZYYyyRLfy"
      },
      "source": [
        "def swap(a,b):\n",
        "  a , b = b ,a\n",
        "  return a , b \n",
        "\n",
        "a = 4\n",
        "b = 5\n",
        "\n",
        "#不接收\n",
        "swap(a,b )\n",
        "\n",
        "\n",
        "a,b  = swap(a,b )\n",
        "a ,b "
      ],
      "execution_count": null,
      "outputs": []
    },
    {
      "cell_type": "markdown",
      "metadata": {
        "id": "kEDI3iigS3G5"
      },
      "source": [
        "## 函數名相同時"
      ]
    },
    {
      "cell_type": "code",
      "metadata": {
        "id": "qpcfjLgMBQD4"
      },
      "source": [
        "#要先執行這段，如果已經執行下一段程式碼， sum 函數已被取代\r\n",
        "sum([1,2,3])\r\n"
      ],
      "execution_count": null,
      "outputs": []
    },
    {
      "cell_type": "code",
      "metadata": {
        "id": "WteOd6UQRblG"
      },
      "source": [
        "def sum(i1, i2):\n",
        "    result = 0\n",
        "    for i in range(i1, i2):\n",
        "        result += i\n",
        "    return result\n",
        "\n",
        "def main():\n",
        "    print(\"Sum from 1 to 10 is\", sum(1, 11)) \n",
        "    print(\"Sum from 20 to 37 is\", sum(20, 38))\n",
        "    print(\"Sum from 35 to 49 is\", sum(35, 50))\n",
        "\n",
        "\n",
        "main() # Call the main function"
      ],
      "execution_count": null,
      "outputs": []
    },
    {
      "cell_type": "code",
      "metadata": {
        "id": "jpZiG4HyC5cj"
      },
      "source": [
        "#傳入的參數個數不足\r\n",
        "\r\n",
        "sum(11)\r\n"
      ],
      "execution_count": null,
      "outputs": []
    },
    {
      "cell_type": "markdown",
      "metadata": {
        "id": "eWrVDjhBDS03"
      },
      "source": [
        "## 參數值省略及指定\r\n",
        "\r\n",
        "* 參數預設值，可以省略\r\n",
        "* 名稱指定可以不依參數順序\r\n"
      ]
    },
    {
      "cell_type": "code",
      "metadata": {
        "id": "3uDzg3iqDREP"
      },
      "source": [
        "def printArea(width = 11, height = 12):\r\n",
        "    area = width * height\r\n",
        "    print(\"width:\", width, \"\\theight:\", height, \"\\tarea:\", area)  #\\t  tab 定位建\r\n",
        "\r\n",
        "printArea() \r\n",
        "printArea(4, 2.5) # Positional arguments width = 4 and height = 2.5\r\n",
        "printArea(height = 5, width = 3) # Keyword arguments width \r\n",
        "printArea(width = 1.2) # Default height = 2\r\n",
        "printArea(height = 6.2) # Default widht = 1"
      ],
      "execution_count": null,
      "outputs": []
    },
    {
      "cell_type": "markdown",
      "metadata": {
        "id": "-ieGvAJOEJTK"
      },
      "source": [
        "## 不定量參數"
      ]
    },
    {
      "cell_type": "code",
      "metadata": {
        "id": "pKAF21nKEKBG"
      },
      "source": [
        "def print_params(*params): \r\n",
        "    print(params) \r\n",
        "\r\n",
        "print_params('Testing') \r\n",
        "\r\n",
        "print_params(1, 2, 3) "
      ],
      "execution_count": null,
      "outputs": []
    },
    {
      "cell_type": "code",
      "metadata": {
        "id": "fs7m5cAQEdY7"
      },
      "source": [
        "def print_params_2(title, *params): \r\n",
        "    print(title) \r\n",
        "    print(params)\r\n",
        "\r\n",
        "print_params_2('Params:', 1, 2, 3)\r\n",
        "print_params_2('Nothing:')"
      ],
      "execution_count": null,
      "outputs": []
    },
    {
      "cell_type": "markdown",
      "metadata": {
        "id": "HBO1fkE2RsZk"
      },
      "source": [
        "## list(陣列、串列）參數，在函數中更動\n",
        "* 會影響原 list"
      ]
    },
    {
      "cell_type": "code",
      "metadata": {
        "id": "E7CLmjWjWJLH"
      },
      "source": [
        "#反序\n",
        "def rever_list(old_list, new_list):\n",
        "  while old_list:\n",
        "    item = old_list.pop()\n",
        "    new_list.append(item)\n",
        "\n",
        "source_list = ['apple', 'banana' , 'milk']    \n",
        "target_list = []\n",
        "rever_list(source_list , target_list)\n",
        "\n",
        "\n",
        "source_list , target_list\n",
        "\n",
        "\n",
        "\n"
      ],
      "execution_count": null,
      "outputs": []
    },
    {
      "cell_type": "markdown",
      "metadata": {
        "id": "En9I9RdnbhRM"
      },
      "source": [
        "### 如果不想要更動 list 值\n",
        "* 使用 [:] ，代表複製一份參數過去"
      ]
    },
    {
      "cell_type": "code",
      "metadata": {
        "id": "klwBQLBJbd6E"
      },
      "source": [
        "def rever_list(old_list, new_list):\n",
        "  while old_list:\n",
        "    item = old_list.pop()\n",
        "    new_list.append(item)\n",
        "\n",
        "source_list = ['apple', 'banana' , 'milk']    \n",
        "target_list = []\n",
        "rever_list(source_list[:] , target_list)\n",
        "\n",
        "\n",
        "source_list , target_list"
      ],
      "execution_count": null,
      "outputs": []
    },
    {
      "cell_type": "markdown",
      "metadata": {
        "id": "DhhWSu6scOTi"
      },
      "source": [
        "## 遞迴\n",
        "* 函數呼叫本身"
      ]
    },
    {
      "cell_type": "code",
      "metadata": {
        "id": "3ftqNCS3cSaa"
      },
      "source": [
        "def n_level(n):\n",
        "  res = 1\n",
        "  if n > 1:\n",
        "    print( \"前 {}*{}= {}\".format(n,n-1, res))\n",
        "    res  = n * n_level(n-1) \n",
        "    print( \"後 {}*{}= {}\".format(n,n-1, res))\n",
        "  return res   \n",
        "\n",
        "n_level(5)   \n"
      ],
      "execution_count": null,
      "outputs": []
    }
  ]
}