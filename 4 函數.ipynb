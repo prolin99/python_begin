{
  "nbformat": 4,
  "nbformat_minor": 0,
  "metadata": {
    "colab": {
      "name": "函數.ipynb",
      "provenance": [],
      "collapsed_sections": [],
      "authorship_tag": "ABX9TyPHa8WequssYMWN3+HU046P",
      "include_colab_link": true
    },
    "kernelspec": {
      "name": "python3",
      "display_name": "Python 3"
    }
  },
  "cells": [
    {
      "cell_type": "markdown",
      "metadata": {
        "id": "view-in-github",
        "colab_type": "text"
      },
      "source": [
        "<a href=\"https://colab.research.google.com/github/prolin99/python_begin/blob/main/4%20%E5%87%BD%E6%95%B8.ipynb\" target=\"_parent\"><img src=\"https://colab.research.google.com/assets/colab-badge.svg\" alt=\"Open In Colab\"/></a>"
      ]
    },
    {
      "cell_type": "markdown",
      "metadata": {
        "id": "NDZWYKtjAr3o"
      },
      "source": [
        "# 函數\r\n",
        "程式中常有相同的部份，就把它們寫成函數，重複呼叫。\r\n",
        "\r\n",
        "def func_name([argv]):\r\n",
        "\r\n",
        "* 注意傳入參數的數量要一致。\r\n",
        "* 可以傳回 0 個或多個傳回值\r\n",
        "* 可以取代內建的函數，而且不會提出警告"
      ]
    },
    {
      "cell_type": "code",
      "metadata": {
        "id": "SrINcpylSV9V"
      },
      "source": [
        "def greet_user():\n",
        "  print(\"Hello\")\n",
        "\n",
        "greet_user()\n",
        "  "
      ],
      "execution_count": null,
      "outputs": []
    },
    {
      "cell_type": "code",
      "metadata": {
        "id": "gbbUtTLWSjVy"
      },
      "source": [
        "def greet_user(username):\n",
        "  print(\"Hello, \" + username.title() + \"!\")\n",
        "\n",
        "greet_user('john')  \n",
        "greet_user('mary')\n",
        "\n"
      ],
      "execution_count": null,
      "outputs": []
    },
    {
      "cell_type": "markdown",
      "metadata": {
        "id": "oeEvxiLJTTWB"
      },
      "source": [
        "## 參數有效範圍\n"
      ]
    },
    {
      "cell_type": "code",
      "metadata": {
        "id": "vzdAMLviTz0h"
      },
      "source": [
        "def get_id(id):\n",
        "  id = id + 1 \n",
        "  return id \n",
        "\n",
        "id = 5 \n",
        "get_id(id)  \n",
        "\n",
        "#那這時的 id 值是多少？\n",
        "id\n",
        "\n",
        "#如果要更動 id 值？"
      ],
      "execution_count": null,
      "outputs": []
    },
    {
      "cell_type": "code",
      "metadata": {
        "colab": {
          "base_uri": "https://localhost:8080/"
        },
        "id": "XzN09rXyaaKa",
        "outputId": "9102f198-7c00-4e70-a026-a726128366c0"
      },
      "source": [
        "# 全域變數\n",
        "a = 1    \n",
        "b = 2\n",
        "c = 3\n",
        "def fun():\n",
        "    global a, c   # 宣告函式中會用到全域變數a和c\n",
        "    a = 10   # 改變全域變數a的值\n",
        "    b = 20\n",
        "    c = 30   # 改變全域變數c的值\n",
        "    \n",
        "\n",
        "fun()   # 呼叫函式\n",
        "\n",
        "a,b,c"
      ],
      "execution_count": null,
      "outputs": [
        {
          "output_type": "execute_result",
          "data": {
            "text/plain": [
              "(10, 2, 30)"
            ]
          },
          "metadata": {
            "tags": []
          },
          "execution_count": 12
        }
      ]
    },
    {
      "cell_type": "markdown",
      "metadata": {
        "id": "jo-5gpglRIM0"
      },
      "source": [
        "## 傳回值\n",
        "* 可以傳回 0 或多個值\n",
        "* 沒寫接收傳回值的變數，不會出現錯誤警告"
      ]
    },
    {
      "cell_type": "code",
      "metadata": {
        "id": "L18ZYYyyRLfy"
      },
      "source": [
        "def swap(a,b):\n",
        "  a , b = b ,a\n",
        "  return a , b \n",
        "\n",
        "a = 4\n",
        "b = 5\n",
        "\n",
        "#不接收\n",
        "swap(a,b )\n",
        "\n",
        "\n",
        "a,b  = swap(a,b )\n",
        "a ,b "
      ],
      "execution_count": null,
      "outputs": []
    },
    {
      "cell_type": "markdown",
      "metadata": {
        "id": "kEDI3iigS3G5"
      },
      "source": [
        "## 函數名相同時"
      ]
    },
    {
      "cell_type": "code",
      "metadata": {
        "id": "qpcfjLgMBQD4"
      },
      "source": [
        "#要先執行這段，如果已經執行下一段程式碼， sum 函數已被取代\r\n",
        "sum([1,2,3])\r\n"
      ],
      "execution_count": null,
      "outputs": []
    },
    {
      "cell_type": "code",
      "metadata": {
        "id": "WteOd6UQRblG"
      },
      "source": [
        "def sum(i1, i2):\n",
        "    result = 0\n",
        "    for i in range(i1, i2):\n",
        "        result += i\n",
        "    return result\n",
        "\n",
        "def main():\n",
        "    print(\"Sum from 1 to 10 is\", sum(1, 11)) \n",
        "    print(\"Sum from 20 to 37 is\", sum(20, 38))\n",
        "    print(\"Sum from 35 to 49 is\", sum(35, 50))\n",
        "\n",
        "\n",
        "main() # Call the main function"
      ],
      "execution_count": null,
      "outputs": []
    },
    {
      "cell_type": "code",
      "metadata": {
        "id": "jpZiG4HyC5cj"
      },
      "source": [
        "#傳入的參數個數不足\r\n",
        "\r\n",
        "sum(11)\r\n"
      ],
      "execution_count": null,
      "outputs": []
    },
    {
      "cell_type": "markdown",
      "metadata": {
        "id": "eWrVDjhBDS03"
      },
      "source": [
        "## 參數值省略及指定\r\n",
        "\r\n",
        "* 參數預設值，可以省略\r\n",
        "* 名稱指定可以不依參數順序\r\n"
      ]
    },
    {
      "cell_type": "code",
      "metadata": {
        "id": "3uDzg3iqDREP"
      },
      "source": [
        "def printArea(width = 11, height = 12):\r\n",
        "    area = width * height\r\n",
        "    print(\"width:\", width, \"\\theight:\", height, \"\\tarea:\", area)  #\\t  tab 定位建\r\n",
        "\r\n",
        "printArea() \r\n",
        "printArea(4, 2.5) # Positional arguments width = 4 and height = 2.5\r\n",
        "printArea(height = 5, width = 3) # Keyword arguments width \r\n",
        "printArea(width = 1.2) # Default height = 2\r\n",
        "printArea(height = 6.2) # Default widht = 1"
      ],
      "execution_count": null,
      "outputs": []
    },
    {
      "cell_type": "markdown",
      "metadata": {
        "id": "-ieGvAJOEJTK"
      },
      "source": [
        "## 不定量參數"
      ]
    },
    {
      "cell_type": "code",
      "metadata": {
        "id": "pKAF21nKEKBG"
      },
      "source": [
        "def print_params(*params): \r\n",
        "    print(params) \r\n",
        "\r\n",
        "print_params('Testing') \r\n",
        "\r\n",
        "print_params(1, 2, 3) "
      ],
      "execution_count": null,
      "outputs": []
    },
    {
      "cell_type": "code",
      "metadata": {
        "id": "fs7m5cAQEdY7"
      },
      "source": [
        "def print_params_2(title, *params): \r\n",
        "    print(title) \r\n",
        "    print(params)\r\n",
        "\r\n",
        "print_params_2('Params:', 1, 2, 3)\r\n",
        "print_params_2('Nothing:')"
      ],
      "execution_count": null,
      "outputs": []
    },
    {
      "cell_type": "markdown",
      "metadata": {
        "id": "HBO1fkE2RsZk"
      },
      "source": [
        "## list(陣列、串列）參數，在函數中更動\n",
        "* 會影響原 list"
      ]
    },
    {
      "cell_type": "code",
      "metadata": {
        "id": "E7CLmjWjWJLH"
      },
      "source": [
        "#反序\n",
        "def rever_list(old_list, new_list):\n",
        "  while old_list:\n",
        "    item = old_list.pop()\n",
        "    new_list.append(item)\n",
        "\n",
        "source_list = ['apple', 'banana' , 'milk']    \n",
        "target_list = []\n",
        "rever_list(source_list , target_list)\n",
        "\n",
        "\n",
        "source_list , target_list\n",
        "\n",
        "\n",
        "\n"
      ],
      "execution_count": null,
      "outputs": []
    },
    {
      "cell_type": "markdown",
      "metadata": {
        "id": "En9I9RdnbhRM"
      },
      "source": [
        "### 如果不想要更動 list 值\n",
        "* 使用 [:] ，代表複製一份參數過去"
      ]
    },
    {
      "cell_type": "code",
      "metadata": {
        "id": "klwBQLBJbd6E"
      },
      "source": [
        "def rever_list(old_list, new_list):\n",
        "  while old_list:\n",
        "    item = old_list.pop()\n",
        "    new_list.append(item)\n",
        "\n",
        "source_list = ['apple', 'banana' , 'milk']    \n",
        "target_list = []\n",
        "rever_list(source_list[:] , target_list)\n",
        "\n",
        "\n",
        "source_list , target_list"
      ],
      "execution_count": null,
      "outputs": []
    },
    {
      "cell_type": "markdown",
      "metadata": {
        "id": "DhhWSu6scOTi"
      },
      "source": [
        "## 遞迴\n",
        "* 函數呼叫本身"
      ]
    },
    {
      "cell_type": "code",
      "metadata": {
        "id": "3ftqNCS3cSaa"
      },
      "source": [
        "def n_level(n):\n",
        "  res = 1\n",
        "  if n > 1:\n",
        "    print( \"前 {}*{}= {}\".format(n,n-1, res))\n",
        "    res  = n * n_level(n-1) \n",
        "    print( \"後 {}*{}= {}\".format(n,n-1, res))\n",
        "  return res   \n",
        "\n",
        "n_level(5)   \n"
      ],
      "execution_count": null,
      "outputs": []
    },
    {
      "cell_type": "markdown",
      "metadata": {
        "id": "guEXkn9LUYJI"
      },
      "source": [
        "# Type Hint\n",
        "* def greeting(name: str) -> str:\n",
        "\n",
        "* python 變數是動態宣告模式，常得到測試執行時才能偵測是否有型態錯誤的問題。而 C 語言類的屬於 靜態宣告 ，如果型態錯誤在編譯時就已出現偵錯警告。\n",
        "* 上述語法，是 3.5版以後加入的型態提醒的寫法。但需再配合 mypy 等模組來做到執行前變數型態檢查。否則在預設的程式執行中沒什麼影響。\n",
        "\n",
        "* 這寫法可使 IDE(如 VsCode)，更加掌握該變數型態，提供更好的偵錯警告。"
      ]
    },
    {
      "cell_type": "code",
      "metadata": {
        "id": "qAX-obkYX717"
      },
      "source": [
        "# name 為字串，傳回為字串\n",
        "def greeting(name: str) -> str:\n",
        "  return 'Hello ' + name\n",
        "\n",
        "print(greeting('Mary'))  \n",
        "\n",
        "#print(greeting(123))"
      ],
      "execution_count": null,
      "outputs": []
    },
    {
      "cell_type": "markdown",
      "metadata": {
        "id": "BCLbzK8laClP"
      },
      "source": [
        "![t1.png](data:image/png;base64,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)"
      ]
    },
    {
      "cell_type": "markdown",
      "metadata": {
        "id": "7gLUk9Z3aKMM"
      },
      "source": [
        "![t2.png](data:image/png;base64,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)"
      ]
    },
    {
      "cell_type": "markdown",
      "metadata": {
        "id": "Rg-cU4wmpNQx"
      },
      "source": [
        "## 註解說明"
      ]
    },
    {
      "cell_type": "code",
      "metadata": {
        "colab": {
          "base_uri": "https://localhost:8080/",
          "height": 36
        },
        "id": "D2SGTGEgplQE",
        "outputId": "a42edde0-d786-4b43-cdc3-6e6647935e3b"
      },
      "source": [
        "def connect_to_next_port(self, minimum):   \n",
        "    \"\"\"Connects to the next available port.\n",
        "\n",
        "    Args:\n",
        "      minimum: A port value greater or equal to 1024.\n",
        "\n",
        "    Returns:\n",
        "      The new minimum port.\n",
        "    \"\"\"\n",
        "    pass\n",
        "\n",
        "\n",
        "connect_to_next_port.__doc__"
      ],
      "execution_count": 2,
      "outputs": [
        {
          "output_type": "execute_result",
          "data": {
            "application/vnd.google.colaboratory.intrinsic+json": {
              "type": "string"
            },
            "text/plain": [
              "'Connects to the next available port.\\n\\n    Args:\\n      minimum: A port value greater or equal to 1024.\\n\\n    Returns:\\n      The new minimum port.\\n    '"
            ]
          },
          "metadata": {
            "tags": []
          },
          "execution_count": 2
        }
      ]
    }
  ]
}