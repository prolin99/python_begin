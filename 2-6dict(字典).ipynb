{
  "nbformat": 4,
  "nbformat_minor": 0,
  "metadata": {
    "colab": {
      "name": "dict.ipynb",
      "provenance": [],
      "collapsed_sections": [],
      "authorship_tag": "ABX9TyNzEWHasw86dysmFvhGomls",
      "include_colab_link": true
    },
    "kernelspec": {
      "name": "python3",
      "display_name": "Python 3"
    }
  },
  "cells": [
    {
      "cell_type": "markdown",
      "metadata": {
        "id": "view-in-github",
        "colab_type": "text"
      },
      "source": [
        "<a href=\"https://colab.research.google.com/github/prolin99/python_begin/blob/main/2-6dict(%E5%AD%97%E5%85%B8).ipynb\" target=\"_parent\"><img src=\"https://colab.research.google.com/assets/colab-badge.svg\" alt=\"Open In Colab\"/></a>"
      ]
    },
    {
      "cell_type": "markdown",
      "metadata": {
        "id": "-HgckERJkFrN"
      },
      "source": [
        "# dict(字典) "
      ]
    },
    {
      "cell_type": "code",
      "metadata": {
        "colab": {
          "base_uri": "https://localhost:8080/"
        },
        "id": "_Nhx0slNkB6b",
        "outputId": "0d014782-d298-49cb-b1e6-b6abf639f8d9"
      },
      "source": [
        "\r\n",
        "lang={}\r\n",
        "lang={'早安':'good Morning','午安':'good afternoon'}\r\n",
        "print(lang)\r\n",
        "print(lang['早安'])\r\n",
        "#print(lang['早'])\r\n",
        "#print(lang.get('早'))      #建議使用，如果沒有字典，傳回 none ，上方語法則出現錯誤。\r\n",
        "\r\n",
        "\r\n"
      ],
      "execution_count": null,
      "outputs": [
        {
          "output_type": "stream",
          "text": [
            "{'早安': 'good Morning', '午安': 'good afternoon'}\n",
            "good Morning\n"
          ],
          "name": "stdout"
        }
      ]
    },
    {
      "cell_type": "code",
      "metadata": {
        "colab": {
          "base_uri": "https://localhost:8080/"
        },
        "id": "gmuN-B7CkpEz",
        "outputId": "bfbd996d-8bd8-468e-e162-1da679b88837"
      },
      "source": [
        "lang['學生']='student'\r\n",
        "lang.pop('早安')           #移除 早安（key）的字典\r\n",
        "print(lang)\r\n",
        "\r\n",
        "lang.clear()              #移除字典\r\n",
        "print(lang)\r\n",
        "\r\n",
        "\r\n"
      ],
      "execution_count": null,
      "outputs": [
        {
          "output_type": "stream",
          "text": [
            "{'午安': 'good afternoon', '學生': 'student'}\n",
            "{}\n"
          ],
          "name": "stdout"
        }
      ]
    },
    {
      "cell_type": "code",
      "metadata": {
        "colab": {
          "base_uri": "https://localhost:8080/"
        },
        "id": "Lj_rLRxWlOsG",
        "outputId": "01bf87c6-1a25-4b73-bb67-76aa90f692a1"
      },
      "source": [
        "lang={'你好':'hello'} \r\n",
        "print(lang)\r\n",
        "\r\n",
        "lang2={'你好':'hi'} \r\n",
        "lang.update(lang2)\r\n",
        "\r\n",
        "print(lang)\r\n",
        "\r\n"
      ],
      "execution_count": null,
      "outputs": [
        {
          "output_type": "stream",
          "text": [
            "{'你好': 'hello'}\n",
            "{'你好': 'hi'}\n"
          ],
          "name": "stdout"
        }
      ]
    },
    {
      "cell_type": "code",
      "metadata": {
        "colab": {
          "base_uri": "https://localhost:8080/"
        },
        "id": "4ipkpNxPliFl",
        "outputId": "b0f0a6ad-3aa0-4522-a5e6-2a2297617b36"
      },
      "source": [
        "lang={'你好':'hello'} \r\n",
        "lang3=lang.copy()         #複製一份為 lang3\r\n",
        "lang4=lang3               #指向同一份字典，修改 lang3 ，也會更改 lang4\r\n",
        "\r\n",
        "lang3['你好'] = 'Aloha'\r\n",
        "\r\n",
        "print(lang , lang3 , lang4)\r\n",
        "\r\n"
      ],
      "execution_count": null,
      "outputs": [
        {
          "output_type": "stream",
          "text": [
            "{'你好': 'hello'} {'你好': 'Aloha'} {'你好': 'Aloha'}\n",
            "你好 hello\n",
            "你好\n",
            "hello\n"
          ],
          "name": "stdout"
        }
      ]
    },
    {
      "cell_type": "code",
      "metadata": {
        "colab": {
          "base_uri": "https://localhost:8080/"
        },
        "id": "vIJKi8zNm3b_",
        "outputId": "de36f200-e0e6-498e-dcf6-c578f2354a9e"
      },
      "source": [
        "lang={}\r\n",
        "lang={'早安':'good Morning','午安':'good afternoon'}\r\n",
        "\r\n",
        "for ch,en in lang.items():\r\n",
        "    print(ch,en)\r\n",
        "\r\n",
        "for ch in lang.keys():\r\n",
        "    print(ch)\r\n",
        "\r\n",
        "for en in lang.values():\r\n",
        "    print(en)"
      ],
      "execution_count": null,
      "outputs": [
        {
          "output_type": "stream",
          "text": [
            "早安 good Morning\n",
            "午安 good afternoon\n",
            "早安\n",
            "午安\n",
            "good Morning\n",
            "good afternoon\n"
          ],
          "name": "stdout"
        }
      ]
    }
  ]
}