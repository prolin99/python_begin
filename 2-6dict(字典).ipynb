{
  "nbformat": 4,
  "nbformat_minor": 0,
  "metadata": {
    "colab": {
      "name": "dict.ipynb",
      "provenance": [],
      "collapsed_sections": [],
      "authorship_tag": "ABX9TyNzEWHasw86dysmFvhGomls",
      "include_colab_link": true
    },
    "kernelspec": {
      "name": "python3",
      "display_name": "Python 3"
    }
  },
  "cells": [
    {
      "cell_type": "markdown",
      "metadata": {
        "id": "view-in-github",
        "colab_type": "text"
      },
      "source": [
        "<a href=\"https://colab.research.google.com/github/prolin99/python_begin/blob/main/2-6dict(%E5%AD%97%E5%85%B8).ipynb\" target=\"_parent\"><img src=\"https://colab.research.google.com/assets/colab-badge.svg\" alt=\"Open In Colab\"/></a>"
      ]
    },
    {
      "cell_type": "markdown",
      "metadata": {
        "id": "-HgckERJkFrN"
      },
      "source": [
        "# dict(字典) "
      ]
    },
    {
      "cell_type": "code",
      "metadata": {
        "id": "_Nhx0slNkB6b"
      },
      "source": [
        "\r\n",
        "lang={}\r\n",
        "lang={'早安':'good Morning','午安':'good afternoon'}\r\n",
        "print(lang)\r\n",
        "print(lang['早安'])\r\n",
        "#print(lang['早'])\r\n",
        "#print(lang.get('早'))      #建議使用，如果沒有字典，傳回 none ，上方語法則出現錯誤。\r\n",
        "\r\n",
        "\r\n"
      ],
      "execution_count": null,
      "outputs": []
    },
    {
      "cell_type": "code",
      "metadata": {
        "id": "gmuN-B7CkpEz"
      },
      "source": [
        "lang['學生']='student'\r\n",
        "lang.pop('早安')           #移除 早安（key）的字典\r\n",
        "print(lang)\r\n",
        "\r\n",
        "lang.clear()              #移除字典\r\n",
        "print(lang)\r\n",
        "\r\n",
        "\r\n"
      ],
      "execution_count": null,
      "outputs": []
    },
    {
      "cell_type": "code",
      "metadata": {
        "id": "Lj_rLRxWlOsG"
      },
      "source": [
        "lang={'你好':'hello'} \r\n",
        "print(lang)\r\n",
        "\r\n",
        "lang2={'你好':'hi'} \r\n",
        "lang.update(lang2)\r\n",
        "\r\n",
        "print(lang)\r\n",
        "\r\n"
      ],
      "execution_count": null,
      "outputs": []
    },
    {
      "cell_type": "code",
      "metadata": {
        "id": "4ipkpNxPliFl"
      },
      "source": [
        "lang={'你好':'hello'} \r\n",
        "lang3=lang.copy()         #複製一份為 lang3\r\n",
        "lang4=lang3               #指向同一份字典，修改 lang3 ，也會更改 lang4\r\n",
        "\r\n",
        "lang3['你好'] = 'Aloha'\r\n",
        "\r\n",
        "print(lang , lang3 , lang4)\r\n",
        "\r\n"
      ],
      "execution_count": null,
      "outputs": []
    },
    {
      "cell_type": "code",
      "metadata": {
        "id": "vIJKi8zNm3b_"
      },
      "source": [
        "lang={}\r\n",
        "lang={'早安':'good Morning','午安':'good afternoon'}\r\n",
        "\r\n",
        "for ch,en in lang.items():\r\n",
        "    print(ch,en)\r\n",
        "\r\n",
        "for ch in lang.keys():\r\n",
        "    print(ch)\r\n",
        "\r\n",
        "for en in lang.values():\r\n",
        "    print(en)"
      ],
      "execution_count": null,
      "outputs": []
    }
  ]
}