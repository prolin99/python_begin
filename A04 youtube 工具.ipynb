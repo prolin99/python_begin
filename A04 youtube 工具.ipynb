{
  "nbformat": 4,
  "nbformat_minor": 0,
  "metadata": {
    "colab": {
      "name": "youtube.ipynb",
      "provenance": [],
      "authorship_tag": "ABX9TyP88yFOroQVMQpoR3CWpVNl",
      "include_colab_link": true
    },
    "kernelspec": {
      "name": "python3",
      "display_name": "Python 3"
    },
    "language_info": {
      "name": "python"
    }
  },
  "cells": [
    {
      "cell_type": "markdown",
      "metadata": {
        "id": "view-in-github",
        "colab_type": "text"
      },
      "source": [
        "<a href=\"https://colab.research.google.com/github/prolin99/python_begin/blob/main/A04%20youtube%20%E5%B7%A5%E5%85%B7.ipynb\" target=\"_parent\"><img src=\"https://colab.research.google.com/assets/colab-badge.svg\" alt=\"Open In Colab\"/></a>"
      ]
    },
    {
      "cell_type": "markdown",
      "source": [
        "# 取得 youtube \n",
        "\n",
        "需要安裝 pytube\n",
        "\n",
        "pip3 install pytube"
      ],
      "metadata": {
        "id": "BTmG6yTNbf6W"
      }
    },
    {
      "cell_type": "code",
      "source": [
        "!pip3 install pytube"
      ],
      "metadata": {
        "id": "0wR_DqA_b1vM"
      },
      "execution_count": null,
      "outputs": []
    },
    {
      "cell_type": "markdown",
      "source": [
        "# 下載 youtube mp3 格式"
      ],
      "metadata": {
        "id": "G67wo73ad9CZ"
      }
    },
    {
      "cell_type": "code",
      "source": [
        "# importing packages\n",
        "from pytube import YouTube\n",
        "import os\n",
        "\n",
        "# url input from user\n",
        "yt = YouTube(\n",
        "\tstr(input(\"Enter the URL of the video you want to download: \\n>> \")))\n",
        "\n",
        "# extract only audio\n",
        "video = yt.streams.filter(only_audio=True).first()\n",
        "\n",
        "# check for destination to save file\n",
        "print(\"Enter the destination (leave blank for current directory)\")\n",
        "destination = str(input(\">> \")) or '.'\n",
        "\n",
        "# download the file\n",
        "out_file = video.download(output_path=destination)\n",
        "\n",
        "# save the file\n",
        "base, ext = os.path.splitext(out_file)\n",
        "new_file = base + '.mp3'\n",
        "os.rename(out_file, new_file)\n",
        "\n",
        "# result of success\n",
        "print(yt.title + \" has been successfully downloaded.\")\n"
      ],
      "metadata": {
        "id": "txG8qJl8dRIo"
      },
      "execution_count": null,
      "outputs": []
    },
    {
      "cell_type": "markdown",
      "source": [
        "# 下載影片\n",
        "但會下載最小檔案的格式 3gpp"
      ],
      "metadata": {
        "id": "uf4GcgEgifxu"
      }
    },
    {
      "cell_type": "code",
      "source": [
        "import pytube\n",
        "\n",
        "url = 'https://www.youtube.com/watch?v=PJJhHihvDpo'\n",
        "\n",
        "youtube = pytube.YouTube(url)\n",
        "video = youtube.streams.first()\n",
        "video.download('')"
      ],
      "metadata": {
        "colab": {
          "base_uri": "https://localhost:8080/",
          "height": 38
        },
        "id": "WL1za3XBf7Ov",
        "outputId": "b40f87d0-432e-43cf-88c0-7af3585ba771"
      },
      "execution_count": 9,
      "outputs": [
        {
          "output_type": "execute_result",
          "data": {
            "text/plain": [
              "'/content/茄子蛋EggPlantEgg - 閣愛妳一擺 Love You One More Time (Official Music Video).3gpp'"
            ],
            "application/vnd.google.colaboratory.intrinsic+json": {
              "type": "string"
            }
          },
          "metadata": {},
          "execution_count": 9
        }
      ]
    },
    {
      "cell_type": "markdown",
      "source": [
        "#下載 Mp4 格式\n",
        "\n",
        "mp4 品質會有多種選擇，會再要求選 itag"
      ],
      "metadata": {
        "id": "9RQWCVrnhUKO"
      }
    },
    {
      "cell_type": "code",
      "source": [
        "from pytube import YouTube \n",
        "\n",
        "def download_Video(yt):\n",
        "  # filter mp4 streams from object\n",
        "  my_streams = yt.streams.filter(file_extension='mp4',only_video=True)\n",
        "  for streams in my_streams:\n",
        "    # print itag, resolution and codec format of Mp4 streams\n",
        "    print(f\"Video itag : {streams.itag} Resolution : {streams.resolution} VCodec : {streams.codecs[0]}\")\n",
        "    \n",
        "    \n",
        "  # enter the itag value of resolution on which you want to download the video\n",
        "  input_itag = input(\"Enter itag Value : \")\n",
        "  # get video using itag vale\n",
        "  video = yt.streams.get_by_itag(input_itag)\n",
        "  \n",
        "  # finally download the YouTube Video...\n",
        "  video.download()\n",
        "  print(\"Video is Downloading as\",yt.title+\".mp4\")\n",
        "  \n",
        "link = \"https://www.youtube.com/watch?v=PJJhHihvDpo\"\n",
        "# Create YouTube Object.\n",
        "yt = YouTube(link) \n",
        "\n",
        "# call The function..\n",
        "download_Video(yt)"
      ],
      "metadata": {
        "id": "1ycxTqNkgta6"
      },
      "execution_count": null,
      "outputs": []
    },
    {
      "cell_type": "markdown",
      "source": [
        "#取得播放清單"
      ],
      "metadata": {
        "id": "Zc2XeiTmiPYd"
      }
    },
    {
      "cell_type": "code",
      "execution_count": null,
      "metadata": {
        "id": "2cIFRDllbZ0a"
      },
      "outputs": [],
      "source": [
        "from pytube import Playlist\n",
        "playlist = Playlist('https://www.youtube.com/watch?v=PJJhHihvDpo&list=PLsyOSbh5bs17_x-WbG7qD4mbzTNLoe38J&index=1')\n",
        "print('Number of videos in playlist: %s' % len(playlist.video_urls))\n",
        "for video_url in playlist.video_urls:\n",
        "    print(video_url)"
      ]
    },
    {
      "cell_type": "markdown",
      "source": [
        "# 另一個套件 youtube_dl 下載 mp3 格式檔\n",
        "pip3 install youtube_dl\n",
        "\n",
        "如果網址為播放清單，會一併把清單內的歌曲下載"
      ],
      "metadata": {
        "id": "Xuiau9lspw-4"
      }
    },
    {
      "cell_type": "code",
      "source": [
        "!pip3 install youtube_dl"
      ],
      "metadata": {
        "id": "8YJ1NS9hremc"
      },
      "execution_count": null,
      "outputs": []
    },
    {
      "cell_type": "code",
      "source": [
        "from __future__ import unicode_literals\n",
        "import youtube_dl\n",
        "\n",
        "\n",
        "ydl_opts = {\n",
        "    'format': 'bestaudio/best',\n",
        "    'postprocessors': [{\n",
        "        'key': 'FFmpegExtractAudio',\n",
        "        'preferredcodec': 'mp3',\n",
        "        'preferredquality': '192',\n",
        "    }],\n",
        "}\n",
        "with youtube_dl.YoutubeDL(ydl_opts) as ydl:\n",
        "    ydl.download(['https://www.youtube.com/watch?v=7lYC_NucS0I'])"
      ],
      "metadata": {
        "id": "93qmGz-9p1i3"
      },
      "execution_count": null,
      "outputs": []
    },
    {
      "cell_type": "markdown",
      "source": [
        "# 下載 mp4 格式\n",
        "format mp4 code:\n",
        "\n",
        "1. 137: 1080p\n",
        "2. 136: 720p\n",
        "3. 135: 480p\n",
        "4. 134: 360p\n",
        "5. 133: 240p"
      ],
      "metadata": {
        "id": "I1dYOm9dsAVl"
      }
    },
    {
      "cell_type": "code",
      "source": [
        "import youtube_dl\n",
        "\n",
        "url = 'https://www.youtube.com/watch?v=Ze_WkpqIhGQ'\n",
        "\n",
        "with youtube_dl.YoutubeDL({'format':'136'}) as ydl:\n",
        "    ydl.download([url])"
      ],
      "metadata": {
        "id": "wd0ZSit-roi4"
      },
      "execution_count": null,
      "outputs": []
    }
  ]
}