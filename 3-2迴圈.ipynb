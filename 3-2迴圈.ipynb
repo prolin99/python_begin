{
  "nbformat": 4,
  "nbformat_minor": 0,
  "metadata": {
    "colab": {
      "name": "迴圈.ipynb",
      "provenance": [],
      "collapsed_sections": [],
      "authorship_tag": "ABX9TyNz33lw6urqCgOTOoXawu0h",
      "include_colab_link": true
    },
    "kernelspec": {
      "name": "python3",
      "display_name": "Python 3"
    }
  },
  "cells": [
    {
      "cell_type": "markdown",
      "metadata": {
        "id": "view-in-github",
        "colab_type": "text"
      },
      "source": [
        "<a href=\"https://colab.research.google.com/github/prolin99/python_begin/blob/main/3-2%E8%BF%B4%E5%9C%88.ipynb\" target=\"_parent\"><img src=\"https://colab.research.google.com/assets/colab-badge.svg\" alt=\"Open In Colab\"/></a>"
      ]
    },
    {
      "cell_type": "markdown",
      "metadata": {
        "id": "EeGoxgmZ9kal"
      },
      "source": [
        "#range() 函式\r\n",
        " 使用range 函式 的建立整數循序數列\r\n",
        "\r\n",
        "變數3 = range(起始值, 終止值, 多少間隔)\r\n",
        "\r\n",
        "range( begin,end,step )\r\n",
        "\r\n",
        "range(10) → 0, 1, 2, 3, 4, 5, 6, 7, 8, 9\r\n",
        "\r\n",
        "range(1, 10) → 1, 2, 3, 4, 5, 6, 7, 8, 9\r\n",
        "\r\n",
        "range(1, 10, 2) → 1, 3, 5, 7, 9\r\n",
        "\r\n",
        "range(1, 1) → (empty)"
      ]
    },
    {
      "cell_type": "code",
      "metadata": {
        "colab": {
          "base_uri": "https://localhost:8080/"
        },
        "id": "zDa_piGK9kts",
        "outputId": "766a7b46-e0d4-4a35-859c-6ffbab5e1c21"
      },
      "source": [
        "list1=range(10)\r\n",
        "print(list1)\r\n",
        "\r\n",
        "print(list(list1))\r\n",
        "\r\n",
        "\r\n",
        "list3=[*range(5)]\r\n",
        "list4=list(range(5))\r\n",
        "list3, list4 "
      ],
      "execution_count": null,
      "outputs": [
        {
          "output_type": "stream",
          "text": [
            "range(0, 10)\n",
            "[0, 1, 2, 3, 4, 5, 6, 7, 8, 9]\n"
          ],
          "name": "stdout"
        }
      ]
    },
    {
      "cell_type": "markdown",
      "metadata": {
        "id": "wvyTeD-A-3Nl"
      },
      "source": [
        "# for 迴圈\r\n",
        "\r\n",
        "continue  \r\n",
        "\r\n",
        "break"
      ]
    },
    {
      "cell_type": "code",
      "metadata": {
        "colab": {
          "base_uri": "https://localhost:8080/"
        },
        "id": "efPMddes-G5N",
        "outputId": "1d3be8d3-6ef1-48b5-b367-e85f7fe9ecfe"
      },
      "source": [
        "for n in range(1, 11):\r\n",
        "  print(n)\r\n",
        "#印出 1~10 "
      ],
      "execution_count": null,
      "outputs": [
        {
          "output_type": "stream",
          "text": [
            "1\n",
            "2\n",
            "3\n",
            "4\n",
            "5\n",
            "6\n",
            "7\n",
            "8\n",
            "9\n",
            "10\n"
          ],
          "name": "stdout"
        }
      ]
    },
    {
      "cell_type": "markdown",
      "metadata": {
        "id": "LMiffUNo6VR-"
      },
      "source": [
        "# while 語法\r\n",
        "    "
      ]
    },
    {
      "cell_type": "code",
      "metadata": {
        "colab": {
          "base_uri": "https://localhost:8080/"
        },
        "id": "KeBI43Mh6Pte",
        "outputId": "5dd81ea3-179c-4659-ae0b-3b5a9b4bc6c5"
      },
      "source": [
        "count = 1\r\n",
        "while count <= 10:\r\n",
        "  print(count)\r\n",
        "  count += 1\r\n"
      ],
      "execution_count": null,
      "outputs": [
        {
          "output_type": "stream",
          "text": [
            "1\n",
            "2\n",
            "3\n",
            "4\n",
            "5\n",
            "6\n",
            "7\n",
            "8\n",
            "9\n",
            "10\n"
          ],
          "name": "stdout"
        }
      ]
    },
    {
      "cell_type": "markdown",
      "metadata": {
        "id": "LUJQx2mH9BNN"
      },
      "source": [
        "#continue\r\n",
        "在廻圈執行中途暫時停住不往下執行，而跳到廻圈的起始處繼續執行"
      ]
    },
    {
      "cell_type": "code",
      "metadata": {
        "colab": {
          "base_uri": "https://localhost:8080/"
        },
        "id": "FAtagSNs8tC6",
        "outputId": "830f676d-0b97-4469-f15d-096ee3abfe7a"
      },
      "source": [
        "n = int(input(\"請輸入正整數：\"))\r\n",
        "\r\n",
        "for i in range(1, n+1):\r\n",
        "  if i % 5 ==0:\r\n",
        "    continue\r\n",
        "  print(i,end=\" \")"
      ],
      "execution_count": null,
      "outputs": [
        {
          "output_type": "stream",
          "text": [
            "請輸入正整數：8\n",
            "1 2 3 4 6 7 8 "
          ],
          "name": "stdout"
        }
      ]
    },
    {
      "cell_type": "markdown",
      "metadata": {
        "id": "SrzY0Bsf9Q_P"
      },
      "source": [
        "# break \r\n",
        "結束迴圈"
      ]
    },
    {
      "cell_type": "code",
      "metadata": {
        "id": "jmf__k9G6mZO"
      },
      "source": [
        "fruits = [\"香蕉\",\"蘋果\",\"橘子\",\"鳳梨\",\"西瓜\"]\r\n",
        "\r\n",
        "while True:\r\n",
        "  fruit = input(\"請輸入喜歡的水果(Enter 結束)：\")\r\n",
        "\r\n",
        "  if (fruit==\"\"):\r\n",
        "    break      #結束 while\r\n",
        "  n = fruits.count(fruit) \r\n",
        "  if (n>0):  # 串列元素存在\r\n",
        "    p=fruits.index(fruit)\r\n",
        "    print(\"%s 在串列中的第 %d 項\" %(fruit,p+1))\r\n",
        "  else:\r\n",
        "    print(fruit,\"不在串列中!\")"
      ],
      "execution_count": null,
      "outputs": []
    },
    {
      "cell_type": "markdown",
      "metadata": {
        "id": "kTa31wW4_T-C"
      },
      "source": [
        "# 試做個九九乘法表\r\n",
        "\r\n",
        "# 求 n!"
      ]
    }
  ]
}