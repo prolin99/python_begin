{
  "nbformat": 4,
  "nbformat_minor": 0,
  "metadata": {
    "colab": {
      "name": "set.ipynb",
      "provenance": [],
      "collapsed_sections": [],
      "authorship_tag": "ABX9TyNxjPqp2z5EArQGKdwRv6i1",
      "include_colab_link": true
    },
    "kernelspec": {
      "name": "python3",
      "display_name": "Python 3"
    }
  },
  "cells": [
    {
      "cell_type": "markdown",
      "metadata": {
        "id": "view-in-github",
        "colab_type": "text"
      },
      "source": [
        "<a href=\"https://colab.research.google.com/github/prolin99/python_begin/blob/main/2-5set.ipynb\" target=\"_parent\"><img src=\"https://colab.research.google.com/assets/colab-badge.svg\" alt=\"Open In Colab\"/></a>"
      ]
    },
    {
      "cell_type": "markdown",
      "metadata": {
        "id": "qugivmxLhoWD"
      },
      "source": [
        "# 集合 Set\r\n",
        "沒有順序之別，也沒有重複的內容(重複內容自動略去）。\r\n",
        "\r\n",
        "Set 用大括號 {} 表示\r\n",
        "資料的集合，沒有順序，沒有重複，且為可改變內容\r\n",
        " \r\n",
        "\r\n"
      ]
    },
    {
      "cell_type": "code",
      "metadata": {
        "colab": {
          "base_uri": "https://localhost:8080/"
        },
        "id": "d7i86MXDh8_i",
        "outputId": "6ffdfb30-dccd-409a-df9d-e84aa8c7877e"
      },
      "source": [
        "x = set()  \r\n",
        "\r\n",
        "x.add('car')\r\n",
        "x.add('bus')\r\n",
        "x.add('car')\r\n",
        "\r\n",
        "x\r\n",
        "\r\n"
      ],
      "execution_count": null,
      "outputs": [
        {
          "output_type": "execute_result",
          "data": {
            "text/plain": [
              "{'bus', 'car'}"
            ]
          },
          "metadata": {
            "tags": []
          },
          "execution_count": 7
        }
      ]
    },
    {
      "cell_type": "code",
      "metadata": {
        "colab": {
          "base_uri": "https://localhost:8080/"
        },
        "id": "8eM6TMbeiFN0",
        "outputId": "c73cb580-ecb1-4749-a5fb-a5c5b1ce762d"
      },
      "source": [
        "#聯集\r\n",
        "\r\n",
        "x = {\"a\", \"b\", \"c\"}\r\n",
        "y = {\"f\", \"d\", \"a\"}\r\n",
        "z = {\"c\", \"d\", \"e\"}\r\n",
        "\r\n",
        "result = x.union(y, z)\r\n",
        "print(result)\r\n",
        "\r\n",
        "#交集\r\n",
        "\r\n",
        "x = {\"a\", \"b\", \"c\"}\r\n",
        "y = {\"c\", \"d\", \"e\"}\r\n",
        "z = {\"f\", \"g\", \"c\"}\r\n",
        "\r\n",
        "result = x.intersection(y, z)\r\n",
        "print(result)\r\n",
        "\r\n",
        "#差集 \r\n",
        "\r\n",
        "x = {\"apple\", \"banana\", \"cherry\"}\r\n",
        "y = {\"google\", \"microsoft\", \"apple\"}\r\n",
        "z = x.difference(y)\r\n",
        "print(z)"
      ],
      "execution_count": null,
      "outputs": [
        {
          "output_type": "stream",
          "text": [
            "{'d', 'e', 'b', 'c', 'f', 'a'}\n",
            "{'c'}\n",
            "{'banana', 'cherry'}\n"
          ],
          "name": "stdout"
        }
      ]
    }
  ]
}
