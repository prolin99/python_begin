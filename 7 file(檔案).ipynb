{
  "nbformat": 4,
  "nbformat_minor": 0,
  "metadata": {
    "colab": {
      "name": "file.ipynb",
      "provenance": [],
      "collapsed_sections": [],
      "authorship_tag": "ABX9TyPShqijSHY1BvmHnqD/H5Ai",
      "include_colab_link": true
    },
    "kernelspec": {
      "name": "python3",
      "display_name": "Python 3"
    }
  },
  "cells": [
    {
      "cell_type": "markdown",
      "metadata": {
        "id": "view-in-github",
        "colab_type": "text"
      },
      "source": [
        "<a href=\"https://colab.research.google.com/github/prolin99/python_begin/blob/main/7%20file(%E6%AA%94%E6%A1%88).ipynb\" target=\"_parent\"><img src=\"https://colab.research.google.com/assets/colab-badge.svg\" alt=\"Open In Colab\"/></a>"
      ]
    },
    {
      "cell_type": "markdown",
      "metadata": {
        "id": "SsN_-HFnqO4z"
      },
      "source": [
        "# file open 的寫法，\n",
        "*注意要 close 檔案，否則可能會出現意外情形\n",
        "```\n",
        "fname = 'p022_names.txt'\n",
        "f = open(fname ,'r')\n",
        "name_str = f.read()\n",
        "f.close()\n",
        "```\n",
        "\n",
        "* 在 windows 環境中，最好再指定檔案格式為 utf8 。\n",
        "> encoding='UTF-8'\n",
        "\n",
        "* 建議改以下 with 的寫法，可以略去 close() 語法：\n",
        "> with open(filename, 'w' , encoding='UTF-8' ) as file_object:\n",
        "\n",
        "\n",
        "\n",
        "\n",
        "\n"
      ]
    },
    {
      "cell_type": "code",
      "metadata": {
        "id": "mkpVi77BrKYU"
      },
      "source": [
        "#這一段只是在讀取 goole 雲端檔案的寫法 ，執行這一段需要授權\n",
        "from google.colab import drive\n",
        "drive.mount('/content/drive')\n",
        "\n",
        "\n",
        "\n"
      ],
      "execution_count": null,
      "outputs": []
    },
    {
      "cell_type": "markdown",
      "metadata": {
        "id": "M4fFKiYWsnir"
      },
      "source": [
        "pi_digits.txt 內容，造成文字檔，上傳到雲端 pylib 目錄中\n",
        "```\n",
        "3.1415926535\n",
        "  8979323846\n",
        "  2643383279\n",
        "```"
      ]
    },
    {
      "cell_type": "code",
      "metadata": {
        "id": "pmVZiqCDpRhI"
      },
      "source": [
        "# 需要完整路徑\n",
        "\n",
        "with open('/content/drive/My Drive/pylib/pi_digits.txt') as file_object:\n",
        "    contents = file_object.read()\n",
        "    print(contents)\n"
      ],
      "execution_count": null,
      "outputs": []
    },
    {
      "cell_type": "markdown",
      "metadata": {
        "id": "ZoGcDK3wwHGm"
      },
      "source": [
        "*逐行列出"
      ]
    },
    {
      "cell_type": "code",
      "metadata": {
        "id": "Zi9tmchAv3A5"
      },
      "source": [
        "with open('/content/drive/My Drive/pylib/pi_digits.txt') as file_object:\n",
        "    for line in file_object:\n",
        "      print(line)\n",
        " "
      ],
      "execution_count": null,
      "outputs": []
    },
    {
      "cell_type": "markdown",
      "metadata": {
        "id": "aDB-K0d0wfn0"
      },
      "source": [
        "## 寫入檔案\n",
        "* r 唯讀\n",
        "* w 寫入新檔\n",
        "* a 附加到檔案後"
      ]
    },
    {
      "cell_type": "code",
      "metadata": {
        "id": "3PIu5O4vwjmi"
      },
      "source": [
        "filename = '/content/drive/My Drive/pylib/programming.txt'\n",
        "\n",
        "with open(filename, 'w' , encoding='UTF-8' ) as file_object:\n",
        "  file_object.write(\"I love programming.\")\n"
      ],
      "execution_count": null,
      "outputs": []
    },
    {
      "cell_type": "code",
      "metadata": {
        "id": "FqACDxifxJsv"
      },
      "source": [
        "# 附加到檔案中，那如果原檔案不存在呢？\n",
        "\n",
        "filename = '/content/drive/My Drive/pylib/programming.txt'\n",
        "\n",
        "with open(filename, 'a') as file_object:\n",
        "  file_object.write(\"I also love finding meaning in large datasets.\\n\")\n",
        "  file_object.write(\"I love creating apps that can run in a browser.\\n\")\n"
      ],
      "execution_count": null,
      "outputs": []
    },
    {
      "cell_type": "markdown",
      "metadata": {
        "id": "dIY-hJZ8s9VD"
      },
      "source": [
        "# 讀取 excel 檔 、 CVS 檔\n",
        "* 找適合的外部模組，就可以簡單使用\n",
        "* pip install xlrd 需安裝 xlrd 模組\n"
      ]
    },
    {
      "cell_type": "code",
      "metadata": {
        "id": "aIcs4N9ge-Yt"
      },
      "source": [
        "#這一段是傳到雲端空間中\n",
        "\n",
        "from google.colab import files\n",
        "print('上傳一個 EXCEL 檔案')\n",
        "uploaded = files.upload()\n",
        "for fn in uploaded.keys():\n",
        "  print('User uploaded file \"{name}\" with length {length} bytes'.format(\n",
        "      name=fn, length=len(uploaded[fn])))\n",
        "fn  "
      ],
      "execution_count": null,
      "outputs": []
    },
    {
      "cell_type": "code",
      "metadata": {
        "id": "5KzBjgsme3jI"
      },
      "source": [
        "#讀取 excel file\n",
        "import xlrd\n",
        "#excel_file = 't.xlsx'  #如果本地端的位置\n",
        "excel_file = fn\n",
        "\n",
        "wb = xlrd.open_workbook(excel_file)\n",
        "sheet = wb.sheet_by_index(0)\n",
        "\n",
        "for row in range(sheet.nrows):\n",
        "    for col in range(sheet.ncols):\n",
        "        v = sheet.cell_value(row,col)\n",
        "        print(v  ,end=',')\n",
        "    print('')\n"
      ],
      "execution_count": null,
      "outputs": []
    },
    {
      "cell_type": "markdown",
      "metadata": {
        "id": "SExtviZN0huh"
      },
      "source": [
        "## 取得所在目錄 ，但在 google colab 無法使用\n",
        "\n",
        "```\n",
        "import os , sys , os.path\n",
        "print(__file__)\n",
        "print(sys.argv[0])\n",
        "print(os.path.dirname(__file__))\n",
        "print(os.path.split(__file__)[-1]) \n",
        "print(os.path.split(__file__)[-1].split('.')[0])\n",
        "```\n",
        "\n",
        "傳回值：\n",
        "```\n",
        "D:/python/lijiale/examples/test.py\n",
        "D:/python/lijiale/examples/test.py\n",
        "D:/python/lijiale/examples\n",
        "test.py\n",
        "test\n",
        "```"
      ]
    }
  ]
}