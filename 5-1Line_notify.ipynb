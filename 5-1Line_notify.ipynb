{
  "nbformat": 4,
  "nbformat_minor": 0,
  "metadata": {
    "colab": {
      "name": "Line_notify.ipynb",
      "provenance": [],
      "authorship_tag": "ABX9TyPTJL+9eQxdPjEy8C+daVJE",
      "include_colab_link": true
    },
    "kernelspec": {
      "name": "python3",
      "display_name": "Python 3"
    }
  },
  "cells": [
    {
      "cell_type": "markdown",
      "metadata": {
        "id": "view-in-github",
        "colab_type": "text"
      },
      "source": [
        "<a href=\"https://colab.research.google.com/github/prolin99/python_begin/blob/main/5-1Line_notify.ipynb\" target=\"_parent\"><img src=\"https://colab.research.google.com/assets/colab-badge.svg\" alt=\"Open In Colab\"/></a>"
      ]
    },
    {
      "cell_type": "markdown",
      "metadata": {
        "id": "bPO6ufxvU64i"
      },
      "source": [
        "# Line Notify 範例\r\n",
        "1. https://notify-bot.line.me/zh_TW/ 帳號登入\r\n",
        "2. 右上角各人帳號 -- 個人頁面\r\n",
        "3. 發行權杖 --> 輸入通知時的名稱及發送給誰\r\n",
        "4. 複製權杖內容到上以下程式中，執行就可以在 Line 中收到訊息了。\r\n",
        "\r\n",
        "\r\n",
        "參考內容\r\n",
        "* [Day 6 : 歐逆醬早安，建立 LINE Notify 推播通知](https://ithelp.ithome.com.tw/articles/10233841)\r\n",
        "\r\n",
        "* [Day 8 : LINE Notify 訊息推播通知 (Python版)](https://ithelp.ithome.com.tw/articles/10234115)\r\n"
      ]
    },
    {
      "cell_type": "code",
      "metadata": {
        "id": "ZVBq7ik9U5KY"
      },
      "source": [
        "#基本功能測試\r\n",
        "import requests\r\n",
        "\r\n",
        "def lineNotifyMessage(token, msg):\r\n",
        "    headers = {\r\n",
        "        \"Authorization\": \"Bearer \" + token, \r\n",
        "        \"Content-Type\" : \"application/x-www-form-urlencoded\"\r\n",
        "    }\r\n",
        "\r\n",
        "    payload = {'message': msg }\r\n",
        "    r = requests.post(\"https://notify-api.line.me/api/notify\", headers = headers, params = payload)\r\n",
        "    return r.status_code\r\n",
        "\r\n",
        "\r\n",
        "if __name__ == \"__main__\":\r\n",
        "  token = '你的權杖內容'\r\n",
        "  message = '基本功能測試'\r\n",
        "  lineNotifyMessage(token, message)"
      ],
      "execution_count": null,
      "outputs": []
    }
  ]
}