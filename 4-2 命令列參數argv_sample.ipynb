{
  "nbformat": 4,
  "nbformat_minor": 0,
  "metadata": {
    "colab": {
      "name": "argv_sample.ipynb",
      "provenance": [],
      "collapsed_sections": [],
      "authorship_tag": "ABX9TyPv1uSdEMsBzfA+5U5GK3Zm",
      "include_colab_link": true
    },
    "kernelspec": {
      "name": "python3",
      "display_name": "Python 3"
    }
  },
  "cells": [
    {
      "cell_type": "markdown",
      "metadata": {
        "id": "view-in-github",
        "colab_type": "text"
      },
      "source": [
        "<a href=\"https://colab.research.google.com/github/prolin99/python_begin/blob/main/4-2%20%E5%91%BD%E4%BB%A4%E5%88%97%E5%8F%83%E6%95%B8argv_sample.ipynb\" target=\"_parent\"><img src=\"https://colab.research.google.com/assets/colab-badge.svg\" alt=\"Open In Colab\"/></a>"
      ]
    },
    {
      "cell_type": "markdown",
      "metadata": {
        "id": "CeHxdw5yi7SS"
      },
      "source": [
        "# 命令列中傳入的參數\n",
        "\n",
        "sys.argv[0] 指程式本身的檔名\n",
        "\n",
        "* 請以本機中測試 \n",
        "> python test.py a b c "
      ]
    },
    {
      "cell_type": "code",
      "metadata": {
        "id": "EWvkqS4Ri3jS"
      },
      "source": [
        "import sys\n",
        "\n",
        "print(len(sys.argv))\n",
        "\n",
        "for argv_cmd in sys.argv:\n",
        "    print(argv_cmd)"
      ],
      "execution_count": null,
      "outputs": []
    }
  ]
}