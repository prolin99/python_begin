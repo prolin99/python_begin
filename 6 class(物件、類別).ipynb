{
  "nbformat": 4,
  "nbformat_minor": 0,
  "metadata": {
    "colab": {
      "name": "class.ipynb",
      "provenance": [],
      "collapsed_sections": [],
      "authorship_tag": "ABX9TyMXkEmbVdF6AINZzkgynl7E",
      "include_colab_link": true
    },
    "kernelspec": {
      "name": "python3",
      "display_name": "Python 3"
    }
  },
  "cells": [
    {
      "cell_type": "markdown",
      "metadata": {
        "id": "view-in-github",
        "colab_type": "text"
      },
      "source": [
        "<a href=\"https://colab.research.google.com/github/prolin99/python_begin/blob/main/6%20class(%E7%89%A9%E4%BB%B6%E3%80%81%E9%A1%9E%E5%88%A5).ipynb\" target=\"_parent\"><img src=\"https://colab.research.google.com/assets/colab-badge.svg\" alt=\"Open In Colab\"/></a>"
      ]
    },
    {
      "cell_type": "markdown",
      "metadata": {
        "id": "M3eRqpv0GZ2_"
      },
      "source": [
        "# Class 物件導向 (OOP)\r\n",
        "* class Class_name([父類別]): ，建立類別，可否有父類別。\r\n",
        "* \\_\\_init__(self , [argv]): 類別(物件)結構建立函數。\r\n",
        "* self.* 本身的話參數、或函數\r\n",
        "* def fun_name(self): 在物件內函數的寫法一定要引用 self 參數。但在外部呼叫時，不需要加　self 參數 ，例 bird.sing() 。\r\n"
      ]
    },
    {
      "cell_type": "code",
      "metadata": {
        "id": "48P-aFSLIGK6"
      },
      "source": [
        "class Animal():      #定義類別  \r\n",
        "    def __init__(self, name,age):\r\n",
        "        self.name = name  #定義屬性 \r\n",
        "        self.age = age\r\n",
        "        print(\"正在產生物件\")\r\n",
        "        print(self.name + str(self.age) + \"歲，很會唱歌!\")\r\n",
        "    def sing(self):       #定義方法        \r\n",
        "        print(self.name + str(self.age) + \"歲，很會唱歌!\")  \r\n",
        "    def grow(self,year):  #定義方法        \r\n",
        "        self.age += year     \r\n",
        "        \r\n",
        "bird = Animal(\"鸚鵡\",1) #以 Animal 類別，建立一個名叫鸚鵡、1歲大的 bird物件\r\n",
        "bird.grow(11)     #長大1歲\r\n",
        "bird.sing()      #鸚鵡2歲，很會唱歌!\r\n",
        "\r\n",
        "dog = Animal(\"狗狗\",111) \r\n",
        "dog.grow(11)     \r\n",
        "dog.sing() "
      ],
      "execution_count": null,
      "outputs": []
    },
    {
      "cell_type": "markdown",
      "metadata": {
        "id": "lT3hxUelH1DC"
      },
      "source": [
        "## 封裝\r\n",
        "將物件內部的資料隱藏起來，只能透過物件本身所提供的介面(interface)取得物件內部屬性或者方法，物件內部的細節資料或者邏輯則隱藏起來，\r\n",
        "其他物件即無法瞭解此物件的內部細節，若不經過允許之窗口(即此物件提供之方法)便無從更動此物件內之資料。\r\n",
        "\r\n",
        "簡白的說，對一件事情只需要理解他的外在就好，不需要了解裡面內部的構造。\r\n",
        "封裝在類別的PRIVATE屬性與方法\r\n",
        "\r\n",
        "* 使用 __name 定義PRIVATE屬性\r\n",
        "* 使用 __sing(self)定義私用PRIVATE方法 "
      ]
    },
    {
      "cell_type": "code",
      "metadata": {
        "id": "MYQcsT77GXo7"
      },
      "source": [
        "class Animal():      #定義類別  \r\n",
        "    def __init__(self, name,age , color ):\r\n",
        "        self.__name = name  #\r\n",
        "        self.__age = age\r\n",
        "        self.color = color\r\n",
        "    def __sing(self):               \r\n",
        "        print(self.__name + str(self.__age) + \"歲，羽毛：\" + self.color + \"色\" ,end= \"很會唱歌，\")  \r\n",
        "    def grow(self,year=1):\r\n",
        "      self.__age += year\r\n",
        "    def talk(self):        #定義PUBLIC方法 \r\n",
        "        self.__sing()      #使用PRIVATE方法\r\n",
        "        print(\"也會模仿人類說話!\")\r\n",
        "        \r\n",
        "bird = Animal(\"灰鸚鵡\",2 , '紅') #以 Animal 類別，建立一個名叫灰鸚鵡、2歲大的 bird物件\r\n",
        "bird.talk()       #灰鸚鵡2歲，很會唱歌，也會模仿人類說話!\r\n",
        "bird.grow()\r\n",
        "\r\n",
        "\r\n",
        "bird.color = \"黒\"\r\n",
        "bird.talk()      #灰鸚鵡2歲，很會唱歌，也會模仿人類說話!\r\n",
        "\r\n",
        "bird.__age = 5  #設定無效\r\n",
        "bird.talk()      #灰鸚鵡2歲，很會唱歌，也會模仿人類說話!\r\n",
        "\r\n",
        "\r\n",
        "#bird.__sing()   #執行出現錯誤"
      ],
      "execution_count": null,
      "outputs": []
    },
    {
      "cell_type": "markdown",
      "metadata": {
        "id": "PQqeoR7PT0L2"
      },
      "source": [
        "## 繼承\r\n",
        "* 程式完全重寫可能會造成大災難，而且越是底層的程式影響越大。\r\n",
        "* 良好的物件類別規劃，子類別透過繼承，只做新增部份，可以減少程式量及錯誤率。\r\n",
        "\r\n",
        "資料來源:\r\n",
        "https://www.learncodewithmike.com/2020/01/python-inheritance.html\r\n",
        "\r\n",
        "有父類別(或稱基底類別Base Class)及子類別(Sub Class)的階層關係。\r\n",
        "\r\n",
        "子類別會擁有父類別公開的屬性(Attribute)及方法(Method)。\r\n",
        "\r\n",
        "Python繼承(Inheritance)的概念就是將各類別(Class)會共同使用的屬性(Attribute)或方法(Method)放在一個獨立的類別(Class)中，\r\n",
        "\r\n",
        "其它的類別(Class)透過繼承(Inheritance)的方式來擁有，降低程式碼的重複性。\r\n"
      ]
    },
    {
      "cell_type": "code",
      "metadata": {
        "id": "Q2os2h94V63u"
      },
      "source": [
        "# 汽車類別\r\n",
        "class Car:\r\n",
        "    # 駕駛方法\r\n",
        "    def drive(self):\r\n",
        "        print(\"drive method is called.\")\r\n",
        "    # 加速方法\r\n",
        "    def accelerate(self):\r\n",
        "        print(\"accelerate method is called.\")\r\n",
        "\r\n",
        "# 飛機類別\r\n",
        "class Airplane:\r\n",
        "    # 駕駛方法\r\n",
        "    def drive(self):\r\n",
        "        print(\"drive method is called.\")\r\n",
        "    # 飛行方法\r\n",
        "    def fly(self):\r\n",
        "        print(\"fly method is called.\")"
      ],
      "execution_count": null,
      "outputs": []
    },
    {
      "cell_type": "markdown",
      "metadata": {
        "id": "BgzgkGfdcG9X"
      },
      "source": [
        "* 上述兩個獨立的類別，改寫成共同架構的類別\r\n",
        "\r\n",
        "> 要在子類別中執行父類別的方法(Method)時，可以使用super()內建方法來達成\r\n",
        "\r\n",
        "\r\n",
        "\r\n",
        "\r\n"
      ]
    },
    {
      "cell_type": "code",
      "metadata": {
        "id": "OzluVRydbQhj"
      },
      "source": [
        "# 交通工具(基底類別)\r\n",
        "class Transportation:\r\n",
        "  # 建構式\r\n",
        "  def __init__(self):\r\n",
        "    self.color = \"white\"  #顏色屬性\r\n",
        "  # 駕駛方法\r\n",
        "  def drive(self):\r\n",
        "    print(\"父類別 drive method is called.\")\r\n",
        "\r\n",
        "# 汽車子類別\r\n",
        "class Car(Transportation):\r\n",
        "  # 加速方法\r\n",
        "  def accelerate(self):\r\n",
        "    print(\"accelerate is method called.\")\r\n",
        "\r\n",
        "  def drive(self):\r\n",
        "    #先呼叫父類別，再加入自已的新增的\r\n",
        "    super().drive()\r\n",
        "    print(\"-->Sub class drive method is called.\")\r\n",
        "      \r\n",
        "\r\n",
        "# 飛機子類別\r\n",
        "class Airplane(Transportation):\r\n",
        "  # 飛行方法\r\n",
        "  def fly(self):\r\n",
        "    print(\"fly method is called.\")\r\n",
        "\r\n",
        "air1 = Airplane()\r\n",
        "air1.drive()\r\n",
        "\r\n",
        "\r\n",
        "mazda = Car()\r\n",
        "mazda.drive()\r\n",
        "\r\n",
        "\r\n",
        "print(mazda.color)"
      ],
      "execution_count": null,
      "outputs": []
    },
    {
      "cell_type": "markdown",
      "metadata": {
        "id": "GC5ARebmc61v"
      },
      "source": [
        "## 多型\r\n",
        "\r\n",
        "簡單來說就是相同名稱的方法(Method)，多個相同名稱的方法，傳入不同的參數，會執行不同的敘述。\r\n",
        "\r\n",
        "多型(Polymorphism)則包含多載(Overloading)和覆寫(Overriding)。\r\n",
        "\r\n",
        "多載(Overloading) — 是指說在相同類別中，定義名稱相同，但是參數個數不同，或是參數型態不同的函式，這樣就可以利用參數個數或者參數型態，呼叫到對應的方法。\r\n",
        "\r\n",
        "例如：一個計算面積的方法，如果傳入一個參數，就當正方形來算面積；傳入兩個參數，就當成長方形來算面積。\r\n",
        "\r\n",
        "覆寫(Overriding) — 是指覆寫掉父類別中的函式。\r\n",
        "\r\n",
        "\r\n"
      ]
    },
    {
      "cell_type": "code",
      "metadata": {
        "id": "7XVy_wT-dHvl"
      },
      "source": [
        "# 交通工具(基底類別)\r\n",
        "class Transportation:\r\n",
        "    # 駕駛方法\r\n",
        "    def drive(self):\r\n",
        "        print(\"Base class drive method is called.\")\r\n",
        "        \r\n",
        "# 汽車子類別\r\n",
        "class Car(Transportation):\r\n",
        "    # 駕駛方法\r\n",
        "    def drive(self):\r\n",
        "        print(\"Car drive method is called.\")\r\n",
        "        \r\n",
        "# 飛機類別\r\n",
        "class Airplane(Transportation):\r\n",
        "    # 駕駛方法\r\n",
        "    def drive(self):\r\n",
        "        print(\"Airplane drive method is called.\")\r\n",
        "        \r\n",
        "haha = Transportation()     \r\n",
        "haha.drive()\r\n",
        "\r\n",
        "mazda = Car()\r\n",
        "mazda.drive()\r\n",
        "\r\n",
        "airplane = Airplane()\r\n",
        "airplane.drive()"
      ],
      "execution_count": null,
      "outputs": []
    },
    {
      "cell_type": "markdown",
      "metadata": {
        "id": "s6A0dYpbLovJ"
      },
      "source": [
        "## 補充資料\r\n",
        "* 多層繼承\r\n",
        "\r\n",
        "\r\n",
        "> 父-子-孫\r\n",
        "\r\n",
        "\r\n",
        "* 多重繼承\r\n",
        "\r\n",
        "\r\n",
        "> 指子類別 (subclass) 可以同時繼承 (inheritance) 多個父類別 (superclass) ，好獲得不同父類別的特性。\r\n",
        "> 但得注意如果父類別有相同名稱(例：\\_\\_init__)就可能會出問題(python 只預設執行第一個)。\r\n",
        "\r\n",
        "> [多重繼承說明](http://kaiching.org/pydoing/py/python-multiple-inheritance.html)\r\n",
        "\r\n",
        "\r\n",
        "\r\n",
        "\r\n",
        "\r\n",
        "\r\n",
        "\r\n",
        "[什麼是物件導向中的封裝、繼承和多型特性？](https://medium.com/w-learning-note/%E4%BB%80%E9%BA%BC%E6%98%AF%E7%89%A9%E4%BB%B6%E5%B0%8E%E5%90%91%E4%B8%AD%E7%9A%84%E5%B0%81%E8%A3%9D-%E7%B9%BC%E6%89%BF%E5%92%8C%E5%A4%9A%E5%9E%8B%E7%89%B9%E6%80%A7-c15d4e8c567a)\r\n"
      ]
    }
  ]
}