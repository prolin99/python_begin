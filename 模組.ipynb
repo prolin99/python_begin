{
  "nbformat": 4,
  "nbformat_minor": 0,
  "metadata": {
    "colab": {
      "name": "模組.ipynb",
      "provenance": [],
      "collapsed_sections": [],
      "authorship_tag": "ABX9TyMALrvXmJpgm071GLw9pI09",
      "include_colab_link": true
    },
    "kernelspec": {
      "name": "python3",
      "display_name": "Python 3"
    }
  },
  "cells": [
    {
      "cell_type": "markdown",
      "metadata": {
        "id": "view-in-github",
        "colab_type": "text"
      },
      "source": [
        "<a href=\"https://colab.research.google.com/github/prolin99/python_begin/blob/main/%E6%A8%A1%E7%B5%84.ipynb\" target=\"_parent\"><img src=\"https://colab.research.google.com/assets/colab-badge.svg\" alt=\"Open In Colab\"/></a>"
      ]
    },
    {
      "cell_type": "markdown",
      "metadata": {
        "id": "xnpbVM73oN36"
      },
      "source": [
        "# 內建標準模組\n",
        "(https://github.com/bat67/The-Python-Standard-Library-by-Example)"
      ]
    },
    {
      "cell_type": "markdown",
      "metadata": {
        "id": "YnIllUQyqcWx"
      },
      "source": [
        "python 強大的地方是有很多模組可以使用，內建模組可以直接引用，外部的模組需要再安裝。可用模組尋找網站 [pypi.org](https://pypi.org/)\n",
        "\n",
        "\n",
        "```\n",
        "pip3 install numpy\n",
        "```\n",
        "\n",
        "\n",
        "## 載入模組方式\n",
        "1. from numpy import sin\n",
        "\n",
        "  只能用到 numpy 模組中 sin 函數，如果輸入 cos ，出現不認識\n",
        "\n",
        "  語法： sin(3)\n",
        "2. from numpy import *\n",
        "\n",
        "  全部載入，但會比慢，因為要全部載入\n",
        "\n",
        "3. import numpy\n",
        "\n",
        "  不會載入，要用到時才會到 numpy 模組載入，語法 numpy.sin(3)\n",
        "\n",
        "4. import numpy as np \n",
        "\n",
        "  語法 np.sin(3) ,使用 np 這個別名代替 numpy 類別名，程式可以比較簡短\n",
        "\n",
        "由於大程式可能會用到多個模組，而各模組中可能會有同名的函數，建議使用第四種方式比較恰當。  "
      ]
    },
    {
      "cell_type": "markdown",
      "metadata": {
        "id": "PJsyelX4nWid"
      },
      "source": [
        "## Time \n",
        "時間"
      ]
    },
    {
      "cell_type": "code",
      "metadata": {
        "id": "QHwX3NmRnV9X"
      },
      "source": [
        "#!/usr/bin/env python3\n",
        "# encoding: utf-8\n",
        "#\n",
        "# Copyright (c) 2008 Doug Hellmann All rights reserved.\n",
        "#\n",
        "\"\"\"\n",
        "\"\"\"\n",
        "\n",
        "#end_pymotw_header\n",
        "import time\n",
        "print('start time:' , time.time())\n",
        "time.sleep(10)\n",
        "print('The time is:', time.time())"
      ],
      "execution_count": null,
      "outputs": []
    },
    {
      "cell_type": "markdown",
      "metadata": {
        "id": "O3yVTPmpitOh"
      },
      "source": [
        "## 目錄"
      ]
    },
    {
      "cell_type": "code",
      "metadata": {
        "id": "Vns5YM5mlStv"
      },
      "source": [
        "# 此代表執行 ls 指令， google 虚擬機中 /var/log 目錄中的檔案列出\n",
        "!ls /var/log"
      ],
      "execution_count": null,
      "outputs": []
    },
    {
      "cell_type": "code",
      "metadata": {
        "id": "p_HbN6Ltisi7"
      },
      "source": [
        "#!/usr/bin/python\n",
        "# -*- coding: utf-8 -*-\n",
        "from os import listdir\n",
        "from os.path import isfile, isdir, join\n",
        "\n",
        "# 指定要列出所有檔案的目錄\n",
        "mypath = \"/var/log\"\n",
        "\n",
        "# 取得所有檔案與子目錄名稱\n",
        "files = listdir(mypath)\n",
        "\n",
        "# 以迴圈處理\n",
        "for f in files:\n",
        "  # 產生檔案的絕對路徑\n",
        "  fullpath = join(mypath, f)\n",
        "  # 判斷 fullpath 是檔案還是目錄\n",
        "  if isfile(fullpath):\n",
        "    print(\"檔案：\", f)\n",
        "  elif isdir(fullpath):\n",
        "    print(\"目錄：\", f)"
      ],
      "execution_count": null,
      "outputs": []
    },
    {
      "cell_type": "code",
      "metadata": {
        "id": "faDxZ8IJkrNj"
      },
      "source": [
        "#以目錄區分\n",
        "\n",
        "#!/usr/bin/python3\n",
        "# -*- coding: utf-8 -*-\n",
        "from os import walk\n",
        "\n",
        "# 指定要列出所有檔案的目錄\n",
        "mypath = \"/var/log\"\n",
        "\n",
        "# 遞迴列出所有子目錄與檔案\n",
        "for root, dirs, files in walk(mypath):\n",
        "  print(\"路徑：\", root)\n",
        "  print(\"  目錄：\", dirs)\n",
        "  print(\"  檔案：\", files)"
      ],
      "execution_count": null,
      "outputs": []
    },
    {
      "cell_type": "code",
      "metadata": {
        "id": "6IMEaeFhmaW9"
      },
      "source": [
        "#完整路徑檔名\n",
        "\n",
        "\n",
        "#!/usr/bin/python\n",
        "# -*- coding: utf-8 -*-\n",
        "from os import walk\n",
        "from os.path import join\n",
        "\n",
        "# 指定要列出所有檔案的目錄\n",
        "mypath = \"/var/log\"\n",
        "# 遞迴列出所有檔案的絕對路徑\n",
        "for root, dirs, files in walk(mypath):\n",
        "  for f in files:\n",
        "    fullpath = join(root, f)\n",
        "    print(fullpath)"
      ],
      "execution_count": null,
      "outputs": []
    },
    {
      "cell_type": "markdown",
      "metadata": {
        "id": "wlIQVxoPiXYy"
      },
      "source": [
        "## 使用日期模組\n",
        "由於是使用虚擬機，所以時間會不準"
      ]
    },
    {
      "cell_type": "code",
      "metadata": {
        "id": "MDgSo0t-iWL3"
      },
      "source": [
        "import datetime\n",
        "\n",
        "today = datetime.date.today()\n",
        "print(today)\n",
        "print('ctime  :', today.ctime())\n",
        "tt = today.timetuple()\n",
        "print('tuple  : tm_year  =', tt.tm_year)\n",
        "print('         tm_mon   =', tt.tm_mon)\n",
        "print('         tm_mday  =', tt.tm_mday)\n",
        "print('         tm_hour  =', tt.tm_hour)\n",
        "print('         tm_min   =', tt.tm_min)\n",
        "print('         tm_sec   =', tt.tm_sec)\n",
        "print('         tm_wday  =', tt.tm_wday)\n",
        "print('         tm_yday  =', tt.tm_yday)\n",
        "print('         tm_isdst =', tt.tm_isdst)\n",
        "print('ordinal:', today.toordinal())\n",
        "print('Year   :', today.year)\n",
        "print('Mon    :', today.month)\n",
        "print('Day    :', today.day)"
      ],
      "execution_count": null,
      "outputs": []
    },
    {
      "cell_type": "markdown",
      "metadata": {
        "id": "9EgJC0Uop3G7"
      },
      "source": [
        "## 寫自已的模組\n",
        "其實就是載入其他檔案\n",
        "* 函數放在另外的檔案中 (如：support.py)\n",
        "\n",
        "* 先把以下內容做成一個文字檔 support.py ，傳到 雲端 pylib 目錄中\n",
        "```\n",
        "def print_func( par ):\n",
        "   print(\"Hello : \", par)\n",
        "   return\n",
        "```   "
      ]
    },
    {
      "cell_type": "code",
      "metadata": {
        "id": "_kCNtOhRqKDm"
      },
      "source": [
        "#這一段只是在讀取 goole 雲端檔案的寫法 ，執行這一段需要授權\n",
        "from google.colab import drive\n",
        "drive.mount('/content/drive')\n",
        "\n",
        "#指定要引用模組尋找的路徑\n",
        "import sys\n",
        "#指定目錄\n",
        "sys.path.append('/content/drive/My Drive/pylib/')\n",
        "\n",
        "\n",
        "\n",
        "\n",
        "\n"
      ],
      "execution_count": null,
      "outputs": []
    },
    {
      "cell_type": "code",
      "metadata": {
        "id": "_K-7h2KHsOG_"
      },
      "source": [
        "#引用自已寫的外部檔案（一般和主程式同目錄中）\n",
        "import support\n",
        "\n",
        "# 現在可以使用模組裡包含的函數了\n",
        "support.print_func(\"MyFriends\")\n",
        "\n",
        "\n"
      ],
      "execution_count": null,
      "outputs": []
    },
    {
      "cell_type": "markdown",
      "metadata": {
        "id": "k2rq5fVDsbJq"
      },
      "source": [
        "# 安裝外部模組\n",
        "* 有非常多的 python 模組可以使用。\n",
        "> pip install <package 名稱>\n",
        "\n",
        "* windows 系統安裝 python 3.* 後已有 pip 工具，在 Vscode 的終端機中就可以安裝，例：\n",
        "> pip install matplotlib\n",
        "\n",
        "* matplotlib 是一個統計圖表繪製模組\n",
        "* 在 colab 中已預設安裝了一些套件(配合人工智慧)\n",
        "> 如果在 cloab 安裝模組: 請以程式碼 !pip install 模組名稱 ，再點選執行。\n",
        "！ 代表在那一台遠端機器中執行。"
      ]
    },
    {
      "cell_type": "code",
      "metadata": {
        "id": "TtxdAWOXsaZN"
      },
      "source": [
        "import matplotlib.pyplot as plt\n",
        " \n",
        "x  = [1, 2, 3, 4, 5, 6, 7, 8, 9]\n",
        "y1 = [1, 3, 5, 3, 1, 3, 5, 3, 1]\n",
        "y2 = [2, 4, 6, 4, 2, 4, 6, 4, 2]\n",
        "plt.plot(x, y1, label=\"line L\")\n",
        "plt.plot(x, y2, label=\"line H\")\n",
        "plt.plot()\n",
        "\n",
        "plt.xlabel(\"x axis\")\n",
        "plt.ylabel(\"y axis\")\n",
        "plt.title(\"Line Graph Example\")\n",
        "plt.legend()\n",
        "plt.show()"
      ],
      "execution_count": null,
      "outputs": []
    },
    {
      "cell_type": "markdown",
      "metadata": {
        "id": "rmnw7Bkto__r"
      },
      "source": [
        "## 更新已安裝的模組\n",
        "* 如果更新單一模組\n",
        "> pip install --upgrade numpy\n",
        "> 或 pip install -U numpy\n",
        "\n",
        "* pip 本身也是一個模組，當你在安裝新模組時會提醒更新 \n",
        "> pip install --upgrade pip\n",
        "> 或 python -m pip install --upgrade pip\n",
        "\n",
        "\n",
        "* 如果要更新所有已安裝的套件：（以下這段程式）\n",
        "\n",
        "```\n",
        "import pkg_resources\n",
        "from subprocess import call\n",
        "\n",
        "packages = [dist.project_name for dist in pkg_resources.working_set]\n",
        "call(\"pip install --upgrade \" + ' '.join(packages), shell=True)\n",
        "```"
      ]
    }
  ]
}