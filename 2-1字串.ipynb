{
  "nbformat": 4,
  "nbformat_minor": 0,
  "metadata": {
    "colab": {
      "name": "字串.ipynb",
      "provenance": [],
      "collapsed_sections": [],
      "authorship_tag": "ABX9TyOMWnQa9/TQLzTB8XEEgIsv",
      "include_colab_link": true
    },
    "kernelspec": {
      "name": "python3",
      "display_name": "Python 3"
    }
  },
  "cells": [
    {
      "cell_type": "markdown",
      "metadata": {
        "id": "view-in-github",
        "colab_type": "text"
      },
      "source": [
        "<a href=\"https://colab.research.google.com/github/prolin99/python_begin/blob/main/2-1%E5%AD%97%E4%B8%B2.ipynb\" target=\"_parent\"><img src=\"https://colab.research.google.com/assets/colab-badge.svg\" alt=\"Open In Colab\"/></a>"
      ]
    },
    {
      "cell_type": "markdown",
      "metadata": {
        "id": "WDUNac-PIcOW"
      },
      "source": [
        "# 變數\n",
        "* 變數屬於動態性宣告，可被改變（不會出現錯誤提醒）。很方便但濫用會造成干擾。"
      ]
    },
    {
      "cell_type": "code",
      "metadata": {
        "id": "DNoVIOhsIofn"
      },
      "source": [
        "x= 1\n",
        "print(x)\n",
        "\n",
        "\n",
        "x='aaa'\n",
        "print(x)"
      ],
      "execution_count": null,
      "outputs": []
    },
    {
      "cell_type": "code",
      "metadata": {
        "id": "36sqnYMAJhFZ"
      },
      "source": [
        "# 變數運算前需要先指定\n",
        "\n",
        "aaa = aaa + 1\n",
        "aaa"
      ],
      "execution_count": null,
      "outputs": []
    },
    {
      "cell_type": "code",
      "metadata": {
        "id": "Vzh2V5RLK0PG"
      },
      "source": [
        "# 不同類型的變數運算要先做型別轉換\n",
        "\n",
        "a =1 \n",
        "b = '123'\n",
        "a+b "
      ],
      "execution_count": null,
      "outputs": []
    },
    {
      "cell_type": "markdown",
      "metadata": {
        "id": "1f6OVzPh2JBm"
      },
      "source": [
        "# 字串\n",
        "字串： 單行文字，使用雙引號、單引號都相同。多行文字使用 3 個引號框住。\n",
        "\n"
      ]
    },
    {
      "cell_type": "code",
      "metadata": {
        "id": "eUC0qKGY2_2J"
      },
      "source": [
        "s1 = \"teacher\"\n",
        "print(s1)\n",
        "\n",
        "s2 = 'teacher'\n",
        "print(s2)\n",
        "\n",
        "\n",
        "str3 = 'allows embedded \"double\" quotes'\n",
        "print(str3)\n",
        "\n",
        "\n",
        "s3=\"\"\"\n",
        "多行文字\n",
        "第二行\n",
        "第三行\"\"\"\n",
        "\n",
        "print('s3', s3)\n",
        "\n",
        "# 控製字元 \\n 換行\n",
        "s4 = \"第一行\\n第二行\\n第三行\\n\"\n",
        "print('s4' , s4)"
      ],
      "execution_count": null,
      "outputs": []
    },
    {
      "cell_type": "markdown",
      "metadata": {
        "id": "7fJsejGYKbop"
      },
      "source": [
        "## 輸入\n",
        "* 輸入的值是字串"
      ]
    },
    {
      "cell_type": "code",
      "metadata": {
        "id": "ZPJa7YFHKd_A"
      },
      "source": [
        "name = input('請輸入你的名稱：')\n",
        "print('歡迎', name)"
      ],
      "execution_count": null,
      "outputs": []
    },
    {
      "cell_type": "markdown",
      "metadata": {
        "id": "2FDf1SsJO2oI"
      },
      "source": [
        "## 大小寫"
      ]
    },
    {
      "cell_type": "code",
      "metadata": {
        "id": "e3A7qyGeOQiy"
      },
      "source": [
        "name = ' jone smith'\n",
        "name.title() , name.upper() , name.lower()"
      ],
      "execution_count": null,
      "outputs": []
    },
    {
      "cell_type": "markdown",
      "metadata": {
        "id": "0fNBx2Wk8mAZ"
      },
      "source": [
        "## 字串運算"
      ]
    },
    {
      "cell_type": "code",
      "metadata": {
        "id": "gF8a6rYI2BD0"
      },
      "source": [
        "'5'+'3'  "
      ],
      "execution_count": null,
      "outputs": []
    },
    {
      "cell_type": "code",
      "metadata": {
        "id": "sln5LpMS2vlK"
      },
      "source": [
        "字串運算\n",
        "'abc' +　'123'\n"
      ],
      "execution_count": null,
      "outputs": []
    },
    {
      "cell_type": "code",
      "metadata": {
        "id": "ll0AB1LiNsuV"
      },
      "source": [
        "#這有什麼問題，\n",
        "num = 123\n",
        "'abc' + num \n",
        "\n"
      ],
      "execution_count": null,
      "outputs": []
    },
    {
      "cell_type": "code",
      "metadata": {
        "id": "vnaHNcWW21cw"
      },
      "source": [
        "s1='abc' \n",
        "s1 * 2 \n"
      ],
      "execution_count": null,
      "outputs": []
    },
    {
      "cell_type": "code",
      "metadata": {
        "id": "CqKFnUhX5BY2"
      },
      "source": [
        "str1 = 'Hello World!'\n",
        "\n",
        "print(\"更新後的字串-> \", str1[:6] + 'Python!')"
      ],
      "execution_count": null,
      "outputs": []
    },
    {
      "cell_type": "code",
      "metadata": {
        "id": "3xB8dfF72lbZ"
      },
      "source": [
        "s = '台北,台中,台南'\n",
        "s.split(',')\n",
        "\n",
        "#','.join(list1) \n"
      ],
      "execution_count": null,
      "outputs": []
    },
    {
      "cell_type": "markdown",
      "metadata": {
        "id": "IUuAnZTn8vQN"
      },
      "source": [
        "## 字串中的值 （以 0 開始計算）"
      ]
    },
    {
      "cell_type": "code",
      "metadata": {
        "id": "TaqmirWm2qeQ"
      },
      "source": [
        "s1='0123456789'\n",
        "print('全部字串' , s1[:])  # 複製一份\n",
        "print('第一個字' , s1[0])  #--> 0\n",
        "print('最後一個字' , s1[-1]) # --> 9\n",
        "print('第三個字間隔2' , s1[2:-2]) # --> 234567\n",
        "print('反轉文字'  , s1[::-1] )  #反轉文字  [開始:結束:間隔]\n",
        "\n",
        "#中文字可以正確嗎\n",
        "s2 = '新營高中資料處理科'\n",
        "print(\"反轉文字\" , s2[::-1] )"
      ],
      "execution_count": null,
      "outputs": []
    },
    {
      "cell_type": "markdown",
      "metadata": {
        "id": "6MuXHe7_9qap"
      },
      "source": [
        "## 尋找取代"
      ]
    },
    {
      "cell_type": "code",
      "metadata": {
        "id": "hRRW6Non5YOg"
      },
      "source": [
        "str1 = 'Hello World!'\n",
        "\"H\" in str1\n",
        "\n",
        "#\"H\" not in a"
      ],
      "execution_count": null,
      "outputs": []
    },
    {
      "cell_type": "code",
      "metadata": {
        "id": "V67bNPu75zF3"
      },
      "source": [
        "mystr = 'I love python , python is easy'\n",
        "mystr.find('pyth')\n",
        "\n",
        "#mystr.rfind('pyth')"
      ],
      "execution_count": null,
      "outputs": []
    },
    {
      "cell_type": "code",
      "metadata": {
        "id": "skz4h50K4O4F"
      },
      "source": [
        "#s.count('字') 字串出現的次數\n",
        "\n",
        "mystr.count('python')\n",
        "\n"
      ],
      "execution_count": null,
      "outputs": []
    },
    {
      "cell_type": "code",
      "metadata": {
        "id": "JX-qQAir96-n"
      },
      "source": [
        "str1 = \"test, test.\"\n",
        "str1.replace(\"test\", \"testing\")\n",
        "#str1\n",
        "#str.replace(\"test\", \"testing\", 1)\n",
        "\n"
      ],
      "execution_count": null,
      "outputs": []
    },
    {
      "cell_type": "markdown",
      "metadata": {
        "id": "M1rrC58k-Rkh"
      },
      "source": [
        "## 清除左右空白"
      ]
    },
    {
      "cell_type": "code",
      "metadata": {
        "id": "oYL67OXC7Fg3"
      },
      "source": [
        "#s.strip(chars) 清除左右的空白或指定字元 rstrip lstrip\n",
        "mystr = '  I love python === ...  '\n",
        "mystr.strip() \n",
        "#mystr.strip(' =.')   #空白或 = 或 ."
      ],
      "execution_count": null,
      "outputs": []
    },
    {
      "cell_type": "markdown",
      "metadata": {
        "id": "BLN1ajaVACVM"
      },
      "source": [
        "## print "
      ]
    },
    {
      "cell_type": "code",
      "metadata": {
        "id": "CPALpU1OAGry"
      },
      "source": [
        "#end 預設換行\n",
        "print('a' , 'b' , 'c' )  # -> a b c\n",
        "print('next line')\n",
        "\n",
        "\n",
        "#sep 分隔 end結束為空白無換行\n",
        "print('a' , 'b' , 'c' , sep=\",\" , end= \" \") # -> a,b.c\n",
        "print('next line')\n"
      ],
      "execution_count": null,
      "outputs": []
    },
    {
      "cell_type": "code",
      "metadata": {
        "id": "ln42drtdAbuv"
      },
      "source": [
        "# %  做資料的分隔，不是逗號\n",
        "print(\"%3d\" % 42)\n",
        "print(\"%2d %2d \" % (42 , 45))\n"
      ],
      "execution_count": null,
      "outputs": []
    },
    {
      "cell_type": "markdown",
      "metadata": {
        "id": "HHQpFSPi-Z26"
      },
      "source": [
        "## 輸出格式\n",
        "[可以參考 Formatted Output](https://www.python-course.eu/python3_formatted_output.php) "
      ]
    },
    {
      "cell_type": "code",
      "metadata": {
        "id": "LOg9g4E33vLn"
      },
      "source": [
        "\n",
        "seafood = '師傅'\n",
        "'感恩{}，讚嘆{}'.format(seafood,seafood)\n",
        "#print('感恩%s，讚嘆%s'%(seafood,seafood))"
      ],
      "execution_count": null,
      "outputs": []
    },
    {
      "cell_type": "code",
      "metadata": {
        "id": "D823RfvFBBcA"
      },
      "source": [
        "#使用 .format (文字 < 置左   >置右) {0}第一個參數 ...\n",
        "print(\"{0:<20s} {1:6.2f}\".format('Spam & Eggs:' , 7.9945)  ) "
      ],
      "execution_count": null,
      "outputs": []
    },
    {
      "cell_type": "code",
      "metadata": {
        "id": "AJzATWp7BVTi"
      },
      "source": [
        "'{0}, {1}, {2}'.format('a', 'b', 'c')\n",
        "#'a, b, c'\n",
        "#'{}, {}, {}'.format('a', 'b', 'c') "
      ],
      "execution_count": null,
      "outputs": []
    },
    {
      "cell_type": "code",
      "metadata": {
        "id": "DyxL371oBg9d"
      },
      "source": [
        "\n",
        "'{2}, {1}, {0}'.format('a', 'b', 'c')\n",
        "#'c, b, a'\n"
      ],
      "execution_count": null,
      "outputs": []
    },
    {
      "cell_type": "code",
      "metadata": {
        "id": "o8ucCe-DB5ch"
      },
      "source": [
        "'{2}, {1}, {0}'.format(*'abc')      # unpacking argument sequence\n",
        "'c, b, a'\n"
      ],
      "execution_count": null,
      "outputs": []
    },
    {
      "cell_type": "code",
      "metadata": {
        "id": "YgIJUbujBwAC"
      },
      "source": [
        "'{0}{1}{0}'.format('abra', 'cad')   # arguments' indices can be repeated\n",
        "'abracadabra'\n",
        " \n",
        " \n"
      ],
      "execution_count": null,
      "outputs": []
    },
    {
      "cell_type": "code",
      "metadata": {
        "id": "QD0UbMvrB86X"
      },
      "source": [
        "\"int: {0:d};  hex: {0:x};  oct: {0:o};  bin: {0:b}\".format(42)\n",
        "'int: 42;  hex: 2a;  oct: 52;  bin: 101010'\n"
      ],
      "execution_count": null,
      "outputs": []
    },
    {
      "cell_type": "code",
      "metadata": {
        "id": "b-Xg9ASUB-_H"
      },
      "source": [
        " \n",
        ">>> '{:+f}; {:+f}'.format(3.14, -3.14)  # show it always\n",
        "'+3.140000; -3.140000'"
      ],
      "execution_count": null,
      "outputs": []
    }
  ]
}