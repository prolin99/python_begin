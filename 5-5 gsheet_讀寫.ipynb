{
  "nbformat": 4,
  "nbformat_minor": 0,
  "metadata": {
    "colab": {
      "name": "gsheet 讀寫.ipynb",
      "provenance": [],
      "authorship_tag": "ABX9TyM9wmquXY7jRygXuMIYe37/",
      "include_colab_link": true
    },
    "kernelspec": {
      "name": "python3",
      "display_name": "Python 3"
    },
    "language_info": {
      "name": "python"
    }
  },
  "cells": [
    {
      "cell_type": "markdown",
      "metadata": {
        "id": "view-in-github",
        "colab_type": "text"
      },
      "source": [
        "<a href=\"https://colab.research.google.com/github/prolin99/python_begin/blob/main/5-5%20gsheet_%E8%AE%80%E5%AF%AB.ipynb\" target=\"_parent\"><img src=\"https://colab.research.google.com/assets/colab-badge.svg\" alt=\"Open In Colab\"/></a>"
      ]
    },
    {
      "cell_type": "markdown",
      "source": [
        "#讀取 google sheet \n",
        "\n",
        "需安裝 gspread ，會直接在雲端硬碟根目錄新增 My_Sheet 檔案。\n",
        "\n",
        "但注意如果重複執行也會再建同檔名的檔案。\n",
        "\n"
      ],
      "metadata": {
        "id": "Rb3Ux0cpfpOc"
      }
    },
    {
      "cell_type": "code",
      "execution_count": null,
      "metadata": {
        "id": "WBGm4vO2flUg"
      },
      "outputs": [],
      "source": [
        "!pip install gspread"
      ]
    },
    {
      "cell_type": "code",
      "source": [
        "\n",
        "#身份驗證\n",
        "from google.colab import auth\n",
        "auth.authenticate_user()\n",
        "\n",
        "import gspread\n",
        "from google.auth import default\n",
        "creds, _ = default()\n",
        "\n",
        "\n",
        "gc = gspread.authorize(creds)\n",
        "#建立 sheet 會出現在 根目錄下 ，再次執行，會再新增一個同檔名的 sheet \n",
        "sh = gc.create('My_Sheet')\n",
        "sh = gc.open('My_Sheet')\n",
        "\n",
        "#增加一個一分頁\n",
        "worksheet = sh.add_worksheet(title='worksheet_1', rows='100', cols='20')\n",
        "# 依標籤\n",
        "worksheet.update_acell('B1', 'Bingo!')\n",
        "\n",
        "# 依座標\n",
        "worksheet.update_cell(1, 3, 'Bingo!')\n",
        "\n",
        "# 指定範圍\n",
        "cell_list = worksheet.range('A5:C7')\n",
        "for cell in cell_list:\n",
        "    cell.value = 'O_o'\n",
        "worksheet.update_cells(cell_list)"
      ],
      "metadata": {
        "id": "IP7K4No0fopY"
      },
      "execution_count": null,
      "outputs": []
    }
  ]
}