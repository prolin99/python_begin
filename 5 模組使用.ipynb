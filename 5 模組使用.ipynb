{
  "nbformat": 4,
  "nbformat_minor": 0,
  "metadata": {
    "colab": {
      "name": "模組.ipynb",
      "provenance": [],
      "collapsed_sections": [],
      "authorship_tag": "ABX9TyPVLRAzTmdBCUGssM1yFiWX",
      "include_colab_link": true
    },
    "kernelspec": {
      "name": "python3",
      "display_name": "Python 3"
    }
  },
  "cells": [
    {
      "cell_type": "markdown",
      "metadata": {
        "id": "view-in-github",
        "colab_type": "text"
      },
      "source": [
        "<a href=\"https://colab.research.google.com/github/prolin99/python_begin/blob/main/5%20%E6%A8%A1%E7%B5%84%E4%BD%BF%E7%94%A8.ipynb\" target=\"_parent\"><img src=\"https://colab.research.google.com/assets/colab-badge.svg\" alt=\"Open In Colab\"/></a>"
      ]
    },
    {
      "cell_type": "markdown",
      "metadata": {
        "id": "xnpbVM73oN36"
      },
      "source": [
        "# 內建標準模組\r\n",
        "(https://github.com/bat67/The-Python-Standard-Library-by-Example)"
      ]
    },
    {
      "cell_type": "markdown",
      "metadata": {
        "id": "YnIllUQyqcWx"
      },
      "source": [
        "## 載入模組方式\r\n",
        "1. from numpyu import sin\r\n",
        "\r\n",
        "  只能用到 numpy 模組中 sin 函數，如果輸入 cos ，出現不認識\r\n",
        "\r\n",
        "  語法： sin(3)\r\n",
        "2. from numpy import *\r\n",
        "\r\n",
        "  全部載入，但會比慢，因為要全部載入\r\n",
        "\r\n",
        "3. import numpy\r\n",
        "\r\n",
        "  不會載入，要用到時才會到 numpy 模組載入，語法 numpy.sin(3)\r\n",
        "\r\n",
        "4. import numpy as np \r\n",
        "\r\n",
        "  語法 np.sin(3) ,使用 np 這個別名代替 numpy 類別名，程式可以比較簡短\r\n",
        "\r\n",
        "由於大程式可能會用到多個模組，而各模組中可能會有同名的函數，建議使用第四種方式比較恰當。  "
      ]
    },
    {
      "cell_type": "markdown",
      "metadata": {
        "id": "PJsyelX4nWid"
      },
      "source": [
        "## Time \n",
        "時間"
      ]
    },
    {
      "cell_type": "code",
      "metadata": {
        "id": "QHwX3NmRnV9X"
      },
      "source": [
        "#!/usr/bin/env python3\r\n",
        "# encoding: utf-8\r\n",
        "#\r\n",
        "# Copyright (c) 2008 Doug Hellmann All rights reserved.\r\n",
        "#\r\n",
        "\"\"\"\r\n",
        "\"\"\"\r\n",
        "\r\n",
        "#end_pymotw_header\r\n",
        "import time\r\n",
        "print('start time:' , time.time())\r\n",
        "time.sleep(10)\r\n",
        "print('The time is:', time.time())"
      ],
      "execution_count": null,
      "outputs": []
    },
    {
      "cell_type": "markdown",
      "metadata": {
        "id": "O3yVTPmpitOh"
      },
      "source": [
        "## 目錄"
      ]
    },
    {
      "cell_type": "code",
      "metadata": {
        "id": "Vns5YM5mlStv"
      },
      "source": [
        "# 此代表執行 ls 指令， google 虚擬機中 /var/log 目錄中的檔案列出\n",
        "!ls /var/log"
      ],
      "execution_count": null,
      "outputs": []
    },
    {
      "cell_type": "code",
      "metadata": {
        "id": "p_HbN6Ltisi7"
      },
      "source": [
        "#!/usr/bin/python\r\n",
        "# -*- coding: utf-8 -*-\r\n",
        "from os import listdir\r\n",
        "from os.path import isfile, isdir, join\r\n",
        "\r\n",
        "# 指定要列出所有檔案的目錄\r\n",
        "mypath = \"/var/log\"\r\n",
        "\r\n",
        "# 取得所有檔案與子目錄名稱\r\n",
        "files = listdir(mypath)\r\n",
        "\r\n",
        "# 以迴圈處理\r\n",
        "for f in files:\r\n",
        "  # 產生檔案的絕對路徑\r\n",
        "  fullpath = join(mypath, f)\r\n",
        "  # 判斷 fullpath 是檔案還是目錄\r\n",
        "  if isfile(fullpath):\r\n",
        "    print(\"檔案：\", f)\r\n",
        "  elif isdir(fullpath):\r\n",
        "    print(\"目錄：\", f)"
      ],
      "execution_count": null,
      "outputs": []
    },
    {
      "cell_type": "code",
      "metadata": {
        "id": "faDxZ8IJkrNj"
      },
      "source": [
        "#以目錄區分\r\n",
        "\r\n",
        "#!/usr/bin/python3\r\n",
        "# -*- coding: utf-8 -*-\r\n",
        "from os import walk\r\n",
        "\r\n",
        "# 指定要列出所有檔案的目錄\r\n",
        "mypath = \"/var/log\"\r\n",
        "\r\n",
        "# 遞迴列出所有子目錄與檔案\r\n",
        "for root, dirs, files in walk(mypath):\r\n",
        "  print(\"路徑：\", root)\r\n",
        "  print(\"  目錄：\", dirs)\r\n",
        "  print(\"  檔案：\", files)"
      ],
      "execution_count": null,
      "outputs": []
    },
    {
      "cell_type": "code",
      "metadata": {
        "id": "6IMEaeFhmaW9"
      },
      "source": [
        "#完整路徑檔名\r\n",
        "\r\n",
        "\r\n",
        "#!/usr/bin/python\r\n",
        "# -*- coding: utf-8 -*-\r\n",
        "from os import walk\r\n",
        "from os.path import join\r\n",
        "\r\n",
        "# 指定要列出所有檔案的目錄\r\n",
        "mypath = \"/var/log\"\r\n",
        "# 遞迴列出所有檔案的絕對路徑\r\n",
        "for root, dirs, files in walk(mypath):\r\n",
        "  for f in files:\r\n",
        "    fullpath = join(root, f)\r\n",
        "    print(fullpath)"
      ],
      "execution_count": null,
      "outputs": []
    },
    {
      "cell_type": "markdown",
      "metadata": {
        "id": "wlIQVxoPiXYy"
      },
      "source": [
        "## 使用日期模組\n",
        "由於是使用虚擬機，所以時間會不準"
      ]
    },
    {
      "cell_type": "code",
      "metadata": {
        "id": "MDgSo0t-iWL3"
      },
      "source": [
        "import datetime\r\n",
        "\r\n",
        "today = datetime.date.today()\r\n",
        "print(today)\r\n",
        "print('ctime  :', today.ctime())\r\n",
        "tt = today.timetuple()\r\n",
        "print('tuple  : tm_year  =', tt.tm_year)\r\n",
        "print('         tm_mon   =', tt.tm_mon)\r\n",
        "print('         tm_mday  =', tt.tm_mday)\r\n",
        "print('         tm_hour  =', tt.tm_hour)\r\n",
        "print('         tm_min   =', tt.tm_min)\r\n",
        "print('         tm_sec   =', tt.tm_sec)\r\n",
        "print('         tm_wday  =', tt.tm_wday)\r\n",
        "print('         tm_yday  =', tt.tm_yday)\r\n",
        "print('         tm_isdst =', tt.tm_isdst)\r\n",
        "print('ordinal:', today.toordinal())\r\n",
        "print('Year   :', today.year)\r\n",
        "print('Mon    :', today.month)\r\n",
        "print('Day    :', today.day)"
      ],
      "execution_count": null,
      "outputs": []
    },
    {
      "cell_type": "markdown",
      "metadata": {
        "id": "9EgJC0Uop3G7"
      },
      "source": [
        "## 自已的模組\n",
        "* 函數放在模組中\n",
        "\n",
        "* 先把以下內容做成一個文字檔 support.py ，傳到 雲端 pylib 目錄中\n",
        "```\n",
        "def print_func( par ):\n",
        "   print(\"Hello : \", par)\n",
        "   return\n",
        "```   "
      ]
    },
    {
      "cell_type": "code",
      "metadata": {
        "id": "_kCNtOhRqKDm"
      },
      "source": [
        "#這一段只是在讀取 goole 雲端檔案的寫法 ，執行這一段需要授權\n",
        "from google.colab import drive\n",
        "drive.mount('/content/drive')\n",
        "\n",
        "#指定要引用模組尋找的路徑\n",
        "import sys\n",
        "#指定目錄\n",
        "sys.path.append('/content/drive/My Drive/pylib/')\n",
        "\n",
        "\n",
        "\n",
        "\n",
        "\n"
      ],
      "execution_count": null,
      "outputs": []
    },
    {
      "cell_type": "code",
      "metadata": {
        "id": "_K-7h2KHsOG_"
      },
      "source": [
        "#呼叫自已寫的模組\n",
        "import support\n",
        "\n",
        "# 現在可以調用模組裡包含的函數了\n",
        "support.print_func(\"MyFriends\")\n",
        "\n",
        "\n"
      ],
      "execution_count": null,
      "outputs": []
    },
    {
      "cell_type": "markdown",
      "metadata": {
        "id": "k2rq5fVDsbJq"
      },
      "source": [
        "# 安裝外部模組\r\n",
        "* 有非常多的 python 模組可以使用。\r\n",
        "> pip install <package 名稱>\r\n",
        "\r\n",
        "* 安裝 python 3.* 版後已安裝 pip 工具，在 Vscode 的終端機中就可以安裝，例：\r\n",
        "> pip install matplotlib\r\n",
        "\r\n",
        "* matplotlib 是一個統計圖表繪製模組\r\n",
        "* 在 colab 中已預設安裝了一些套件(配合人工智慧)"
      ]
    },
    {
      "cell_type": "code",
      "metadata": {
        "id": "TtxdAWOXsaZN"
      },
      "source": [
        "import matplotlib.pyplot as plt\r\n",
        " \r\n",
        "x  = [1, 2, 3, 4, 5, 6, 7, 8, 9]\r\n",
        "y1 = [1, 3, 5, 3, 1, 3, 5, 3, 1]\r\n",
        "y2 = [2, 4, 6, 4, 2, 4, 6, 4, 2]\r\n",
        "plt.plot(x, y1, label=\"line L\")\r\n",
        "plt.plot(x, y2, label=\"line H\")\r\n",
        "plt.plot()\r\n",
        "\r\n",
        "plt.xlabel(\"x axis\")\r\n",
        "plt.ylabel(\"y axis\")\r\n",
        "plt.title(\"Line Graph Example\")\r\n",
        "plt.legend()\r\n",
        "plt.show()"
      ],
      "execution_count": null,
      "outputs": []
    }
  ]
}