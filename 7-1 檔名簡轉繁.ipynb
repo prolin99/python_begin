{
  "nbformat": 4,
  "nbformat_minor": 0,
  "metadata": {
    "colab": {
      "name": "s2t簡轉繁.ipynb",
      "provenance": [],
      "collapsed_sections": [],
      "authorship_tag": "ABX9TyPA1uzDVtt3bmZ5dr+eiFHB",
      "include_colab_link": true
    },
    "kernelspec": {
      "name": "python3",
      "display_name": "Python 3"
    }
  },
  "cells": [
    {
      "cell_type": "markdown",
      "metadata": {
        "id": "view-in-github",
        "colab_type": "text"
      },
      "source": [
        "<a href=\"https://colab.research.google.com/github/prolin99/python_begin/blob/main/7-1%20%E6%AA%94%E5%90%8D%E7%B0%A1%E8%BD%89%E7%B9%81.ipynb\" target=\"_parent\"><img src=\"https://colab.research.google.com/assets/colab-badge.svg\" alt=\"Open In Colab\"/></a>"
      ]
    },
    {
      "cell_type": "markdown",
      "metadata": {
        "id": "HtgilgdHHWnq"
      },
      "source": [
        "# 簡體、繁體文字轉換\r\n",
        "* 使用 OpenCC 模組"
      ]
    },
    {
      "cell_type": "code",
      "metadata": {
        "id": "TwQwO6GU5lBc"
      },
      "source": [
        "!pip install  opencc-python-reimplemented\r\n"
      ],
      "execution_count": null,
      "outputs": []
    },
    {
      "cell_type": "code",
      "metadata": {
        "colab": {
          "base_uri": "https://localhost:8080/"
        },
        "id": "V0XUniQ15VFC",
        "outputId": "dfeb6c59-a02e-4fd0-b1c7-5a13391212c0"
      },
      "source": [
        "from opencc import OpenCC\r\n",
        "\r\n",
        "cc = OpenCC('t2s')\r\n",
        "text = '首先，我們可以參考以下這個 Github ，其中他使用了 pure Python 去實做 opencc-python 這個套件。'\r\n",
        "\r\n",
        "print(cc.convert(text))"
      ],
      "execution_count": null,
      "outputs": [
        {
          "output_type": "stream",
          "text": [
            "首先，我们可以参考以下这个 Github ，其中他使用了 pure Python 去实做 opencc-python 这个套件。\n"
          ],
          "name": "stdout"
        }
      ]
    },
    {
      "cell_type": "markdown",
      "metadata": {
        "id": "E0v-ZwUS7nk2"
      },
      "source": [
        "## 在檔案總管中選檔時滑鼠右鍵增加一個檔名簡轉繁功能\r\n",
        "* 以下檔案存成 c:\\tools\\s2t_file_name.py\r\n",
        "\r\n",
        "c:\\tools\\s2t.bat\r\n",
        "\r\n",
        "> python c:\\tools\\s2t_file_name.py %*\r\n",
        "\r\n",
        "s2t.reg（由於有中文，編碼改一下為 big5,記事本為ansi)\r\n",
        "```\r\n",
        "Windows Registry Editor Version 5.00\r\n",
        "\r\n",
        "[HKEY_CLASSES_ROOT\\*\\shell\\FileName_s2t]\r\n",
        "@=\"檔名簡轉繁\"\r\n",
        "\r\n",
        "[HKEY_CLASSES_ROOT\\*\\shell\\FileName_s2t\\command]\r\n",
        "@=\"c:\\\\tools\\\\s2t.bat \\\"%1\\\"\"\r\n",
        "\r\n",
        "```\r\n",
        "\r\n",
        "* 點擊 s2t.reg 檔案，會在檔案總管滑鼠右鍵加入 FileName_c2t (檔名簡轉繁功能)\r\n",
        "\r\n",
        "\r\n",
        "\r\n",
        "參考文件：[檔案總管右鍵加程式](https://kknews.cc/zh-tw/code/r32kqxn.html)"
      ]
    },
    {
      "cell_type": "code",
      "metadata": {
        "id": "6rj4dR9W630E"
      },
      "source": [
        "from opencc import OpenCC\r\n",
        "import os , sys , time\r\n",
        "if len(sys.argv) <2 :\r\n",
        "  exit()\r\n",
        "#檢查是否為檔案  \r\n",
        "file_name = sys.argv[1]\r\n",
        "#print(file_name)\r\n",
        "\r\n",
        "if os.path.isfile(file_name):\r\n",
        "  cc = OpenCC('s2t')\r\n",
        "  new_file_name = cc.convert(file_name)\r\n",
        "  #print(new_file_name)\r\n",
        "\r\n",
        "  if new_file_name != file_name :\r\n",
        "    os.rename(file_name, new_file_name) \r\n"
      ],
      "execution_count": null,
      "outputs": []
    }
  ]
}