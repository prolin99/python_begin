{
  "nbformat": 4,
  "nbformat_minor": 0,
  "metadata": {
    "colab": {
      "name": "list.ipynb",
      "provenance": [],
      "collapsed_sections": [],
      "authorship_tag": "ABX9TyPkiBRn7LD7yJgwTggNZrcK",
      "include_colab_link": true
    },
    "kernelspec": {
      "name": "python3",
      "display_name": "Python 3"
    }
  },
  "cells": [
    {
      "cell_type": "markdown",
      "metadata": {
        "id": "view-in-github",
        "colab_type": "text"
      },
      "source": [
        "<a href=\"https://colab.research.google.com/github/prolin99/python_begin/blob/main/2-3list%E4%B8%B2%E5%88%97.ipynb\" target=\"_parent\"><img src=\"https://colab.research.google.com/assets/colab-badge.svg\" alt=\"Open In Colab\"/></a>"
      ]
    },
    {
      "cell_type": "markdown",
      "metadata": {
        "id": "oFAXNGaFb7fY"
      },
      "source": [
        "# list(陣列、串列)\n",
        "* 串列中的資料沒有限制為同一資料格式（例可以是字串、數字等）\n",
        "* 其中的資料可以被更改\n",
        "* 字串可以被視為串列的一種\n"
      ]
    },
    {
      "cell_type": "code",
      "metadata": {
        "id": "HyZTCRhwNAVq"
      },
      "source": [
        "t = ['a',1]\n",
        "t\n"
      ],
      "execution_count": null,
      "outputs": []
    },
    {
      "cell_type": "code",
      "metadata": {
        "id": "LmmJy8CIbwy6"
      },
      "source": [
        "#空串列\n",
        "first_list = []\n",
        "first_list = list()\n",
        "\n",
        "\n",
        "shoplist=['apple','milk','pen']\n",
        "print(shoplist)\n",
        "\n",
        "print('第一個值：' , shoplist[0])\n",
        "print('串列長度:' , len(shoplist))\n"
      ],
      "execution_count": null,
      "outputs": []
    },
    {
      "cell_type": "markdown",
      "metadata": {
        "id": "OrKDBQPlODu1"
      },
      "source": [
        "## 修改、增加、移除\n"
      ]
    },
    {
      "cell_type": "code",
      "metadata": {
        "id": "0LylB_HtcDRX"
      },
      "source": [
        "#可直接改\n",
        "shoplist=['apple','milk','pen']\n",
        "print('原值：' ,shoplist)\n",
        "\n",
        "shoplist[2]='eggs'\n",
        "print('修改後' , shoplist)\n",
        "\n",
        "\n",
        "shoplist.append('bread')\n",
        "print('在最後增加：' , shoplist)\n",
        "\n",
        "\n",
        "shoplist.insert(0,'butter')\n",
        "print('在最前頭增加：' , shoplist)"
      ],
      "execution_count": null,
      "outputs": []
    },
    {
      "cell_type": "code",
      "metadata": {
        "id": "OBmf_cTDcya5"
      },
      "source": [
        "#取出並移除，最後或指定第幾個\n",
        "shoplist=['apple','milk','pen']\n",
        "print(shoplist)\n",
        "\n",
        "item=shoplist.pop()\n",
        "print('取出最後一個' , shoplist , item)\n",
        "\n",
        "item=shoplist.pop(0)\n",
        "print('取出第一個' ,shoplist , item)\n",
        "\n"
      ],
      "execution_count": null,
      "outputs": []
    },
    {
      "cell_type": "code",
      "metadata": {
        "id": "zn06mYBpcRRf"
      },
      "source": [
        "shoplist=['apple','milk','pen']\n",
        "print(shoplist)\n",
        " \n",
        "\n",
        "#逐項印出\n",
        "for item in shoplist:\n",
        "    print(item)\n",
        "\n",
        "\n",
        " \n",
        "\n"
      ],
      "execution_count": null,
      "outputs": []
    },
    {
      "cell_type": "markdown",
      "metadata": {
        "id": "n4s_WUBgnBXK"
      },
      "source": [
        "## 等於、複製"
      ]
    },
    {
      "cell_type": "code",
      "metadata": {
        "id": "Kgb4JhtSnEDG"
      },
      "source": [
        "# 使用等於的方法\n",
        "shoplist=['apple','milk','pen']\n",
        "new_shoplist = shoplist\n",
        "print('兩個購物清單' , shoplist , new_shoplist)\n",
        "\n",
        "\n",
        "shoplist[0] = 'egg'\n",
        "print('更改後兩個購物清單', shoplist , new_shoplist)\n",
        "\n",
        "\n",
        "\n"
      ],
      "execution_count": null,
      "outputs": []
    },
    {
      "cell_type": "code",
      "metadata": {
        "id": "StFuds4Ln75a"
      },
      "source": [
        "# 複製一份\n",
        "shoplist=['apple','milk','pen']\n",
        "new_shoplist = shoplist[:]\n",
        "print('兩個購物清單' , shoplist , new_shoplist)\n",
        "\n",
        "\n",
        "shoplist[0] = 'egg'\n",
        "print('更改後兩個購物清單', shoplist , new_shoplist)\n",
        "\n"
      ],
      "execution_count": null,
      "outputs": []
    },
    {
      "cell_type": "markdown",
      "metadata": {
        "id": "M8nZ0dRhdd4O"
      },
      "source": [
        "## list 相加"
      ]
    },
    {
      "cell_type": "code",
      "metadata": {
        "id": "e-bVjQ6AdUSj"
      },
      "source": [
        "shoplist=['apple','milk','pen']\n",
        "print(shoplist)\n",
        "\n",
        "newlist=['paper','xo']\n",
        "newshoplist=shoplist+newlist\n",
        "print('相加結果：' , newshoplist)\n",
        "\n"
      ],
      "execution_count": null,
      "outputs": []
    },
    {
      "cell_type": "markdown",
      "metadata": {
        "id": "oKg1CCJ0l_3l"
      },
      "source": [
        "## 乘\n",
        "* list 的乘法不是計算的乘法，如果需要需使用 numpy 模組"
      ]
    },
    {
      "cell_type": "code",
      "metadata": {
        "id": "rDgaaVhmlm5F"
      },
      "source": [
        "num_list=[1,3,5]\n",
        "\n",
        "num_list*2\n",
        "\n"
      ],
      "execution_count": null,
      "outputs": []
    },
    {
      "cell_type": "markdown",
      "metadata": {
        "id": "SvZTuWJFe_Df"
      },
      "source": [
        "## 排序"
      ]
    },
    {
      "cell_type": "code",
      "metadata": {
        "id": "eDOJonP0dkDS"
      },
      "source": [
        "scorelist=[70 , 90, 60 ,88]\r\n",
        "print(scorelist)\r\n",
        "\r\n",
        "#使用 sorted 來排序，串列本身不更改\r\n",
        "sort_list = sorted(scorelist)\r\n",
        "print(scorelist , sort_list) \r\n",
        "\r\n",
        "\r\n",
        "#使用 .sort() ，串列本身會更改\r\n",
        "scorelist.sort()\r\n",
        "print(scorelist)\r\n",
        "\r\n",
        "#反排序\r\n",
        "scorelist.sort(reverse=True)\r\n",
        "print(scorelist)"
      ],
      "execution_count": null,
      "outputs": []
    },
    {
      "cell_type": "markdown",
      "metadata": {
        "id": "VO4vGp5yf6Bc"
      },
      "source": [
        "## 多維"
      ]
    },
    {
      "cell_type": "code",
      "metadata": {
        "id": "ngAtGMOOfDBH"
      },
      "source": [
        "scores = [\r\n",
        "    ('Jane', 'B', 12),\r\n",
        "    ('John', 'A', 15),\r\n",
        "    ('Dave', 'B', 11)]\r\n",
        "print('串列長度：', len(scores))\r\n",
        "print('第三個' , scores[2])\r\n",
        "print('第三個第二項' , scores[2][1])\r\n",
        "\r\n",
        "\r\n",
        "for item  in scores:\r\n",
        "  for thing in item :\r\n",
        "    print(thing)\r\n",
        "\r\n",
        "\r\n",
        "\r\n"
      ],
      "execution_count": null,
      "outputs": []
    },
    {
      "cell_type": "markdown",
      "metadata": {
        "id": "5CacrYQ8knEX"
      },
      "source": [
        "### 多維排序"
      ]
    },
    {
      "cell_type": "code",
      "metadata": {
        "id": "7AVgQl2skril"
      },
      "source": [
        "scores = [\n",
        "    ('Jane', 'B', 12),\n",
        "    ('John', 'A', 15),\n",
        "    ('Dave', 'B', 11)]\n",
        "    \n",
        "#排序 ，預設以第一欄排序\n",
        "scores.sort()  \n",
        "print(scores) \n",
        "\n",
        "\n",
        "#以特定欄排序\n",
        "scores.sort(key = lambda s: s[1])\n",
        "print(scores)"
      ],
      "execution_count": null,
      "outputs": []
    },
    {
      "cell_type": "markdown",
      "metadata": {
        "id": "Nq0h-RQngdI_"
      },
      "source": [
        "## 字串切割成串列"
      ]
    },
    {
      "cell_type": "code",
      "metadata": {
        "id": "Yv0PF7QmdOTk"
      },
      "source": [
        "list3= \"2016/12/31\".split('/')\n",
        "print(list3)\n",
        "print(list3[::-1])     #相反順序\n",
        "#list[開始:結束:間隔]"
      ],
      "execution_count": null,
      "outputs": []
    }
  ]
}