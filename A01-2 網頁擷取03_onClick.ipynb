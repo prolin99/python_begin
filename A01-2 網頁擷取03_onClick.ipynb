{
  "nbformat": 4,
  "nbformat_minor": 0,
  "metadata": {
    "colab": {
      "name": "網頁擷取03 onClick.ipynb",
      "provenance": [],
      "authorship_tag": "ABX9TyMhW8uFheK2gOwlA3KHIFcm",
      "include_colab_link": true
    },
    "kernelspec": {
      "name": "python3",
      "display_name": "Python 3"
    },
    "language_info": {
      "name": "python"
    }
  },
  "cells": [
    {
      "cell_type": "markdown",
      "metadata": {
        "id": "view-in-github",
        "colab_type": "text"
      },
      "source": [
        "<a href=\"https://colab.research.google.com/github/prolin99/python_begin/blob/main/A01-2%20%E7%B6%B2%E9%A0%81%E6%93%B7%E5%8F%9603_onClick.ipynb\" target=\"_parent\"><img src=\"https://colab.research.google.com/assets/colab-badge.svg\" alt=\"Open In Colab\"/></a>"
      ]
    },
    {
      "cell_type": "markdown",
      "metadata": {
        "id": "3A_l6Yiwn0KO"
      },
      "source": [
        "#以好讀網站下載 epub 檔為例\n",
        "網頁中有 javascript onClick 程式，要分析其中的內容，再找到檔案下載連結處。"
      ]
    },
    {
      "cell_type": "code",
      "metadata": {
        "colab": {
          "base_uri": "https://localhost:8080/"
        },
        "id": "GfritwjwnqJj",
        "outputId": "89242fb5-446a-48f3-db7d-007155b44c17"
      },
      "source": [
        "import requests , bs4\n",
        "\n",
        "try:\n",
        "    res = requests.get('http://www.haodoo.net/?M=book&P=505')\n",
        "    res.raise_for_status()\n",
        "\n",
        "    soup = bs4.BeautifulSoup(res.text , \"html.parser\")\n",
        "    # 取得書下載連結\n",
        "    elems = soup.select('input[value=\"下載 epub 檔\"]')\n",
        "    print(elems)\n",
        "    print(elems[0].get('onclick'))\n",
        "    book = (elems[0].get('onclick').split(\"'\")[1] )+ '.epub'\n",
        "\n",
        "    # 分析 d.js\n",
        "    # DownloadEpub 會導向\n",
        "    # http://www.haodoo.net/?M=d&P=A505.epub\n",
        "\n",
        "    book_url = 'http://www.haodoo.net/?M=d&P='+  book\n",
        "    print(book_url)\n",
        "\n",
        "\n",
        "\n",
        "    # 取完整中文書名\n",
        "    elems = soup.select('table > tr > td > script')\n",
        "    print(elems[0].getText().split('\\r\\n') )\n",
        "    ss = elems[0].getText().split('\\r\\n')[1]\n",
        "    book_name= ss.split('\"')[1] + '.epub'\n",
        "    print(book_name)\n",
        "\n",
        "    # 下載存檔\n",
        "\n",
        "    r = requests.get( book_url , stream=True)\n",
        "    r.raise_for_status()\n",
        "\n",
        "\n",
        "    with open(book_name, 'wb') as f:\n",
        "        # 大檔案使用 iter_content \n",
        "        for chunk in r.iter_content(100000):\n",
        "            f.write(chunk)\n",
        "\n",
        "\n",
        "\n",
        "\n",
        "\n",
        "except Exception as exc:\n",
        "    print('There was a problem: {}'.format(exc))"
      ],
      "execution_count": 1,
      "outputs": [
        {
          "output_type": "stream",
          "text": [
            "[<input ;=\"\" onclick=\"DownloadEpub('A505')\" type=\"button\" value=\"下載 epub 檔\"/>]\n",
            "DownloadEpub('A505')\n",
            "http://www.haodoo.net/?M=d&P=A505.epub\n",
            "['', 'SetTitle(\"鍾理和【原鄉人】\");', 'SetLink(\\'<a href=\"?M=hd&P=100-2\">世紀百強</a>\\');', '']\n",
            "鍾理和【原鄉人】.epub\n"
          ],
          "name": "stdout"
        }
      ]
    }
  ]
}