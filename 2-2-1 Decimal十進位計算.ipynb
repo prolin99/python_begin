{
  "nbformat": 4,
  "nbformat_minor": 0,
  "metadata": {
    "colab": {
      "name": "Decimal十進位計算.ipynb",
      "provenance": [],
      "authorship_tag": "ABX9TyNPVh7uRc4JHy/sfbd8y/SX",
      "include_colab_link": true
    },
    "kernelspec": {
      "name": "python3",
      "display_name": "Python 3"
    },
    "language_info": {
      "name": "python"
    }
  },
  "cells": [
    {
      "cell_type": "markdown",
      "metadata": {
        "id": "view-in-github",
        "colab_type": "text"
      },
      "source": [
        "<a href=\"https://colab.research.google.com/github/prolin99/python_begin/blob/main/2-2-1%20Decimal%E5%8D%81%E9%80%B2%E4%BD%8D%E8%A8%88%E7%AE%97.ipynb\" target=\"_parent\"><img src=\"https://colab.research.google.com/assets/colab-badge.svg\" alt=\"Open In Colab\"/></a>"
      ]
    },
    {
      "cell_type": "markdown",
      "metadata": {
        "id": "VcCTnRivKvgQ"
      },
      "source": [
        ""
      ]
    },
    {
      "cell_type": "markdown",
      "metadata": {
        "id": "6_AGqRRmKzdI"
      },
      "source": [
        "# 金錢數字欄位\n",
        "電腦在計算時汓點數會以二進位的方式取值計算。但有時會產生不可預期的情形。如果在金融計算這種錙銖比較的情況下就會麻煩了。"
      ]
    },
    {
      "cell_type": "code",
      "metadata": {
        "id": "fOL4N_5SKh9E"
      },
      "source": [
        "\n",
        "print(0.1+0.2)"
      ],
      "execution_count": null,
      "outputs": []
    },
    {
      "cell_type": "code",
      "metadata": {
        "colab": {
          "base_uri": "https://localhost:8080/"
        },
        "id": "2Rg-u0FcOu1O",
        "outputId": "2fb36d97-c30a-451a-b521-327aa18217fa"
      },
      "source": [
        "from decimal import * \n",
        "#數值表示，浮點數\n",
        "print('數字 1.1 浮點數出現：')\n",
        "print(Decimal(1.1))\n",
        "\n",
        "print(Decimal(0.1) + Decimal(0.2))\n",
        "\n",
        "print('限制小數點位數')\n",
        "getcontext().prec = 6\n",
        "print(Decimal(1)/Decimal(7))\n",
        "\n",
        "print(Decimal(0.1) + Decimal(0.2))\n",
        "print('使用字串傳值，沒有浮點數問題')\n",
        "print(Decimal('0.1') + Decimal('0.2'))\n",
        "\n",
        "print('如果原欄位是數字，先轉字串')\n",
        "print(Decimal(str(0.1)) + Decimal(str(0.2)))\n",
        "\n",
        "#四拾五入\n",
        "\n",
        "Decimal('50.5679').quantize(Decimal('0.00'))\n"
      ],
      "execution_count": 24,
      "outputs": [
        {
          "output_type": "stream",
          "text": [
            "數字 1.1 浮點數出現：\n",
            "1.100000000000000088817841970012523233890533447265625\n",
            "0.300000\n",
            "限制小數點位數\n",
            "0.142857\n",
            "0.300000\n",
            "使用字串傳值，沒有浮點數問題\n",
            "0.3\n",
            "如果原欄位是數字，先轉字串\n",
            "0.3\n"
          ],
          "name": "stdout"
        },
        {
          "output_type": "execute_result",
          "data": {
            "text/plain": [
              "Decimal('50.57')"
            ]
          },
          "metadata": {
            "tags": []
          },
          "execution_count": 24
        }
      ]
    }
  ]
}