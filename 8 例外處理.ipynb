{
  "nbformat": 4,
  "nbformat_minor": 0,
  "metadata": {
    "colab": {
      "name": "異常.ipynb",
      "provenance": [],
      "collapsed_sections": [],
      "authorship_tag": "ABX9TyPFvccn/Cv+hVW1eHvGSNON",
      "include_colab_link": true
    },
    "kernelspec": {
      "name": "python3",
      "display_name": "Python 3"
    }
  },
  "cells": [
    {
      "cell_type": "markdown",
      "metadata": {
        "id": "view-in-github",
        "colab_type": "text"
      },
      "source": [
        "<a href=\"https://colab.research.google.com/github/prolin99/python_begin/blob/main/8%20%E4%BE%8B%E5%A4%96%E8%99%95%E7%90%86.ipynb\" target=\"_parent\"><img src=\"https://colab.research.google.com/assets/colab-badge.svg\" alt=\"Open In Colab\"/></a>"
      ]
    },
    {
      "cell_type": "markdown",
      "metadata": {
        "id": "F96luDH6idAw"
      },
      "source": [
        "# try except\n",
        "* 當檔案不存在或除以 0 等異常情形，程式會中斷並出現錯誤訊息。但對使用都來說不是有善的作法。\n",
        "* 以 try except 的方式處理錯誤情形，提示明確錯誤說明，而程式可以繼續運行。"
      ]
    },
    {
      "cell_type": "code",
      "metadata": {
        "id": "K8LUWQfKiW2f"
      },
      "source": [
        "5/0"
      ],
      "execution_count": null,
      "outputs": []
    },
    {
      "cell_type": "code",
      "metadata": {
        "id": "qot5_qLtinyR"
      },
      "source": [
        "try :\n",
        "  print(5/0)\n",
        "except ZeroDivisionError:\n",
        "  print(\"You can't divide by zero!\")  \n"
      ],
      "execution_count": null,
      "outputs": []
    },
    {
      "cell_type": "code",
      "metadata": {
        "id": "NN8RUMnBjHtM"
      },
      "source": [
        "filename = 'alice.txt'\n",
        "\n",
        "with open(filename) as f_obj:\n",
        "  contents = f_obj.read()\n",
        "\n",
        "  \n",
        "\n"
      ],
      "execution_count": null,
      "outputs": []
    },
    {
      "cell_type": "code",
      "metadata": {
        "id": "WWiSa1Uplzsj"
      },
      "source": [
        "filename = 'alice.txt'\n",
        "\n",
        "try :\n",
        "  with open(filename) as f_obj:\n",
        "    contents = f_obj.read()\n",
        "except FileNotFoundError:\n",
        "    msg = \"Sorry, the file \" + fn + \" does not exist.\"\n",
        "    print(msg)  \n"
      ],
      "execution_count": null,
      "outputs": []
    },
    {
      "cell_type": "markdown",
      "metadata": {
        "id": "_y5b-2xYmETv"
      },
      "source": [
        "## try except else\n",
        "* except 可以多項，分別處理各種錯誤\n",
        "* else 表示沒有 except 才執行的部份\n"
      ]
    },
    {
      "cell_type": "code",
      "metadata": {
        "id": "ahXYBaTslMNn"
      },
      "source": [
        "#這一段只是在讀取 goole 雲端檔案的寫法 ，執行這一段需要授權\n",
        "from google.colab import drive\n",
        "drive.mount('/content/drive')\n",
        "\n",
        "\n",
        "\n"
      ],
      "execution_count": null,
      "outputs": []
    },
    {
      "cell_type": "code",
      "metadata": {
        "id": "zoo42tAajXO9"
      },
      "source": [
        "\n",
        "filenames = ['pi_digits.txt' ,'/content/drive/My Drive/pylib/pi_digits.txt']\n",
        "\n",
        "for fn in filenames :\n",
        "  try:  \n",
        "    with open(fn) as f_obj:\n",
        "      contents = f_obj.read()\n",
        "  except FileNotFoundError:\n",
        "    msg = \"Sorry, the file \" + fn + \" does not exist.\"\n",
        "    print(msg) \n",
        "  else:\n",
        "    num_words = len(contents)\n",
        "    print(\"the file \" +fn +' len is:',  num_words)\n"
      ],
      "execution_count": null,
      "outputs": []
    },
    {
      "cell_type": "markdown",
      "metadata": {
        "id": "gRL9nh5GnPcU"
      },
      "source": [
        "## try except else finally\n",
        "* finally 代表一定要執行的部份，例如檔案 close()\n"
      ]
    },
    {
      "cell_type": "code",
      "metadata": {
        "id": "9i6Wj4OfnZUd"
      },
      "source": [
        "m = \"Something happened.\"\n",
        "try:\n",
        "  a = 1 / 0\n",
        "except:\n",
        "  a = 0\n",
        "else:\n",
        "  m = \"Good!\"\n",
        "finally:\n",
        "  print(\"Everything is done.\")\n",
        "\n",
        "print(a)\n",
        "print(m)"
      ],
      "execution_count": null,
      "outputs": []
    },
    {
      "cell_type": "markdown",
      "metadata": {
        "id": "UXLIwudDvZVd"
      },
      "source": [
        "\r\n",
        "```\r\n",
        "def func():\r\n",
        "  x = 1\r\n",
        "  return x\r\n",
        "print(func())\r\n",
        "\r\n",
        "#答案一定是 1\r\n",
        "```  \r\n",
        "* 先想想以下的輸出答案"
      ]
    },
    {
      "cell_type": "code",
      "metadata": {
        "id": "QZQaLsRivabR"
      },
      "source": [
        "def func():\r\n",
        "  try:\r\n",
        "    x = 1\r\n",
        "    return x\r\n",
        "  except Exception as e  :\r\n",
        "    x = 2\r\n",
        "    return x\r\n",
        "  finally :\r\n",
        "    x = 3\r\n",
        "    return x\r\n",
        "\r\n",
        "print(func())     \r\n",
        "\r\n"
      ],
      "execution_count": null,
      "outputs": []
    }
  ]
}