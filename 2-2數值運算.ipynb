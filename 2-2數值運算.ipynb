{
  "nbformat": 4,
  "nbformat_minor": 0,
  "metadata": {
    "colab": {
      "name": "數值運算.ipynb",
      "provenance": [],
      "collapsed_sections": [],
      "authorship_tag": "ABX9TyOsya5TcjUSWfxqq96qP6YX",
      "include_colab_link": true
    },
    "kernelspec": {
      "name": "python3",
      "display_name": "Python 3"
    }
  },
  "cells": [
    {
      "cell_type": "markdown",
      "metadata": {
        "id": "view-in-github",
        "colab_type": "text"
      },
      "source": [
        "<a href=\"https://colab.research.google.com/github/prolin99/python_begin/blob/main/2-2%E6%95%B8%E5%80%BC%E9%81%8B%E7%AE%97.ipynb\" target=\"_parent\"><img src=\"https://colab.research.google.com/assets/colab-badge.svg\" alt=\"Open In Colab\"/></a>"
      ]
    },
    {
      "cell_type": "markdown",
      "metadata": {
        "id": "r3Aoe6o9cvV7"
      },
      "source": [
        "# Python 支持三種不同的數值型別(Data Type)：\r\n",
        "\r\n",
        "[1]Int 整數，是可以是正或負整數，不帶小數點。\r\n",
        "   Python3  int是沒有限制大小的，可以當作 Long 類型使用，所以 Python3 沒有 Python2 的 Long 類型。\r\n",
        "\r\n",
        "[2]浮點數(float) :由整數部分與小數部分組成，浮點型也可以使用科學計數法表示（2.5e2 = 2.5 x 10 0 = 250）\r\n",
        "\r\n",
        "[3]複數( (complex)) - 複數由實數部分和虛數部分構成，可以用a + bj,或者complex(a,b)表示， 複數的實部a和虛部b都是浮點型。\r\n",
        "\r\n",
        "https://www.w3schools.com/python/python_exercises.asp"
      ]
    },
    {
      "cell_type": "code",
      "metadata": {
        "id": "dvIm7vTdblRY"
      },
      "source": [
        "x = 1\r\n",
        "y = 2.8\r\n",
        "z = 1j\r\n",
        "\r\n",
        "print(type(x))\r\n",
        "print(type(y))\r\n",
        "print(type(z))"
      ],
      "execution_count": null,
      "outputs": []
    },
    {
      "cell_type": "markdown",
      "metadata": {
        "id": "A6cZg3updPBN"
      },
      "source": [
        "運算"
      ]
    },
    {
      "cell_type": "code",
      "metadata": {
        "id": "te9llOXtXmtW"
      },
      "source": [
        "a = 3 / 2\n",
        "b = 0.2 + 0.1\n",
        "a , b \n",
        "\n",
        "#問題 ？？？？"
      ],
      "execution_count": null,
      "outputs": []
    },
    {
      "cell_type": "code",
      "metadata": {
        "id": "ey1PxJdlX3rD"
      },
      "source": [
        "a = 5+20*3\n",
        "\n",
        "b = (5+20)*3\n",
        "\n",
        "a , b "
      ],
      "execution_count": null,
      "outputs": []
    },
    {
      "cell_type": "code",
      "metadata": {
        "id": "UHZBx4VCdPvI"
      },
      "source": [
        "#除法 ， 整數除 ，餘數除\r\n",
        "a = 17 / 3\r\n",
        "\r\n",
        "b = 17 // 3\r\n",
        "\r\n",
        "c = 17 % 3\r\n",
        "\r\n",
        "a,b,c"
      ],
      "execution_count": null,
      "outputs": []
    },
    {
      "cell_type": "code",
      "metadata": {
        "id": "PFhGIQn2dqIl"
      },
      "source": [
        "a = 7//2\r\n",
        "b = 7.0//2\r\n",
        "c = 7//2.0\r\n",
        "\r\n",
        "a,b,c"
      ],
      "execution_count": null,
      "outputs": []
    },
    {
      "cell_type": "code",
      "metadata": {
        "id": "Ii6TxXW5eAUo"
      },
      "source": [
        "a = 5 ** 2\r\n",
        "b = -3 % 2\r\n",
        "\r\n",
        "a , b"
      ],
      "execution_count": null,
      "outputs": []
    },
    {
      "cell_type": "code",
      "metadata": {
        "id": "hq3S-_SoeK9w"
      },
      "source": [
        "tax = 12.5 / 100\r\n",
        "price = 100.50\r\n",
        "price * tax\r\n"
      ],
      "execution_count": null,
      "outputs": []
    },
    {
      "cell_type": "markdown",
      "metadata": {
        "id": "3BH2Xd0bgabE"
      },
      "source": [
        "有時候，我們需要對資料內置的類型進行轉換，\r\n",
        "\r\n",
        "資料類型的轉換只需要將資料類型作為函數名即可。\r\n",
        "\r\n",
        "int(x) 將x轉換為一個整數。\r\n",
        "\r\n",
        "float(x) 將x轉換到一個浮點數。\r\n",
        "\r\n",
        "complex(x) 將x轉換到一個複數，實數部分為 x，虛數部分為 0。\r\n",
        "\r\n",
        "complex(x, y) 將 x 和 y 轉換到一個複數，實數部分為 x，虛數部分為 y。x 和 y 是數字運算式。"
      ]
    },
    {
      "cell_type": "code",
      "metadata": {
        "id": "gr58iPUPgjsL"
      },
      "source": [
        "a = 1.0004\r\n",
        " \r\n",
        "\r\n",
        "b = 0.9999\r\n",
        " \r\n",
        "\r\n",
        "int(a) , int(b)"
      ],
      "execution_count": null,
      "outputs": []
    },
    {
      "cell_type": "markdown",
      "metadata": {
        "id": "0CQGtARwfAtN"
      },
      "source": [
        "logical "
      ]
    },
    {
      "cell_type": "code",
      "metadata": {
        "id": "9v1rRaqGfBSA"
      },
      "source": [
        "x = 5\r\n",
        "\r\n",
        "print(x > 3 and  x < 10)\r\n",
        "\r\n",
        "x = 5\r\n",
        "\r\n",
        "print(x > 3 or x < 4)\r\n",
        "\r\n",
        "x = 5\r\n",
        "\r\n",
        "print(not(x > 3 and x < 10))\r\n"
      ],
      "execution_count": null,
      "outputs": []
    },
    {
      "cell_type": "markdown",
      "metadata": {
        "id": "ZuMpN1sTgwh0"
      },
      "source": [
        "## 進位制:"
      ]
    },
    {
      "cell_type": "code",
      "metadata": {
        "id": "V55WvPkAgA-S"
      },
      "source": [
        "\"\"\"## 進位制:\"\"\"\r\n",
        "\r\n",
        "number1 = 0b111\r\n",
        " \r\n",
        "number2 = 0xA0F\r\n",
        " \r\n",
        "\r\n",
        "number3 = 0o37 \r\n",
        "number1 , number2 , number3"
      ],
      "execution_count": null,
      "outputs": []
    },
    {
      "cell_type": "markdown",
      "metadata": {
        "id": "Kk7V98YOhY2j"
      },
      "source": [
        "# 位元運算\r\n",
        "& 且and （11）\r\n",
        "\r\n",
        "| 或or （01 10 11) \r\n",
        "\r\n",
        "^ 相異互斥xor (01 10)\r\n",
        "\r\n",
        "~ 互斥反 xnor (00 11) 同性\r\n",
        "\r\n",
        "<< 左位移\r\n",
        "\r\n",
        "\\>> 右位移"
      ]
    },
    {
      "cell_type": "code",
      "metadata": {
        "id": "IplbMS2Pf13W"
      },
      "source": [
        "a = 60            # 60 = 0011 1100 \r\n",
        "b = 13            # 13 = 0000 1101 \r\n",
        "c = 0\r\n",
        "\r\n",
        "print (\"0 - a =  60 = 0011 1100(二進位) \")\r\n",
        "print (\"0 - b =  13 = 0000 1101(二進位) \")\r\n",
        "c = a & b;        # 12 = 0000 1100\r\n",
        "print (\"1 - c = a & b的值為：\", c)\r\n",
        " \r\n",
        "c = a | b;        # 61 = 0011 1101 \r\n",
        "print (\"2 - c = a | b的值為：\", c)\r\n",
        " \r\n",
        "c = a ^ b;        # 49 = 0011 0001\r\n",
        "print (\"3 - c= a ^ b 的值為：\", c)\r\n",
        " \r\n",
        "c = ~a;           # -61 = 1100 0011\r\n",
        "print (\"4 - c = ~a的值為：\", c)\r\n",
        " \r\n",
        "c = a << 2;       # 240 = 1111 0000\r\n",
        "print (\"5 - c = a << 2的值為：\", c)\r\n",
        " \r\n",
        "c = a >> 2;       # 15 = 0000 1111\r\n",
        "print (\"6 - c = a >> 2的值為：\", c)"
      ],
      "execution_count": null,
      "outputs": []
    }
  ]
}