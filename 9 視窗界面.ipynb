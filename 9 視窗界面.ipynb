{
  "nbformat": 4,
  "nbformat_minor": 0,
  "metadata": {
    "colab": {
      "name": "視窗界面.ipynb",
      "provenance": [],
      "collapsed_sections": [],
      "authorship_tag": "ABX9TyPF5NLCsVKgQIRM2QjNDk+f",
      "include_colab_link": true
    },
    "kernelspec": {
      "name": "python3",
      "display_name": "Python 3"
    }
  },
  "cells": [
    {
      "cell_type": "markdown",
      "metadata": {
        "id": "view-in-github",
        "colab_type": "text"
      },
      "source": [
        "<a href=\"https://colab.research.google.com/github/prolin99/python_begin/blob/main/9%20%E8%A6%96%E7%AA%97%E7%95%8C%E9%9D%A2.ipynb\" target=\"_parent\"><img src=\"https://colab.research.google.com/assets/colab-badge.svg\" alt=\"Open In Colab\"/></a>"
      ]
    },
    {
      "cell_type": "markdown",
      "metadata": {
        "id": "ceFTTUURiCMv"
      },
      "source": [
        "# 視窗界面程式需在本地機中使用"
      ]
    },
    {
      "cell_type": "markdown",
      "metadata": {
        "id": "jIkmXbSrFhX_"
      },
      "source": [
        "## tkinter\r\n",
        "* windows 安裝 python 後已內建 tkinter 模組套件\r\n",
        "\r\n",
        "* [用 TK Inter 模組開始設計自己的程式介面吧！](https://medium.com/kung-%E7%9A%84%E6%97%A5%E5%B8%B8/python-%E5%AD%B8%E7%BF%92%E7%AD%86%E8%A8%98-010-%E7%94%A8-tk-inter-%E6%A8%A1%E7%B5%84%E9%96%8B%E5%A7%8B%E8%A8%AD%E8%A8%88%E8%87%AA%E5%B7%B1%E7%9A%84%E7%A8%8B%E5%BC%8F%E4%BB%8B%E9%9D%A2%E5%90%A7-aa5e2f92f351)\r\n",
        "\r\n",
        "* [中文影片教學](https://github.com/Proladon/Proladon_Python_Tkinter_Tutorial)\r\n",
        "\r\n",
        "* 三種排版方式\r\n",
        "> pack:依序排列（依視窗畫面大小自動調整） \r\n",
        ">\r\n",
        "> grid：使用格子分行列排列（依視窗畫面大小自動調整）\r\n",
        ">\r\n",
        "> place：指定 xy軸位置排列（不會依視窗大小而調整）。"
      ]
    },
    {
      "cell_type": "code",
      "metadata": {
        "id": "5rEdkdEGFMKg"
      },
      "source": [
        "import tkinter as tk\r\n",
        "\r\n",
        "#pack 依物件排列 side 分上下左右位置擺放\r\n",
        "\r\n",
        "class Window(tk.Tk):\r\n",
        "    def __init__(self):\r\n",
        "        super().__init__()\r\n",
        "        #視窗標題\r\n",
        "        self.title(\"Hello Tkinter\")\r\n",
        "        \r\n",
        "        #字串標題列 text 文字 bg 背景色\r\n",
        "        self.label = tk.Label(self, text=\"Hello World!\" , bg=\"red\")\r\n",
        "        # fill  expand  padx 水平軸間隔（左,右）\r\n",
        "        self.label.pack(fill=tk.BOTH, expand=1, padx=100, pady=50)\r\n",
        "\r\n",
        "        #按鍵 text 文字 height, width 高寬字數 command 點擊後執行函數\r\n",
        "        self.btn = tk.Button(self, text='say hello' , height=2 , width=10 , command= self.say_hello)\r\n",
        "        self.btn.pack(side=tk.LEFT,padx=(20,0), pady=(0,20))\r\n",
        "\r\n",
        "        self.btn_exit = tk.Button(self, text='close' ,height=2 , width=10 , command= self.close )\r\n",
        "        self.btn_exit.pack(side=tk.RIGHT,padx=(0,20), pady=(0,20))\r\n",
        "\r\n",
        "    def say_hello(self):\r\n",
        "        # label 可被修改\r\n",
        "        self.label.configure(text= \"button Clicked\")\r\n",
        "\r\n",
        "    def close(self):\r\n",
        "        #視窗結束\r\n",
        "        self.destroy()\r\n",
        "\r\n",
        "\r\n",
        "if __name__ == \"__main__\":\r\n",
        "    window = Window()\r\n",
        "    window.mainloop()"
      ],
      "execution_count": null,
      "outputs": []
    },
    {
      "cell_type": "code",
      "metadata": {
        "id": "Dre3u3uBozuT"
      },
      "source": [
        "import tkinter as tk\n",
        "\n",
        "#grid (格狀分列)\n",
        "\n",
        "class Window(tk.Tk):\n",
        "    def __init__(self):\n",
        "        super().__init__()\n",
        "        #視窗標題\n",
        "        self.title(\"Hello Tkinter\")\n",
        "        self.geometry(\"400x220\")\n",
        "\n",
        "        #上下間隔 20\n",
        "        self.rowconfigure(0, pad=20)\n",
        "\n",
        "        self.label1 = tk.Label(self)\n",
        "        self.label1[\"text\"] = 'Name'\n",
        "        self.label1.grid(row=0 , column= 0 )\n",
        "\n",
        "        self.entry_name = tk.Entry()\n",
        "        self.entry_name.grid(row=0 , column= 1)\n",
        "\n",
        "        # weight =1 可依畫面大小移動調整\n",
        "        self.rowconfigure(1, weight=1)\n",
        "        \n",
        "        self.label2 = tk.Label(self)\n",
        "        self.label2[\"text\"] = 'Password'\n",
        "        self.label2.grid(row=1 , column= 0 )\n",
        "\n",
        "        self.entry_pwd = tk.Entry()\n",
        "        self.entry_pwd.grid(row=1 , column= 1)\n",
        "\n",
        "        #sticky NWSE 對齊方向\n",
        "        self.button = tk.Button(self)\n",
        "        self.button[\"text\"] = \"real name\"\n",
        "        self.button[\"command\"] = self.say_hello\n",
        "        self.button.grid(row=2, column=1 ,sticky=tk.W + tk.N)\n",
        "\n",
        "        #預設置中\n",
        "        self.button2 = tk.Button(self)\n",
        "        self.button2[\"text\"] = \"close\"\n",
        "        self.button2[\"command\"] = self.close\n",
        "        self.button2.grid(row=3, column=1   )\n",
        "\n",
        "\n",
        "    def say_hello(self):\n",
        "        # label 可被修改\n",
        "        self.label1.configure(text= \"real name\")\n",
        "\n",
        "    def close(self):\n",
        "        #視窗結束\n",
        "        self.destroy()\n",
        "\n",
        "\n",
        "if __name__ == \"__main__\":\n",
        "    window = Window()\n",
        "    window.mainloop()"
      ],
      "execution_count": null,
      "outputs": []
    },
    {
      "cell_type": "code",
      "metadata": {
        "id": "XgIwsacgsU5n"
      },
      "source": [
        "import tkinter as tk\n",
        "\n",
        "#place (xy)\n",
        "\n",
        "class Window(tk.Tk):\n",
        "    def __init__(self):\n",
        "        super().__init__()\n",
        "        #視窗標題\n",
        "        self.title(\"Hello Tkinter\")\n",
        "        self.geometry(\"400x220\")\n",
        "\n",
        "        self.label1 = tk.Label(self)\n",
        "        self.label1[\"text\"] = 'Name'\n",
        "        self.label1.place(x = 20, y = 30  , width=120 )\n",
        "\n",
        "\n",
        "        self.entry_name = tk.Entry()\n",
        "        self.entry_name.place(x = 150, y = 30  , width=120 )\n",
        "\n",
        "        self.label2 = tk.Label(self)\n",
        "        self.label2[\"text\"] = 'Password'\n",
        "        self.label2.place(x = 20, y = 70  , width=120, height=25)\n",
        "\n",
        "        self.entry_pwd = tk.Entry()\n",
        "        self.entry_pwd.place(x = 150, y = 70  , width=120, height=25)\n",
        "\n",
        "\n",
        "        #sticky NWSE 對齊方向\n",
        "        self.button = tk.Button(self)\n",
        "        self.button[\"text\"] = \"real name\"\n",
        "        self.button[\"command\"] = self.say_hello\n",
        "        self.button.place(x = 40, y = 120  )\n",
        "\n",
        "        #預設置中\n",
        "        self.button2 = tk.Button(self)\n",
        "        self.button2[\"text\"] = \"close\"\n",
        "        self.button2[\"command\"] = self.close\n",
        "        self.button2.place(x = 160, y = 120  )\n",
        "\n",
        "\n",
        "\n",
        "    def say_hello(self):\n",
        "        # label 可被修改\n",
        "        self.label1.configure(text= \"real name\")\n",
        "\n",
        "    def close(self):\n",
        "        #視窗結束\n",
        "        self.destroy()\n",
        "\n",
        "\n",
        "if __name__ == \"__main__\":\n",
        "    window = Window()\n",
        "    window.mainloop()"
      ],
      "execution_count": null,
      "outputs": []
    },
    {
      "cell_type": "markdown",
      "metadata": {
        "id": "x_YbwDi2inOX"
      },
      "source": [
        "## easygui\n",
        "* pip install easygui"
      ]
    },
    {
      "cell_type": "code",
      "metadata": {
        "id": "HyqeCQTHinp9"
      },
      "source": [
        "import easygui\r\n",
        "\r\n",
        "easygui.msgbox(\"Hello there!\")\r\n",
        "#取得輸入資料，並出現\r\n",
        "\r\n",
        "from easygui import *\r\n",
        "\r\n",
        "reply = enterbox('sssss')\r\n",
        "msgbox( reply)"
      ],
      "execution_count": null,
      "outputs": []
    },
    {
      "cell_type": "markdown",
      "metadata": {
        "id": "A6ajlGB1i2zC"
      },
      "source": [
        "## Kivy\r\n",
        "* [Kivy 官方網站](https://kivy.org/#home)\r\n",
        "* pip install kivy \r\n",
        "\r\n",
        "\r\n",
        "\r\n",
        "* [Python Kivy App 遊戲實作](https://sites.google.com/gapps.ntnu.edu.tw/ntnucsie-highschool/%E9%A6%96%E9%A0%81/%E5%B0%88%E6%A1%88%E5%AF%A6%E4%BD%9C/python-kivy-app%E9%81%8A%E6%88%B2%E5%AF%A6%E4%BD%9C)"
      ]
    },
    {
      "cell_type": "code",
      "metadata": {
        "id": "dkKw4N38lO0I"
      },
      "source": [
        "from kivy.app import App\r\n",
        "from kivy.uix.button import Button\r\n",
        "\r\n",
        "class TestApp(App):\r\n",
        "  def build(self):\r\n",
        "    return Button(text='Hello World')\r\n",
        "\r\n",
        "TestApp().run()"
      ],
      "execution_count": null,
      "outputs": []
    },
    {
      "cell_type": "markdown",
      "metadata": {
        "id": "d7x8KS7LlgZz"
      },
      "source": [
        "## PySide6\r\n",
        "* 使用 QT ,有界面繪製工具(類似 VB)。\r\n",
        "* 有免費版，但版權使用可能需注意\r\n",
        "> pip install PySide6"
      ]
    }
  ]
}