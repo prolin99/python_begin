{
  "nbformat": 4,
  "nbformat_minor": 0,
  "metadata": {
    "colab": {
      "name": "視窗界面.ipynb",
      "provenance": [],
      "authorship_tag": "ABX9TyPquVRdFUKhVeqY2tfrL7+V",
      "include_colab_link": true
    },
    "kernelspec": {
      "name": "python3",
      "display_name": "Python 3"
    }
  },
  "cells": [
    {
      "cell_type": "markdown",
      "metadata": {
        "id": "view-in-github",
        "colab_type": "text"
      },
      "source": [
        "<a href=\"https://colab.research.google.com/github/prolin99/python_begin/blob/main/9%20%E8%A6%96%E7%AA%97%E7%95%8C%E9%9D%A2.ipynb\" target=\"_parent\"><img src=\"https://colab.research.google.com/assets/colab-badge.svg\" alt=\"Open In Colab\"/></a>"
      ]
    },
    {
      "cell_type": "markdown",
      "metadata": {
        "id": "ceFTTUURiCMv"
      },
      "source": [
        "# 視窗界面程式需在本地機中使用"
      ]
    },
    {
      "cell_type": "markdown",
      "metadata": {
        "id": "jIkmXbSrFhX_"
      },
      "source": [
        "## tkinter\r\n",
        "\r\n"
      ]
    },
    {
      "cell_type": "code",
      "metadata": {
        "id": "5rEdkdEGFMKg"
      },
      "source": [
        "from tkinter import *\r\n",
        "\r\n",
        "class Application(Frame):\r\n",
        "    def __init__(self,master=None):\r\n",
        "        Frame.__init__(self, master)\r\n",
        "        self.grid()\r\n",
        "        self.createrWidgets()\r\n",
        "\r\n",
        "    def createrWidgets(self):\r\n",
        "        self.quitButton = Button(self,text=\"quit\",command= self.quit)\r\n",
        "        self.quitButton.grid()\r\n",
        "\r\n",
        " \r\n",
        "app = Application( )\r\n",
        "app.master.title(\"tkinter widgets\")\r\n",
        "app.mainloop()"
      ],
      "execution_count": null,
      "outputs": []
    },
    {
      "cell_type": "markdown",
      "metadata": {
        "id": "x_YbwDi2inOX"
      },
      "source": [
        "## easygui"
      ]
    },
    {
      "cell_type": "code",
      "metadata": {
        "id": "HyqeCQTHinp9"
      },
      "source": [
        "import easygui\r\n",
        "\r\n",
        "easygui.msgbox(\"Hello there!\")\r\n",
        "#取得輸入資料，並出現\r\n",
        "\r\n",
        "from easygui import *\r\n",
        "\r\n",
        "reply = enterbox('sssss')\r\n",
        "msgbox( reply)"
      ],
      "execution_count": null,
      "outputs": []
    },
    {
      "cell_type": "markdown",
      "metadata": {
        "id": "A6ajlGB1i2zC"
      },
      "source": [
        "## Kivy\r\n",
        "[Kivy 官方網站](https://kivy.org/#home)\r\n"
      ]
    },
    {
      "cell_type": "code",
      "metadata": {
        "id": "dkKw4N38lO0I"
      },
      "source": [
        "from kivy.app import App\r\n",
        "from kivy.uix.button import Button\r\n",
        "\r\n",
        "class TestApp(App):\r\n",
        "  def build(self):\r\n",
        "    return Button(text='Hello World')\r\n",
        "\r\n",
        "TestApp().run()"
      ],
      "execution_count": null,
      "outputs": []
    },
    {
      "cell_type": "markdown",
      "metadata": {
        "id": "d7x8KS7LlgZz"
      },
      "source": [
        "## PySide6\r\n",
        "* 使用 QT ,有界面繪製工具(類似 VB)。\r\n",
        "* 有免費版，但版權使用可能需注意\r\n",
        "> pip install PySide6"
      ]
    }
  ]
}