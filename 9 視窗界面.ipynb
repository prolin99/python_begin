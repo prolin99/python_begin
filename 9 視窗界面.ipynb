{
  "nbformat": 4,
  "nbformat_minor": 0,
  "metadata": {
    "colab": {
      "name": "視窗界面.ipynb",
      "provenance": [],
      "collapsed_sections": [],
      "authorship_tag": "ABX9TyNWqGSs0ireQG2jEbVa2A+3",
      "include_colab_link": true
    },
    "kernelspec": {
      "name": "python3",
      "display_name": "Python 3"
    }
  },
  "cells": [
    {
      "cell_type": "markdown",
      "metadata": {
        "id": "view-in-github",
        "colab_type": "text"
      },
      "source": [
        "<a href=\"https://colab.research.google.com/github/prolin99/python_begin/blob/main/9%20%E8%A6%96%E7%AA%97%E7%95%8C%E9%9D%A2.ipynb\" target=\"_parent\"><img src=\"https://colab.research.google.com/assets/colab-badge.svg\" alt=\"Open In Colab\"/></a>"
      ]
    },
    {
      "cell_type": "markdown",
      "metadata": {
        "id": "ceFTTUURiCMv"
      },
      "source": [
        "# 視窗界面程式需在本地機中使用"
      ]
    },
    {
      "cell_type": "markdown",
      "metadata": {
        "id": "jIkmXbSrFhX_"
      },
      "source": [
        "## tkinter\r\n",
        "* windows 安裝 python 後已內建 tkinter 模組套件\r\n",
        "\r\n",
        "* [用 TK Inter 模組開始設計自己的程式介面吧！](https://medium.com/kung-%E7%9A%84%E6%97%A5%E5%B8%B8/python-%E5%AD%B8%E7%BF%92%E7%AD%86%E8%A8%98-010-%E7%94%A8-tk-inter-%E6%A8%A1%E7%B5%84%E9%96%8B%E5%A7%8B%E8%A8%AD%E8%A8%88%E8%87%AA%E5%B7%B1%E7%9A%84%E7%A8%8B%E5%BC%8F%E4%BB%8B%E9%9D%A2%E5%90%A7-aa5e2f92f351)"
      ]
    },
    {
      "cell_type": "code",
      "metadata": {
        "id": "5rEdkdEGFMKg"
      },
      "source": [
        "from tkinter import *\r\n",
        "\r\n",
        "class Application(Frame):\r\n",
        "    def __init__(self,master=None):\r\n",
        "        Frame.__init__(self, master)\r\n",
        "        self.grid()\r\n",
        "        self.createrWidgets()\r\n",
        "\r\n",
        "    def createrWidgets(self):\r\n",
        "        self.quitButton = Button(self,text=\"quit\",command= self.quit)\r\n",
        "        self.quitButton.grid()\r\n",
        "\r\n",
        " \r\n",
        "app = Application( )\r\n",
        "app.master.title(\"tkinter widgets\")\r\n",
        "app.mainloop()"
      ],
      "execution_count": null,
      "outputs": []
    },
    {
      "cell_type": "markdown",
      "metadata": {
        "id": "x_YbwDi2inOX"
      },
      "source": [
        "## easygui\n",
        "* pip install easygui"
      ]
    },
    {
      "cell_type": "code",
      "metadata": {
        "id": "HyqeCQTHinp9"
      },
      "source": [
        "import easygui\r\n",
        "\r\n",
        "easygui.msgbox(\"Hello there!\")\r\n",
        "#取得輸入資料，並出現\r\n",
        "\r\n",
        "from easygui import *\r\n",
        "\r\n",
        "reply = enterbox('sssss')\r\n",
        "msgbox( reply)"
      ],
      "execution_count": null,
      "outputs": []
    },
    {
      "cell_type": "markdown",
      "metadata": {
        "id": "A6ajlGB1i2zC"
      },
      "source": [
        "## Kivy\r\n",
        "[Kivy 官方網站](https://kivy.org/#home)\r\n"
      ]
    },
    {
      "cell_type": "code",
      "metadata": {
        "id": "dkKw4N38lO0I"
      },
      "source": [
        "from kivy.app import App\r\n",
        "from kivy.uix.button import Button\r\n",
        "\r\n",
        "class TestApp(App):\r\n",
        "  def build(self):\r\n",
        "    return Button(text='Hello World')\r\n",
        "\r\n",
        "TestApp().run()"
      ],
      "execution_count": null,
      "outputs": []
    },
    {
      "cell_type": "markdown",
      "metadata": {
        "id": "d7x8KS7LlgZz"
      },
      "source": [
        "## PySide6\r\n",
        "* 使用 QT ,有界面繪製工具(類似 VB)。\r\n",
        "* 有免費版，但版權使用可能需注意\r\n",
        "> pip install PySide6"
      ]
    }
  ]
}